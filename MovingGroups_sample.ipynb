{
 "cells": [
  {
   "cell_type": "code",
   "execution_count": 10,
   "metadata": {},
   "outputs": [],
   "source": [
    "import numpy as np\n",
    "import matplotlib.pyplot as plt\n",
    "from astropy.io import fits\n",
    "from astropy.table import Table\n",
    "from astro import calc_abs_mag\n",
    "from coord import *\n",
    "from sptselection import *\n",
    "import pandas as pd"
   ]
  },
  {
   "cell_type": "code",
   "execution_count": 3,
   "metadata": {},
   "outputs": [
    {
     "data": {
      "text/plain": [
       "'\\nage_praesepe,age_praesepe_error = 650,50\\nage_hyades,age_hyades_error = 750,100\\nage_pleiades,age_pleiades_error = 112,5 \\nage_m34,age_m34_error = 240,15*240/100\\nage_betapic,age_betapic_error = 24,3\\nage_twa,age_twa_error = 10,3\\nage_tha,age_tha_error = 45,4\\nage_col,age_col_error = 42,6\\nage_car,age_car_error = 45,11\\nage_arg,age_arg_error = 40,11 #?\\nage_abdmg,age_abdmg_error = 149,51\\nage_carn,age_carn_error = 200,50 #error?\\nage_cber,age_cber_error = 562,98\\nage_tau,age_tau_error = 1.5,0.5\\nage_usco,age_usco_error = 10,3\\nage_uma,age_uma_error = 414,23\\nage_etac,age_etac_error = 11,3\\nage_epsc,age_epsc_error = 3.7,4.6\\nage_oct,age_oct_error = 35,5\\nage_lcc,age_lcc_error = 15,3\\nage_roph,age_roph_error = 2,2\\nage_ic248,age_ic248_error = np.nan,np.nan\\nage_chaI,age_chaI_error = np.nan,np.nan\\nage_rcra,age_rcra_error = np.nan,np.nan\\nage_thor,age_thor_error = 22,4\\nage_ucl, age_ucl_error = 16,2\\nage_ucra, age_ucra_error = 10,5\\n'"
      ]
     },
     "execution_count": 3,
     "metadata": {},
     "output_type": "execute_result"
    }
   ],
   "source": [
    "'''\n",
    "age_praesepe,age_praesepe_error = 650,50\n",
    "age_hyades,age_hyades_error = 750,100\n",
    "age_pleiades,age_pleiades_error = 112,5 \n",
    "age_m34,age_m34_error = 240,15*240/100\n",
    "age_betapic,age_betapic_error = 24,3\n",
    "age_twa,age_twa_error = 10,3\n",
    "age_tha,age_tha_error = 45,4\n",
    "age_col,age_col_error = 42,6\n",
    "age_car,age_car_error = 45,11\n",
    "age_arg,age_arg_error = 40,11 #?\n",
    "age_abdmg,age_abdmg_error = 149,51\n",
    "age_carn,age_carn_error = 200,50 #error?\n",
    "age_cber,age_cber_error = 562,98\n",
    "age_tau,age_tau_error = 1.5,0.5\n",
    "age_usco,age_usco_error = 10,3\n",
    "age_uma,age_uma_error = 414,23\n",
    "age_etac,age_etac_error = 11,3\n",
    "age_epsc,age_epsc_error = 3.7,4.6\n",
    "age_oct,age_oct_error = 35,5\n",
    "age_lcc,age_lcc_error = 15,3\n",
    "age_roph,age_roph_error = 2,2\n",
    "age_ic248,age_ic248_error = np.nan,np.nan\n",
    "age_chaI,age_chaI_error = np.nan,np.nan\n",
    "age_rcra,age_rcra_error = np.nan,np.nan\n",
    "age_thor,age_thor_error = 22,4\n",
    "age_ucl, age_ucl_error = 16,2\n",
    "age_ucra, age_ucra_error = 10,5\n",
    "'''"
   ]
  },
  {
   "cell_type": "code",
   "execution_count": 4,
   "metadata": {},
   "outputs": [
    {
     "data": {
      "text/plain": [
       "\"\\npraesepe_ref = '\\\\citet{Douglas2019}'\\nhyades_ref = '\\\\citet{Brandt2015}'\\npleiades_ref = '\\\\citet{Dahm2015}'\\nm34_ref = '\\\\citet{Fang2018}'\\nbetapic_ref = '\\\\citet{Bell2015}'\\ntwa_ref = '\\\\citet{Bell2015}'\\ntha_ref = '\\\\citet{Bell2015}'\\ncol_ref = '\\\\citet{Bell2015}'\\ncar_ref = '\\\\citet{Bell2015}'\\narg_ref = '\\\\citet{?}'\\nabdmg_ref = '\\\\citet{Bell2015}'\\ncarn_ref = '\\\\citet{Zuckerman2006}'\\ncber_ref = '\\\\citet{Silaj2014}'\\ntau_ref = '\\\\citet{?}'\\nusco_ref = '\\\\citet{Pecaut2016}'\\numa_ref = '\\\\citet{Jones2015b}'\\netac_ref = '\\\\citet{Bell2015}'\\nepsc_ref = '\\\\citet{Murphy2015}'\\noct_ref = '\\\\citet{Murphy2015}'\\nlcc_ref = '\\\\citet{Pecaut2016}'\\nroph_ref = '\\\\citet{Wilking2008}'\\nthor_ref = '\\\\citet{Bell2015}'\\nucl_ref = '\\\\citet{Pecaut2016}'\\nucra_ref = '\\\\citet{Gagne2016}'\\n\""
      ]
     },
     "execution_count": 4,
     "metadata": {},
     "output_type": "execute_result"
    }
   ],
   "source": [
    "'''\n",
    "praesepe_ref = '\\\\citet{Douglas2019}'\n",
    "hyades_ref = '\\\\citet{Brandt2015}'\n",
    "pleiades_ref = '\\\\citet{Dahm2015}'\n",
    "m34_ref = '\\\\citet{Fang2018}'\n",
    "betapic_ref = '\\\\citet{Bell2015}'\n",
    "twa_ref = '\\\\citet{Bell2015}'\n",
    "tha_ref = '\\\\citet{Bell2015}'\n",
    "col_ref = '\\\\citet{Bell2015}'\n",
    "car_ref = '\\\\citet{Bell2015}'\n",
    "arg_ref = '\\\\citet{?}'\n",
    "abdmg_ref = '\\\\citet{Bell2015}'\n",
    "carn_ref = '\\\\citet{Zuckerman2006}'\n",
    "cber_ref = '\\\\citet{Silaj2014}'\n",
    "tau_ref = '\\\\citet{?}'\n",
    "usco_ref = '\\\\citet{Pecaut2016}'\n",
    "uma_ref = '\\\\citet{Jones2015b}'\n",
    "etac_ref = '\\\\citet{Bell2015}'\n",
    "epsc_ref = '\\\\citet{Murphy2015}'\n",
    "oct_ref = '\\\\citet{Murphy2015}'\n",
    "lcc_ref = '\\\\citet{Pecaut2016}'\n",
    "roph_ref = '\\\\citet{Wilking2008}'\n",
    "thor_ref = '\\\\citet{Bell2015}'\n",
    "ucl_ref = '\\\\citet{Pecaut2016}'\n",
    "ucra_ref = '\\\\citet{Gagne2016}'\n",
    "'''"
   ]
  },
  {
   "cell_type": "code",
   "execution_count": 5,
   "metadata": {},
   "outputs": [
    {
     "data": {
      "text/plain": [
       "'\\npraesepe_num = 1\\nhyades_num = 2\\npleiades_num = 3\\nm34_num = 4\\nbetapic_num = 5\\ntwa_num = 6\\ntha_num = 7\\ncol_num = 8\\ncar_num = 9\\narg_num = 10\\nabdmg_num = 11\\ncarn_num = 12\\ncber_num = 13\\ntau_num = 14\\nusco_num = 15\\numa_num = 16\\netac_num = 17\\nepsc_num = 18\\noct_num = 19\\nthor_num = 20\\nucl_num = 21\\nucra_num = 22\\n\\nvca_num = 20\\ncra_num = 21\\ntau118_num = 22\\nic2391_num = 23\\nic2602_num = 24\\nlcc_num = 25\\npl8_num =26\\nroph_num = 27\\nxfor_num = 32\\n\\nic248_num = np.nan\\nchaI_num = np.nan\\nrcra_num = np.nan\\n'"
      ]
     },
     "execution_count": 5,
     "metadata": {},
     "output_type": "execute_result"
    }
   ],
   "source": [
    "'''\n",
    "praesepe_num = 1\n",
    "hyades_num = 2\n",
    "pleiades_num = 3\n",
    "m34_num = 4\n",
    "betapic_num = 5\n",
    "twa_num = 6\n",
    "tha_num = 7\n",
    "col_num = 8\n",
    "car_num = 9\n",
    "arg_num = 10\n",
    "abdmg_num = 11\n",
    "carn_num = 12\n",
    "cber_num = 13\n",
    "tau_num = 14\n",
    "usco_num = 15\n",
    "uma_num = 16\n",
    "etac_num = 17\n",
    "epsc_num = 18\n",
    "oct_num = 19\n",
    "thor_num = 20\n",
    "ucl_num = 21\n",
    "ucra_num = 22\n",
    "\n",
    "vca_num = 20\n",
    "cra_num = 21\n",
    "tau118_num = 22\n",
    "ic2391_num = 23\n",
    "ic2602_num = 24\n",
    "lcc_num = 25\n",
    "pl8_num =26\n",
    "roph_num = 27\n",
    "xfor_num = 32\n",
    "\n",
    "ic248_num = np.nan\n",
    "chaI_num = np.nan\n",
    "rcra_num = np.nan\n",
    "'''"
   ]
  },
  {
   "cell_type": "code",
   "execution_count": 6,
   "metadata": {},
   "outputs": [],
   "source": [
    "#mg_ref = Table()"
   ]
  },
  {
   "cell_type": "code",
   "execution_count": 7,
   "metadata": {},
   "outputs": [
    {
     "data": {
      "text/plain": [
       "\"\\nmg_ref['name'] = ['PRA','HYA','PLE','M34','BPMG','TWA','THA','COL','CAR','ARG','ABDMG','CARN','CBER','TAU',\\n                  'USCO','UMA','ETAC','EPSC','OCT','LCC','ROPH','THOR','UCL','UCRA']\\nmg_ref['num'] = [praesepe_num,hyades_num, pleiades_num, m34_num, betapic_num, twa_num, tha_num, col_num, car_num, \\n                 arg_num, abdmg_num, carn_num, cber_num, tau_num, usco_num, uma_num,etac_num,epsc_num,oct_num,\\n                 lcc_num,roph_num,thor_num,ucl_num,ucra_num]\\nmg_ref['age_ref'] = [praesepe_ref,hyades_ref, pleiades_ref, m34_ref, betapic_ref, twa_ref, tha_ref, col_ref, car_ref, \\n                 arg_ref, abdmg_ref, carn_ref, cber_ref, tau_ref, usco_ref, uma_ref,etac_ref,epsc_ref,oct_ref,\\n                    lcc_ref,roph_ref,thor_ref,ucl_ref,ucra_ref]\\nmg_ref['age'] = [age_praesepe,age_hyades,age_pleiades,age_m34,age_betapic,age_twa,age_tha,age_col,age_car,age_arg,\\n                 age_abdmg,age_carn,age_cber,age_tau,age_usco, age_uma,age_etac,age_epsc,age_oct,age_lcc,\\n                 age_roph,age_thor,age_ucl,age_ucra]\\nmg_ref['age_error'] = [age_praesepe_error,age_hyades_error,age_pleiades_error,age_m34_error,age_betapic_error\\n                       ,age_twa_error,age_tha_error,age_col_error,age_car_error,age_arg_error,age_abdmg_error\\n                       ,age_carn_error,age_cber_error,age_tau_error,age_usco_error,age_uma_error,\\n                       age_etac_error,age_epsc_error,age_oct_error,age_lcc_error,\\n                       age_roph_error,age_thor_error,age_ucl_error,age_ucra_error]\\n                       \""
      ]
     },
     "execution_count": 7,
     "metadata": {},
     "output_type": "execute_result"
    }
   ],
   "source": [
    "'''\n",
    "mg_ref['name'] = ['PRA','HYA','PLE','M34','BPMG','TWA','THA','COL','CAR','ARG','ABDMG','CARN','CBER','TAU',\n",
    "                  'USCO','UMA','ETAC','EPSC','OCT','LCC','ROPH','THOR','UCL','UCRA']\n",
    "mg_ref['num'] = [praesepe_num,hyades_num, pleiades_num, m34_num, betapic_num, twa_num, tha_num, col_num, car_num, \n",
    "                 arg_num, abdmg_num, carn_num, cber_num, tau_num, usco_num, uma_num,etac_num,epsc_num,oct_num,\n",
    "                 lcc_num,roph_num,thor_num,ucl_num,ucra_num]\n",
    "mg_ref['age_ref'] = [praesepe_ref,hyades_ref, pleiades_ref, m34_ref, betapic_ref, twa_ref, tha_ref, col_ref, car_ref, \n",
    "                 arg_ref, abdmg_ref, carn_ref, cber_ref, tau_ref, usco_ref, uma_ref,etac_ref,epsc_ref,oct_ref,\n",
    "                    lcc_ref,roph_ref,thor_ref,ucl_ref,ucra_ref]\n",
    "mg_ref['age'] = [age_praesepe,age_hyades,age_pleiades,age_m34,age_betapic,age_twa,age_tha,age_col,age_car,age_arg,\n",
    "                 age_abdmg,age_carn,age_cber,age_tau,age_usco, age_uma,age_etac,age_epsc,age_oct,age_lcc,\n",
    "                 age_roph,age_thor,age_ucl,age_ucra]\n",
    "mg_ref['age_error'] = [age_praesepe_error,age_hyades_error,age_pleiades_error,age_m34_error,age_betapic_error\n",
    "                       ,age_twa_error,age_tha_error,age_col_error,age_car_error,age_arg_error,age_abdmg_error\n",
    "                       ,age_carn_error,age_cber_error,age_tau_error,age_usco_error,age_uma_error,\n",
    "                       age_etac_error,age_epsc_error,age_oct_error,age_lcc_error,\n",
    "                       age_roph_error,age_thor_error,age_ucl_error,age_ucra_error]\n",
    "                       '''"
   ]
  },
  {
   "cell_type": "code",
   "execution_count": 8,
   "metadata": {},
   "outputs": [],
   "source": [
    "#mg_ref.write('Catalogs/movinggroups_ref.fits',format='fits',overwrite=True)\n",
    "#mg_ref.write('../../M-dwarfs-Age-Activity-Relation/Catalogs/movinggroups_ref.fits',format='fits',overwrite=True)"
   ]
  },
  {
   "cell_type": "markdown",
   "metadata": {},
   "source": [
    "## Load references for moving groups"
   ]
  },
  {
   "cell_type": "code",
   "execution_count": 11,
   "metadata": {},
   "outputs": [],
   "source": [
    "mg_ref = Table.read('Catalogs/moving_groups_ref.csv',format='csv')"
   ]
  },
  {
   "cell_type": "code",
   "execution_count": 12,
   "metadata": {},
   "outputs": [],
   "source": [
    "source_ref = Table.read('Catalogs/source_ref.csv',format='csv')"
   ]
  },
  {
   "cell_type": "code",
   "execution_count": 10,
   "metadata": {},
   "outputs": [],
   "source": [
    "'''\n",
    "num_douglas2014_p = 1\n",
    "num_douglas2014_h = 2\n",
    "num_fang2018 = 3\n",
    "num_malo2014 = 4\n",
    "num_mlsdss = 5\n",
    "num_shkolnik2017 = 6\n",
    "num_kraus2014 = 7\n",
    "num_bouy2009 = 8\n",
    "num_riedel2014 = 9\n",
    "num_shkolnik2009 = 10\n",
    "num_shkolnik2011 = 11\n",
    "num_rodriguez2014 = 12\n",
    "num_schneider2012 = 13\n",
    "num_torres2006 = 14\n",
    "num_jayawardhana2006 = 15\n",
    "num_song2003 = 16\n",
    "num_feigelson2003 = 17\n",
    "num_elliott2016 = 18\n",
    "num_mochnacki2002 = 19\n",
    "num_mohanty2004 = 20\n",
    "num_lawson2004 = 21\n",
    "num_lyo2004 = 22\n",
    "num_song2004 = 23\n",
    "num_murphy2010 = 24\n",
    "num_riaz2006 = 25\n",
    "num_reiners2010 = 26\n",
    "'''"
   ]
  },
  {
   "cell_type": "markdown",
   "metadata": {},
   "source": [
    "## Set infrastructure"
   ]
  },
  {
   "cell_type": "code",
   "execution_count": 13,
   "metadata": {},
   "outputs": [],
   "source": [
    "ra_all,dec_all,spt_all = [],[],[]\n",
    "ewha_all,ewha_err_all = [],[]\n",
    "lhalbol_all,lhalbol_err_all = [],[]\n",
    "age_all,age_err_all = [],[]\n",
    "group_num_all,group_name_all = [],[]\n",
    "source_num_all,source_ref_all = [],[]"
   ]
  },
  {
   "cell_type": "markdown",
   "metadata": {},
   "source": [
    "## Douglas 2014: Praesepe"
   ]
  },
  {
   "cell_type": "code",
   "execution_count": 14,
   "metadata": {},
   "outputs": [],
   "source": [
    "douglas2014_p = fits.open('Catalogs/Douglas2014_praesepe.fit')"
   ]
  },
  {
   "cell_type": "code",
   "execution_count": 15,
   "metadata": {},
   "outputs": [],
   "source": [
    "N_douglas2014_p = len(douglas2014_p[1].data['_RAJ2000'])\n",
    "ra_douglas2014_p = douglas2014_p[1].data['_RAJ2000']\n",
    "dec_douglas2014_p = douglas2014_p[1].data['_DEJ2000']\n",
    "spt_douglas2014_p = organize_spt(douglas2014_p[1].data['SpType'])\n",
    "ewha_douglas2014_p = douglas2014_p[1].data['EW']*-1\n",
    "ewha_err_douglas2014_p = douglas2014_p[1].data['e_EW']\n",
    "lhalbol_douglas2014_p = douglas2014_p[1].data['Lum']*1e-5\n",
    "lhalbol_err_douglas2014_p = douglas2014_p[1].data['e_Lum']*1e-5\n",
    "kmag_douglas2014_p = douglas2014_p[1].data['Kmag']\n",
    "kmag_err_douglas2014_p = douglas2014_p[1].data['e_Kmag']\n",
    "age_douglas2014_p = np.ones(N_douglas2014_p)*mg_ref['age'][mg_ref['name']=='PRA'][0]\n",
    "age_err_douglas2014_p = np.ones(N_douglas2014_p)*mg_ref['age_error'][mg_ref['name']=='PRA'][0]\n",
    "group_num_douglas2014_p = np.ones(N_douglas2014_p)*mg_ref['group_num'][mg_ref['name']=='PRA'][0]\n",
    "group_name_douglas2014_p = np.array(['PRA' for x in range(N_douglas2014_p)])\n",
    "source_num_douglas2014_p = np.ones(N_douglas2014_p)*source_ref['source_num'][source_ref['source_ref']=='Douglas 2014'][0]\n",
    "source_ref_douglas2014_p = np.array(['Douglas 2014' for x in range(N_douglas2014_p)])"
   ]
  },
  {
   "cell_type": "code",
   "execution_count": 16,
   "metadata": {},
   "outputs": [],
   "source": [
    "for column in [ewha_douglas2014_p,ewha_err_douglas2014_p,lhalbol_douglas2014_p,lhalbol_err_douglas2014_p]:\n",
    "    mask = column == 0.0\n",
    "    column[mask] = np.nan\n",
    "    mask = column == -0.0\n",
    "    column[mask] = np.nan"
   ]
  },
  {
   "cell_type": "code",
   "execution_count": 17,
   "metadata": {},
   "outputs": [],
   "source": [
    "douglas2014_p.close()"
   ]
  },
  {
   "cell_type": "code",
   "execution_count": 18,
   "metadata": {},
   "outputs": [],
   "source": [
    "ra_all.append(ra_douglas2014_p) \n",
    "dec_all.append(dec_douglas2014_p)\n",
    "spt_all.append(spt_douglas2014_p)\n",
    "ewha_all.append(ewha_douglas2014_p)\n",
    "ewha_err_all.append(ewha_err_douglas2014_p)\n",
    "lhalbol_all.append(lhalbol_douglas2014_p)\n",
    "lhalbol_err_all.append(lhalbol_err_douglas2014_p)\n",
    "age_all.append(age_douglas2014_p)\n",
    "age_err_all.append(age_err_douglas2014_p)\n",
    "group_num_all.append(group_num_douglas2014_p)\n",
    "group_name_all.append(group_name_douglas2014_p)\n",
    "source_num_all.append(source_num_douglas2014_p)\n",
    "source_ref_all.append(source_ref_douglas2014_p)"
   ]
  },
  {
   "cell_type": "markdown",
   "metadata": {},
   "source": [
    "## Douglas 2014: Hyades"
   ]
  },
  {
   "cell_type": "code",
   "execution_count": 19,
   "metadata": {},
   "outputs": [],
   "source": [
    "douglas2014_h = fits.open('Catalogs/Douglas2014_hyades.fit')"
   ]
  },
  {
   "cell_type": "code",
   "execution_count": 20,
   "metadata": {},
   "outputs": [],
   "source": [
    "N_douglas2014_h = len(douglas2014_h[1].data['_RAJ2000'])\n",
    "ra_douglas2014_h = douglas2014_h[1].data['_RAJ2000']\n",
    "dec_douglas2014_h = douglas2014_h[1].data['_DEJ2000']\n",
    "spt_douglas2014_h = organize_spt(douglas2014_h[1].data['SpTypeH'])\n",
    "ewha_douglas2014_h = douglas2014_h[1].data['EW']*-1\n",
    "ewha_err_douglas2014_h = douglas2014_h[1].data['e_EW']\n",
    "lhalbol_douglas2014_h = douglas2014_h[1].data['Lum']*1e-5\n",
    "lhalbol_err_douglas2014_h = douglas2014_h[1].data['e_Lum']*1e-5\n",
    "kmag_douglas2014_h = douglas2014_h[1].data['Kmag']\n",
    "kmag_err_douglas2014_h = douglas2014_h[1].data['e_Kmag']\n",
    "age_douglas2014_h = np.ones(N_douglas2014_h)*mg_ref['age'][mg_ref['name']=='HYA'][0]\n",
    "age_err_douglas2014_h = np.ones(N_douglas2014_h)*mg_ref['age_error'][mg_ref['name']=='HYA'][0]\n",
    "group_num_douglas2014_h = np.ones(N_douglas2014_h)*mg_ref['group_num'][mg_ref['name']=='HYA'][0]\n",
    "group_name_douglas2014_h = np.array(['HYA' for x in range(N_douglas2014_h)])\n",
    "source_num_douglas2014_h = np.ones(N_douglas2014_h)*source_ref['source_num'][source_ref['source_ref']=='Douglas 2014'][0]\n",
    "source_ref_douglas2014_h = np.array(['Douglas 2014' for x in range(N_douglas2014_h)])"
   ]
  },
  {
   "cell_type": "code",
   "execution_count": 21,
   "metadata": {},
   "outputs": [],
   "source": [
    "for column in [ewha_douglas2014_h,ewha_err_douglas2014_h,lhalbol_douglas2014_h,lhalbol_err_douglas2014_h]:\n",
    "    mask = column == 0.0\n",
    "    column[mask] = np.nan\n",
    "    mask = column == -0.0\n",
    "    column[mask] = np.nan"
   ]
  },
  {
   "cell_type": "code",
   "execution_count": 22,
   "metadata": {},
   "outputs": [],
   "source": [
    "douglas2014_h.close()"
   ]
  },
  {
   "cell_type": "code",
   "execution_count": 23,
   "metadata": {},
   "outputs": [],
   "source": [
    "ra_all.append(ra_douglas2014_h) \n",
    "dec_all.append(dec_douglas2014_h)\n",
    "spt_all.append(spt_douglas2014_h)\n",
    "ewha_all.append(ewha_douglas2014_h)\n",
    "ewha_err_all.append(ewha_err_douglas2014_h)\n",
    "lhalbol_all.append(lhalbol_douglas2014_h)\n",
    "lhalbol_err_all.append(lhalbol_err_douglas2014_h)\n",
    "age_all.append(age_douglas2014_h)\n",
    "age_err_all.append(age_err_douglas2014_h)\n",
    "group_num_all.append(group_num_douglas2014_h)\n",
    "group_name_all.append(group_name_douglas2014_h)\n",
    "source_num_all.append(source_num_douglas2014_h)\n",
    "source_ref_all.append(source_ref_douglas2014_h)"
   ]
  },
  {
   "cell_type": "markdown",
   "metadata": {},
   "source": [
    "## Fang 2018: Pleiades, M34, Praesepe and Hyades"
   ]
  },
  {
   "cell_type": "code",
   "execution_count": 24,
   "metadata": {},
   "outputs": [],
   "source": [
    "file1 = pd.read_csv('Catalogs/Fang2018Table_F1_online.dat', sep=\"\\s+\")\n",
    "file2 = pd.read_csv('Catalogs/Fang2018Table_F2_online.dat', sep=\"\\s+\")\n",
    "file3 = pd.read_csv('Catalogs/Fang2018Table_F3_online.dat', sep=\"\\s+\")\n",
    "file4 = pd.read_csv('Catalogs/Fang2018Table_F4_online.dat', sep=\"\\s+\")"
   ]
  },
  {
   "cell_type": "code",
   "execution_count": 25,
   "metadata": {},
   "outputs": [],
   "source": [
    "N = len(file1['EWHa']) + len(file2['EWHa']) + len(file3['EWHa']) + len(file4['EWHa'])"
   ]
  },
  {
   "cell_type": "code",
   "execution_count": 26,
   "metadata": {},
   "outputs": [],
   "source": [
    "teff1 = file1['#Teff']\n",
    "ewha1 = file1['EWHa']\n",
    "multi1 = file1['multi'] == 0\n",
    "N1 = len(file1['EWHa'])\n",
    "group1 = np.array(['PLE' for x in range(N1)])\n",
    "group_num1 = np.ones(N1)*mg_ref['group_num'][mg_ref['name']=='PLE'][0]\n",
    "age1 = np.ones(N1)*mg_ref['age'][mg_ref['name']=='PLE'][0]\n",
    "age_err1 = np.ones(N1)*mg_ref['age_error'][mg_ref['name']=='PLE'][0]\n",
    "ra1 = file1['RAJ2000']\n",
    "dec1 = file1['DEJ2000']\n",
    "\n",
    "teff2 = file2['Teff']\n",
    "ewha2 = file2['EWHa']\n",
    "N2 = len(file2['EWHa'])\n",
    "multi2 = np.array([True for x in range(N2)])\n",
    "group2 = np.array(['M34' for x in range(N2)])\n",
    "group_num2 = np.ones(N2)*mg_ref['group_num'][mg_ref['name']=='M34'][0]\n",
    "age2 = np.ones(N2)*mg_ref['age'][mg_ref['name']=='M34'][0]\n",
    "age_err2 = np.ones(N2)*mg_ref['age_error'][mg_ref['name']=='M34'][0]\n",
    "ra2 = file2['RAJ2000']\n",
    "dec2 = file2['DEJ2000']\n",
    "\n",
    "teff3 = file3['Teff']\n",
    "ewha3 = file3['EWHa']\n",
    "N3 = len(file3['EWHa'])\n",
    "multi3 = np.array([True for x in range(N3)])\n",
    "group3 = np.array(['PRA' for x in range(N3)])\n",
    "group_num3 = np.ones(N3)*mg_ref['group_num'][mg_ref['name']=='PRA'][0]\n",
    "age3 = np.ones(N3)*mg_ref['age'][mg_ref['name']=='PRA'][0]\n",
    "age_err3 = np.ones(N3)*mg_ref['age_error'][mg_ref['name']=='PRA'][0]\n",
    "ra3 = file3['RAJ2000']\n",
    "dec3 = file3['DEJ2000']\n",
    "\n",
    "teff4 = file4['Teff']\n",
    "ewha4 = file4['EWHa']\n",
    "multi4 = file4['multi'] == 0\n",
    "N4 = len(file4['EWHa'])\n",
    "group4 = np.array(['HYA' for x in range(N4)])\n",
    "group_num4 = np.ones(N4)*mg_ref['group_num'][mg_ref['name']=='HYA'][0]\n",
    "age4 = np.ones(N4)*mg_ref['age'][mg_ref['name']=='HYA'][0]\n",
    "age_err4 = np.ones(N4)*mg_ref['age_error'][mg_ref['name']=='HYA'][0]\n",
    "ra4 = file4['RAJ2000']\n",
    "dec4 = file4['DEJ2000']"
   ]
  },
  {
   "cell_type": "code",
   "execution_count": 28,
   "metadata": {},
   "outputs": [],
   "source": [
    "ra_fang2018 = np.concatenate((ra1[multi1],ra2[multi2],ra3[multi3],ra4[multi4]))\n",
    "dec_fang2018 = np.concatenate((dec1[multi1],dec2[multi2],dec3[multi3],dec4[multi4]))\n",
    "N_fang2018 = len(dec_fang2018)\n",
    "spt_fang2018 = np.nan*np.ones(N_fang2018)\n",
    "ewha_fang2018 = np.concatenate((ewha1[multi1],ewha2[multi2],ewha3[multi3],ewha4[multi4]))\n",
    "ewha_err_fang2018 = 0.5*np.ones(N_fang2018)\n",
    "lhalbol_fang2018 = np.nan*np.ones(N_fang2018)\n",
    "lhalbol_err_fang2018 = np.nan*np.ones(N_fang2018)\n",
    "kmag_fang2018 = np.nan*np.ones(N_fang2018)\n",
    "kmag_err_fang2018 = np.nan*np.ones(N_fang2018)\n",
    "age_fang2018 = np.concatenate((age1[multi1],age2[multi2],age3[multi3],age4[multi4]))\n",
    "age_err_fang2018 = np.concatenate((age_err1[multi1],age_err2[multi2],age_err3[multi3],age_err4[multi4]))\n",
    "group_num_fang2018 = np.concatenate((group_num1[multi1],group_num2[multi2],group_num3[multi3],group_num4[multi4]))\n",
    "group_name_fang2018 = np.concatenate((group1[multi1],group2[multi2],group3[multi3],group4[multi4]))\n",
    "source_num_fang2018 = np.ones(N_fang2018)*source_ref['source_num'][source_ref['source_ref']=='Fang 2018'][0]\n",
    "source_ref_fang2018 = np.array(['Fang 2018' for x in range(N_fang2018)])"
   ]
  },
  {
   "cell_type": "code",
   "execution_count": 29,
   "metadata": {},
   "outputs": [],
   "source": [
    "for column in [ewha_fang2018]:\n",
    "    mask = column == -9999.0\n",
    "    column[mask] = np.nan"
   ]
  },
  {
   "cell_type": "code",
   "execution_count": 30,
   "metadata": {},
   "outputs": [],
   "source": [
    "ra_all.append(ra_fang2018) \n",
    "dec_all.append(dec_fang2018)\n",
    "spt_all.append(spt_fang2018)\n",
    "ewha_all.append(ewha_fang2018)\n",
    "ewha_err_all.append(ewha_err_fang2018)\n",
    "lhalbol_all.append(lhalbol_fang2018)\n",
    "lhalbol_err_all.append(lhalbol_err_fang2018)\n",
    "age_all.append(age_fang2018)\n",
    "age_err_all.append(age_err_fang2018)\n",
    "group_num_all.append(group_num_fang2018)\n",
    "group_name_all.append(group_name_fang2018)\n",
    "source_num_all.append(source_num_fang2018)\n",
    "source_ref_all.append(source_ref_fang2018)"
   ]
  },
  {
   "cell_type": "markdown",
   "metadata": {},
   "source": [
    "## Malo 2014: BPMG, TWA, THA, COL, CAR, ARG, ABDMG"
   ]
  },
  {
   "cell_type": "code",
   "execution_count": 31,
   "metadata": {},
   "outputs": [],
   "source": [
    "malo2014 = fits.open('Catalogs/Malo2014.fit')"
   ]
  },
  {
   "cell_type": "code",
   "execution_count": 32,
   "metadata": {},
   "outputs": [],
   "source": [
    "bpic3 = malo2014[1].data['bPicP3']\n",
    "twhya3 = malo2014[1].data['TWAP3']\n",
    "tuchor3 = malo2014[1].data['THAP3']\n",
    "columb3 = malo2014[1].data['ColP3']\n",
    "car3 = malo2014[1].data['CarP3']\n",
    "argus3 = malo2014[1].data['ArgP3']\n",
    "abdor3 = malo2014[1].data['ABDorP3']\n",
    "field3 = malo2014[1].data['FldP3']\n",
    "\n",
    "bpic1 = malo2014[1].data['bPicP1']\n",
    "twhya1 = malo2014[1].data['TWAP1']\n",
    "tuchor1 = malo2014[1].data['THAP1']\n",
    "columb1 = malo2014[1].data['ColP1']\n",
    "car1 = malo2014[1].data['CarP1']\n",
    "argus1 = malo2014[1].data['ArgP1']\n",
    "abdor1 = malo2014[1].data['ABDorP1']\n",
    "field1 = malo2014[1].data['FldP1']\n",
    "\n",
    "bpic = malo2014[1].data['bPicP']\n",
    "twhya = malo2014[1].data['TWAP']\n",
    "tuchor = malo2014[1].data['THAP']\n",
    "columb = malo2014[1].data['ColP']\n",
    "car = malo2014[1].data['CarP']\n",
    "argus = malo2014[1].data['ArgP']\n",
    "abdor = malo2014[1].data['ABDorP']\n",
    "field = malo2014[1].data['FldP']"
   ]
  },
  {
   "cell_type": "code",
   "execution_count": 33,
   "metadata": {},
   "outputs": [],
   "source": [
    "groups =np.array(['BPMG','TWA','THA','COL','CAR','ARG','ABDMG','FIELD'])\n",
    "groups_num =np.array([mg_ref['group_num'][mg_ref['name']=='BPMG'][0],\n",
    "                      mg_ref['group_num'][mg_ref['name']=='TWA'][0],\n",
    "                      mg_ref['group_num'][mg_ref['name']=='THA'][0],\n",
    "                      mg_ref['group_num'][mg_ref['name']=='COL'][0],\n",
    "                      mg_ref['group_num'][mg_ref['name']=='CAR'][0],\n",
    "                      mg_ref['group_num'][mg_ref['name']=='ARG'][0],\n",
    "                      mg_ref['group_num'][mg_ref['name']=='ABDMG'][0],\n",
    "                      np.nan])\n",
    "age = np.array([mg_ref['age'][mg_ref['name']=='BPMG'][0],\n",
    "                mg_ref['age'][mg_ref['name']=='TWA'][0],\n",
    "                mg_ref['age'][mg_ref['name']=='THA'][0],\n",
    "                mg_ref['age'][mg_ref['name']=='COL'][0],\n",
    "                mg_ref['age'][mg_ref['name']=='CAR'][0],\n",
    "                mg_ref['age'][mg_ref['name']=='ARG'][0],\n",
    "                mg_ref['age'][mg_ref['name']=='ABDMG'][0],\n",
    "                np.nan])\n",
    "age_err = np.array([mg_ref['age_error'][mg_ref['name']=='BPMG'][0],\n",
    "                    mg_ref['age_error'][mg_ref['name']=='TWA'][0],\n",
    "                    mg_ref['age_error'][mg_ref['name']=='THA'][0],\n",
    "                    mg_ref['age_error'][mg_ref['name']=='COL'][0],\n",
    "                    mg_ref['age_error'][mg_ref['name']=='CAR'][0],\n",
    "                    mg_ref['age_error'][mg_ref['name']=='ARG'][0],\n",
    "                    mg_ref['age_error'][mg_ref['name']=='ABDMG'][0], \n",
    "                    np.nan])\n",
    "\n",
    "#groups =np.array(['CARN','HYA','CBER','TAU','BPMG','TWA','THA','COL','CAR','ARG','ABDMG','FIELD'])\n",
    "#age_list = np.array([200,750,562,1.5,24,10,45,42,45,40,149, np.nan ])\n",
    "#age_err_list = np.array([100,100,98,0.5,3,3,4,6,11,10,51, np.nan])"
   ]
  },
  {
   "cell_type": "code",
   "execution_count": 34,
   "metadata": {},
   "outputs": [],
   "source": [
    "age_stars = []\n",
    "age_err_stars = []\n",
    "group_stars = []\n",
    "group_num_stars = []\n",
    "max_prob_stars = []\n",
    "for i in range(len(bpic3)):\n",
    "    probs = np.array([bpic3[i],twhya3[i],tuchor3[i],columb3[i],car3[i],argus3[i],abdor3[i],field3[i]])\n",
    "    max_prob = max(probs)\n",
    "    if(str(max_prob)=='nan'):\n",
    "        probs = np.array([bpic1[i],twhya1[i],tuchor1[i],columb1[i],car1[i],argus1[i],abdor1[i],field1[i]])\n",
    "        max_prob = max(probs)\n",
    "        if(str(max_prob)=='nan'):\n",
    "            probs = np.array([bpic[i],twhya[i],tuchor[i],columb[i],car[i],argus[i],abdor[i],field[i]])\n",
    "            max_prob = max(probs)\n",
    "    mask = probs == max_prob\n",
    "    age_stars.append(age[mask][0])\n",
    "    age_err_stars.append(age_err[mask][0])\n",
    "    group_stars.append(groups[mask][0])\n",
    "    group_num_stars.append(groups_num[mask][0])\n",
    "    max_prob_stars.append(max_prob)"
   ]
  },
  {
   "cell_type": "code",
   "execution_count": 35,
   "metadata": {},
   "outputs": [],
   "source": [
    "spt_malo2014 = organize_spt(malo2014[1].data['SPT'])"
   ]
  },
  {
   "cell_type": "code",
   "execution_count": 36,
   "metadata": {},
   "outputs": [],
   "source": [
    "mask_singles_malo2014 = np.array([True if str(x)!='nan' else False for x in spt_malo2014])\n",
    "ra_malo2014 = malo2014[1].data['_RAJ2000'][mask_singles_malo2014]\n",
    "dec_malo2014 = malo2014[1].data['_DEJ2000'][mask_singles_malo2014]\n",
    "N_malo2014 = len(dec_malo2014)\n",
    "spt_malo2014 = spt_malo2014[mask_singles_malo2014]\n",
    "ewha_malo2014 = malo2014[1].data['Ha'][mask_singles_malo2014]\n",
    "ewha_err_malo2014 = 0.5*np.ones(N_malo2014) #From Riaz 2006\n",
    "lhalbol_malo2014 = np.nan*np.ones(N_malo2014)\n",
    "lhalbol_err_malo2014 = np.nan*np.ones(N_malo2014)\n",
    "kmag_malo2014 = np.nan*np.ones(N_malo2014)\n",
    "kmag_err_malo2014 = np.nan*np.ones(N_malo2014)\n",
    "age_malo2014 = np.array(age_stars)[mask_singles_malo2014]\n",
    "age_err_malo2014 = np.array(age_err_stars)[mask_singles_malo2014]\n",
    "group_num_malo2014 = np.array(group_num_stars)[mask_singles_malo2014]\n",
    "group_name_malo2014 = np.array(group_stars)[mask_singles_malo2014]\n",
    "source_num_malo2014 = np.ones(N_malo2014)*source_ref['source_num'][source_ref['source_ref']=='Malo 2014'][0]\n",
    "source_ref_malo2014 = np.array(['Malo 2014' for x in range(N_malo2014)])"
   ]
  },
  {
   "cell_type": "code",
   "execution_count": 37,
   "metadata": {},
   "outputs": [],
   "source": [
    "malo2014.close()"
   ]
  },
  {
   "cell_type": "code",
   "execution_count": 38,
   "metadata": {},
   "outputs": [],
   "source": [
    "ra_all.append(ra_malo2014) \n",
    "dec_all.append(dec_malo2014)\n",
    "spt_all.append(spt_malo2014)\n",
    "ewha_all.append(ewha_malo2014)\n",
    "ewha_err_all.append(ewha_err_malo2014)\n",
    "lhalbol_all.append(lhalbol_malo2014)\n",
    "lhalbol_err_all.append(lhalbol_err_malo2014)\n",
    "age_all.append(age_malo2014)\n",
    "age_err_all.append(age_err_malo2014)\n",
    "group_num_all.append(group_num_malo2014)\n",
    "group_name_all.append(group_name_malo2014)\n",
    "source_num_all.append(source_num_malo2014)\n",
    "source_ref_all.append(source_ref_malo2014)"
   ]
  },
  {
   "cell_type": "markdown",
   "metadata": {},
   "source": [
    "## Shkolnik 2017: BPMG"
   ]
  },
  {
   "cell_type": "code",
   "execution_count": 39,
   "metadata": {},
   "outputs": [],
   "source": [
    "shkolnik2017 = fits.open('Catalogs/Shkolnik2017.fit')"
   ]
  },
  {
   "cell_type": "code",
   "execution_count": 40,
   "metadata": {},
   "outputs": [
    {
     "name": "stderr",
     "output_type": "stream",
     "text": [
      "WARNING: VerifyWarning: Invalid keyword for column 8: ASCII table null option (TNULLn) is longer than the column's character width and will be truncated (got '-32768'). [astropy.io.fits.column]\n",
      "WARNING: VerifyWarning: Invalid keyword for column 10: ASCII table null option (TNULLn) is longer than the column's character width and will be truncated (got '-32768'). [astropy.io.fits.column]\n",
      "WARNING: VerifyWarning: Invalid keyword for column 12: ASCII table null option (TNULLn) is longer than the column's character width and will be truncated (got '-32768'). [astropy.io.fits.column]\n",
      "WARNING: VerifyWarning: Invalid keyword for column 13: ASCII table null option (TNULLn) is longer than the column's character width and will be truncated (got '-32768'). [astropy.io.fits.column]\n",
      "WARNING: VerifyWarning: Invalid keyword for column 16: ASCII table null option (TNULLn) is longer than the column's character width and will be truncated (got '-32768'). [astropy.io.fits.column]\n",
      "WARNING: VerifyWarning: Invalid keyword for column 18: ASCII table null option (TNULLn) is longer than the column's character width and will be truncated (got '-32768'). [astropy.io.fits.column]\n",
      "WARNING: VerifyWarning: Invalid keyword for column 21: ASCII table null option (TNULLn) is longer than the column's character width and will be truncated (got '-32768'). [astropy.io.fits.column]\n"
     ]
    }
   ],
   "source": [
    "spt_shkolnik2017 = organize_spt(shkolnik2017[1].data['SpType'])"
   ]
  },
  {
   "cell_type": "code",
   "execution_count": 41,
   "metadata": {},
   "outputs": [],
   "source": [
    "list_mem = shkolnik2017[1].data['BPMG']\n",
    "member = np.array([True if x=='Y' else False for x in list_mem])\n",
    "\n",
    "member_single_shkolnik2017 = member * np.array([True if str(x)!='nan' else False for x in spt_shkolnik2017])"
   ]
  },
  {
   "cell_type": "code",
   "execution_count": 42,
   "metadata": {},
   "outputs": [],
   "source": [
    "ra_shkolnik2017 = shkolnik2017[1].data['_RAJ2000'][member_single_shkolnik2017]\n",
    "dec_shkolnik2017 = shkolnik2017[1].data['_DEJ2000'][member_single_shkolnik2017]\n",
    "N_shkolnik2017 = len(dec_shkolnik2017)\n",
    "spt_shkolnik2017 = spt_shkolnik2017[member_single_shkolnik2017]\n",
    "ewha_shkolnik2017 = shkolnik2017[1].data['EW_Ha_'][member_single_shkolnik2017]*(-1)\n",
    "ewha_err_shkolnik2017 = np.ones(N_shkolnik2017)*0.1 #says in the paper\n",
    "lhalbol_shkolnik2017 = np.ones(N_shkolnik2017)*np.nan\n",
    "lhalbol_err_shkolnik2017 = np.ones(N_shkolnik2017)*np.nan\n",
    "kmag_shkolnik2017 = np.ones(N_shkolnik2017)*np.nan\n",
    "kmag_err_shkolnik2017 = np.ones(N_shkolnik2017)*np.nan\n",
    "age_shkolnik2017 = np.ones(N_shkolnik2017)*mg_ref['age'][mg_ref['name']=='BPMG'][0]\n",
    "age_err_shkolnik2017 = np.ones(N_shkolnik2017)*mg_ref['age_error'][mg_ref['name']=='BPMG'][0]\n",
    "\n",
    "group_num_shkolnik2017 = np.ones(N_shkolnik2017)*mg_ref['group_num'][mg_ref['name']=='BPMG'][0]\n",
    "group_name_shkolnik2017 = np.array(['BPMG' for i in range(N_shkolnik2017)])\n",
    "source_num_shkolnik2017 = np.ones(N_shkolnik2017)*source_ref['source_num'][source_ref['source_ref']=='Shkolnik 2017'][0]\n",
    "source_ref_shkolnik2017 = np.array(['Shkolnik 2017' for x in range(N_shkolnik2017)])"
   ]
  },
  {
   "cell_type": "code",
   "execution_count": 43,
   "metadata": {},
   "outputs": [],
   "source": [
    "shkolnik2017.close()"
   ]
  },
  {
   "cell_type": "code",
   "execution_count": 44,
   "metadata": {},
   "outputs": [],
   "source": [
    "ra_all.append(ra_shkolnik2017) \n",
    "dec_all.append(dec_shkolnik2017)\n",
    "spt_all.append(spt_shkolnik2017)\n",
    "ewha_all.append(ewha_shkolnik2017)\n",
    "ewha_err_all.append(ewha_err_shkolnik2017)\n",
    "lhalbol_all.append(lhalbol_shkolnik2017)\n",
    "lhalbol_err_all.append(lhalbol_err_shkolnik2017)\n",
    "age_all.append(age_shkolnik2017)\n",
    "age_err_all.append(age_err_shkolnik2017)\n",
    "group_num_all.append(group_num_shkolnik2017)\n",
    "group_name_all.append(group_name_shkolnik2017)\n",
    "source_num_all.append(source_num_shkolnik2017)\n",
    "source_ref_all.append(source_ref_shkolnik2017)"
   ]
  },
  {
   "cell_type": "markdown",
   "metadata": {},
   "source": [
    "## Kraus 2014: Tucana-Horologium"
   ]
  },
  {
   "cell_type": "code",
   "execution_count": 45,
   "metadata": {},
   "outputs": [],
   "source": [
    "kraus2014 = fits.open('Catalogs/Kraus2014.fit')"
   ]
  },
  {
   "cell_type": "code",
   "execution_count": 47,
   "metadata": {},
   "outputs": [],
   "source": [
    "ra_kraus2014 = kraus2014[1].data['_RAJ2000']\n",
    "dec_kraus2014 = kraus2014[1].data['_DEJ2000']\n",
    "N_kraus2014 = len(dec_kraus2014)\n",
    "spt_kraus2014 = organize_spt(kraus2014[1].data['SpT'])\n",
    "ewha_kraus2014 = kraus2014[1].data['EWHa']*(-1)\n",
    "ewha_err_kraus2014 = np.ones(N_kraus2014)*0.1 #says in the paper\n",
    "lhalbol_kraus2014 = np.ones(N_kraus2014)*np.nan\n",
    "lhalbol_err_kraus2014 = np.ones(N_kraus2014)*np.nan\n",
    "kmag_kraus2014 = np.ones(N_kraus2014)*np.nan\n",
    "kmag_err_kraus2014 = np.ones(N_kraus2014)*np.nan\n",
    "age_kraus2014 = np.ones(N_kraus2014)*mg_ref['age'][mg_ref['name']=='THA'][0]\n",
    "age_err_kraus2014 = np.ones(N_kraus2014)*mg_ref['age_error'][mg_ref['name']=='THA'][0]\n",
    "\n",
    "group_num_kraus2014 = np.ones(N_kraus2014)*mg_ref['group_num'][mg_ref['name']=='THA'][0]\n",
    "group_name_kraus2014 = np.array(['THA' for i in range(N_kraus2014)])\n",
    "source_num_kraus2014 = np.ones(N_kraus2014)*source_ref['source_num'][source_ref['source_ref']=='Kraus 2014'][0]\n",
    "source_ref_kraus2014 = np.array(['Kraus 2014' for x in range(N_kraus2014)])"
   ]
  },
  {
   "cell_type": "code",
   "execution_count": 49,
   "metadata": {},
   "outputs": [],
   "source": [
    "kraus2014.close()"
   ]
  },
  {
   "cell_type": "code",
   "execution_count": 50,
   "metadata": {},
   "outputs": [],
   "source": [
    "ra_all.append(ra_kraus2014) \n",
    "dec_all.append(dec_kraus2014)\n",
    "spt_all.append(spt_kraus2014)\n",
    "ewha_all.append(ewha_kraus2014)\n",
    "ewha_err_all.append(ewha_err_kraus2014)\n",
    "lhalbol_all.append(lhalbol_kraus2014)\n",
    "lhalbol_err_all.append(lhalbol_err_kraus2014)\n",
    "age_all.append(age_kraus2014)\n",
    "age_err_all.append(age_err_kraus2014)\n",
    "group_num_all.append(group_num_kraus2014)\n",
    "group_name_all.append(group_name_kraus2014)\n",
    "source_num_all.append(source_num_kraus2014)\n",
    "source_ref_all.append(source_ref_kraus2014)"
   ]
  },
  {
   "cell_type": "markdown",
   "metadata": {},
   "source": [
    "## Bouy 2009: Upper Sco"
   ]
  },
  {
   "cell_type": "code",
   "execution_count": 51,
   "metadata": {},
   "outputs": [],
   "source": [
    "bouy2009 = fits.open('Catalogs/Bouy2009.fit')"
   ]
  },
  {
   "cell_type": "code",
   "execution_count": 52,
   "metadata": {},
   "outputs": [],
   "source": [
    "ra_bouy2009,dec_bouy2009 = hstodeg(bouy2009[1].data['RAJ2000'],bouy2009[1].data['DEJ2000'])\n",
    "N_bouy2009 = len(dec_bouy2009)\n",
    "spt_bouy2009 = organize_spt(bouy2009[1].data['SpT'])\n",
    "ewha_bouy2009 = bouy2009[1].data['EWHa']*(-1)\n",
    "ewha_err_bouy2009 = np.ones(N_bouy2009)*0.1 #says in the paper\n",
    "lhalbol_bouy2009 = np.ones(N_bouy2009)*np.nan\n",
    "lhalbol_err_bouy2009 = np.ones(N_bouy2009)*np.nan\n",
    "kmag_bouy2009 = np.ones(N_bouy2009)*np.nan\n",
    "kmag_err_bouy2009 = np.ones(N_bouy2009)*np.nan\n",
    "age_bouy2009 = np.ones(N_bouy2009)*mg_ref['age'][mg_ref['name']=='USCO'][0]\n",
    "age_err_bouy2009 = np.ones(N_bouy2009)*mg_ref['age_error'][mg_ref['name']=='USCO'][0]\n",
    "\n",
    "group_num_bouy2009 = np.ones(N_bouy2009)*mg_ref['group_num'][mg_ref['name']=='USCO'][0]\n",
    "group_name_bouy2009 = np.array(['USCO' for i in range(N_bouy2009)])\n",
    "source_num_bouy2009 = np.ones(N_bouy2009)*source_ref['source_num'][source_ref['source_ref']=='Bouy 2009'][0]\n",
    "source_ref_bouy2009 = np.array(['Bouy 2009' for x in range(N_bouy2009)])"
   ]
  },
  {
   "cell_type": "code",
   "execution_count": 53,
   "metadata": {},
   "outputs": [],
   "source": [
    "bouy2009.close()"
   ]
  },
  {
   "cell_type": "code",
   "execution_count": 54,
   "metadata": {},
   "outputs": [],
   "source": [
    "ra_all.append(ra_bouy2009) \n",
    "dec_all.append(dec_bouy2009)\n",
    "spt_all.append(spt_bouy2009)\n",
    "ewha_all.append(ewha_bouy2009)\n",
    "ewha_err_all.append(ewha_err_bouy2009)\n",
    "lhalbol_all.append(lhalbol_bouy2009)\n",
    "lhalbol_err_all.append(lhalbol_err_bouy2009)\n",
    "age_all.append(age_bouy2009)\n",
    "age_err_all.append(age_err_bouy2009)\n",
    "group_num_all.append(group_num_bouy2009)\n",
    "group_name_all.append(group_name_bouy2009)\n",
    "source_num_all.append(source_num_bouy2009)\n",
    "source_ref_all.append(source_ref_bouy2009)"
   ]
  },
  {
   "cell_type": "markdown",
   "metadata": {},
   "source": [
    "## Riedel 2014"
   ]
  },
  {
   "cell_type": "code",
   "execution_count": 55,
   "metadata": {},
   "outputs": [],
   "source": [
    "riedel2014_1 = Table.read('Catalogs/Riedel2014_1.fit')\n",
    "riedel2014_2 = Table.read('Catalogs/Riedel2014_2.fit')\n",
    "riedel2014_3 = Table.read('Catalogs/Riedel2014_3.fit')"
   ]
  },
  {
   "cell_type": "code",
   "execution_count": 56,
   "metadata": {},
   "outputs": [],
   "source": [
    "mask = riedel2014_2['Name']==riedel2014_2['Name'][0]"
   ]
  },
  {
   "cell_type": "code",
   "execution_count": 57,
   "metadata": {},
   "outputs": [],
   "source": [
    "ra_riedel2014,dec_riedel2014,spt_riedel2014 = [],[],[]\n",
    "group_num_riedel2014,group_name_riedel2014=[],[]\n",
    "age_riedel2014,age_err_riedel2014=[],[]\n",
    "for x in riedel2014_1['Name']:\n",
    "    mask_name = riedel2014_2['Name'] == x\n",
    "    spt_riedel2014.append(riedel2014_2['SpT'][mask_name][0])\n",
    "    ra_riedel2014.append(riedel2014_2['RAJ2000'][mask_name][0])\n",
    "    dec_riedel2014.append(riedel2014_2['DEJ2000'][mask_name][0])\n",
    "for x in riedel2014_1['Name']:\n",
    "    mask_name = riedel2014_3['Name'] == x\n",
    "    if(riedel2014_3['KAsso'][mask_name][0]=='{beta} Pic'):\n",
    "        group_num_riedel2014.append(mg_ref['group_num'][mg_ref['name']=='BPMG'][0])\n",
    "        group_name_riedel2014.append('BPMG')\n",
    "        age_riedel2014.append(mg_ref['age'][mg_ref['name']=='BPMG'][0])\n",
    "        age_err_riedel2014.append(mg_ref['age_error'][mg_ref['name']=='BPMG'][0])\n",
    "    elif(riedel2014_3['KAsso'][mask_name][0]=='Carina    '):\n",
    "        group_num_riedel2014.append(mg_ref['group_num'][mg_ref['name']=='CAR'][0])\n",
    "        group_name_riedel2014.append('CAR')\n",
    "        age_riedel2014.append(mg_ref['age'][mg_ref['name']=='CAR'][0])\n",
    "        age_err_riedel2014.append(mg_ref['age_error'][mg_ref['name']=='CAR'][0])\n",
    "    elif(riedel2014_3['KAsso'][mask_name][0]=='AB Dor    '):\n",
    "        group_num_riedel2014.append(mg_ref['group_num'][mg_ref['name']=='ABDMG'][0])\n",
    "        group_name_riedel2014.append('ABDMG')\n",
    "        age_riedel2014.append(mg_ref['age'][mg_ref['name']=='ABDMG'][0])\n",
    "        age_err_riedel2014.append(mg_ref['age_error'][mg_ref['name']=='ABDMG'][0])\n",
    "    elif(riedel2014_3['KAsso'][mask_name][0]=='Columba   '):\n",
    "        group_num_riedel2014.append(mg_ref['group_num'][mg_ref['name']=='COL'][0])\n",
    "        group_name_riedel2014.append('COL')\n",
    "        age_riedel2014.append(mg_ref['age'][mg_ref['name']=='COL'][0])\n",
    "        age_err_riedel2014.append(mg_ref['age_error'][mg_ref['name']=='COL'][0])\n",
    "    elif(riedel2014_3['KAsso'][mask_name][0]=='Ursa Major'):\n",
    "        group_num_riedel2014.append(mg_ref['group_num'][mg_ref['name']=='UMA'][0])\n",
    "        group_name_riedel2014.append('UMA')\n",
    "        age_riedel2014.append(mg_ref['age'][mg_ref['name']=='UMA'][0])\n",
    "        age_err_riedel2014.append(mg_ref['age_error'][mg_ref['name']=='UMA'][0])\n",
    "    elif(riedel2014_3['KAsso'][mask_name][0]=='TW Hya    '):\n",
    "        group_num_riedel2014.append(mg_ref['group_num'][mg_ref['name']=='TWA'][0])\n",
    "        group_name_riedel2014.append('TWA')\n",
    "        age_riedel2014.append(mg_ref['age'][mg_ref['name']=='TWA'][0])\n",
    "        age_err_riedel2014.append(mg_ref['age_error'][mg_ref['name']=='TWA'][0])\n",
    "    elif(riedel2014_3['KAsso'][mask_name][0]=='Hyades    '):\n",
    "        group_num_riedel2014.append(mg_ref['group_num'][mg_ref['name']=='HYA'][0])\n",
    "        group_name_riedel2014.append('HYA')\n",
    "        age_riedel2014.append(mg_ref['age'][mg_ref['name']=='HYA'][0])\n",
    "        age_err_riedel2014.append(mg_ref['age_error'][mg_ref['name']=='HYA'][0])\n",
    "    elif(riedel2014_3['KAsso'][mask_name][0]=='Argus     '):\n",
    "        group_num_riedel2014.append(mg_ref['group_num'][mg_ref['name']=='ARG'][0])\n",
    "        group_name_riedel2014.append('ARG')\n",
    "        age_riedel2014.append(mg_ref['age'][mg_ref['name']=='ARG'][0])\n",
    "        age_err_riedel2014.append(mg_ref['age_error'][mg_ref['name']=='ARG'][0])\n",
    "    else:\n",
    "        group_num_riedel2014.append(np.nan)\n",
    "        group_name_riedel2014.append(np.nan)\n",
    "        age_riedel2014.append(np.nan)\n",
    "        age_err_riedel2014.append(np.nan)"
   ]
  },
  {
   "cell_type": "code",
   "execution_count": 58,
   "metadata": {},
   "outputs": [],
   "source": [
    "ra_riedel2014 = np.array(ra_riedel2014)\n",
    "dec_riedel2014 = np.array(dec_riedel2014)\n",
    "N_riedel2014 = len(ra_riedel2014)\n",
    "spt_riedel2014 = organize_spt(np.array(spt_riedel2014))\n",
    "ewha_riedel2014 = riedel2014_1['EWHa']*-1\n",
    "ewha_err_riedel2014 = np.ones(N_riedel2014)*0.2 #says in the paper\n",
    "lhalbol_riedel2014 = np.ones(N_riedel2014)*np.nan\n",
    "lhalbol_err_riedel2014 = np.ones(N_riedel2014)*np.nan\n",
    "kmag_riedel2014 = np.ones(N_riedel2014)*np.nan\n",
    "kmag_err_riedel2014 = np.ones(N_riedel2014)*np.nan\n",
    "age_riedel2014 = np.array(age_riedel2014)\n",
    "age_err_riedel2014 = np.array(age_err_riedel2014)\n",
    "\n",
    "group_num_riedel2014 = np.array(group_num_riedel2014)\n",
    "group_name_riedel2014 = np.array(group_name_riedel2014)\n",
    "source_num_riedel2014 = np.ones(N_riedel2014)*source_ref['source_num'][source_ref['source_ref']=='Riedel 2014'][0]\n",
    "source_ref_riedel2014 = np.array(['Riedel 2014' for x in range(N_riedel2014)])"
   ]
  },
  {
   "cell_type": "code",
   "execution_count": 59,
   "metadata": {},
   "outputs": [],
   "source": [
    "ra_all.append(ra_riedel2014) \n",
    "dec_all.append(dec_riedel2014)\n",
    "spt_all.append(spt_riedel2014)\n",
    "ewha_all.append(ewha_riedel2014)\n",
    "ewha_err_all.append(ewha_err_riedel2014)\n",
    "lhalbol_all.append(lhalbol_riedel2014)\n",
    "lhalbol_err_all.append(lhalbol_err_riedel2014)\n",
    "age_all.append(age_riedel2014)\n",
    "age_err_all.append(age_err_riedel2014)\n",
    "group_num_all.append(group_num_riedel2014)\n",
    "group_name_all.append(group_name_riedel2014)\n",
    "source_num_all.append(source_num_riedel2014)\n",
    "source_ref_all.append(source_ref_riedel2014)"
   ]
  },
  {
   "cell_type": "markdown",
   "metadata": {},
   "source": [
    "## Shkolnik 2009"
   ]
  },
  {
   "cell_type": "code",
   "execution_count": 60,
   "metadata": {},
   "outputs": [],
   "source": [
    "shkolnik2009 = fits.open('Catalogs/shkolnik2009.fit')"
   ]
  },
  {
   "cell_type": "code",
   "execution_count": 62,
   "metadata": {},
   "outputs": [],
   "source": [
    "ra_shkolnik2009 = np.array(shkolnik2009[1].data['_RAJ2000'])\n",
    "dec_shkolnik2009 = np.array(shkolnik2009[1].data['_DEJ2000'])\n",
    "N_shkolnik2009 = len(ra_shkolnik2009)\n",
    "spt_shkolnik2009 = shkolnik2009[1].data['SpT']\n",
    "ewha_shkolnik2009 = shkolnik2009[1].data['W_Ha_']*-1\n",
    "ewha_err_shkolnik2009 = np.ones(N_shkolnik2009)*0.45 #says in the paper\n",
    "lhalbol_shkolnik2009 = np.ones(N_shkolnik2009)*np.nan\n",
    "lhalbol_err_shkolnik2009 = np.ones(N_shkolnik2009)*np.nan\n",
    "age_shkolnik2009 = shkolnik2009[1].data['Age']  \n",
    "age_err_shkolnik2009 = np.ones(N_shkolnik2009)*np.nan\n",
    "\n",
    "group_num_shkolnik2009 = np.ones(N_shkolnik2009)*np.nan\n",
    "group_name_shkolnik2009 = np.ones(N_shkolnik2009)*np.nan\n",
    "source_num_shkolnik2009 = np.ones(N_shkolnik2009)*source_ref['source_num'][source_ref['source_ref']=='Shkolnik 2009'][0]\n",
    "source_ref_shkolnik2009 = np.array(['Shkolnik 2009' for x in range(N_shkolnik2009)])"
   ]
  },
  {
   "cell_type": "code",
   "execution_count": 63,
   "metadata": {},
   "outputs": [],
   "source": [
    "shkolnik2009.close()"
   ]
  },
  {
   "cell_type": "code",
   "execution_count": 64,
   "metadata": {},
   "outputs": [],
   "source": [
    "ra_all.append(ra_shkolnik2009) \n",
    "dec_all.append(dec_shkolnik2009)\n",
    "spt_all.append(spt_shkolnik2009)\n",
    "ewha_all.append(ewha_shkolnik2009)\n",
    "ewha_err_all.append(ewha_err_shkolnik2009)\n",
    "lhalbol_all.append(lhalbol_shkolnik2009)\n",
    "lhalbol_err_all.append(lhalbol_err_shkolnik2009)\n",
    "age_all.append(age_shkolnik2009)\n",
    "age_err_all.append(age_err_shkolnik2009)\n",
    "group_num_all.append(group_num_shkolnik2009)\n",
    "group_name_all.append(group_name_shkolnik2009)\n",
    "source_num_all.append(source_num_shkolnik2009)\n",
    "source_ref_all.append(source_ref_shkolnik2009)"
   ]
  },
  {
   "cell_type": "markdown",
   "metadata": {},
   "source": [
    "## Shkolnik 2011"
   ]
  },
  {
   "cell_type": "code",
   "execution_count": 65,
   "metadata": {},
   "outputs": [],
   "source": [
    "ra_shkolnik2011 = np.array([167.31,167.6166667,167.6158333,172.98,160.63,173.1719413,173.1715542,188.77,170.27,\n",
    "                            168.36,188.59,188.73,154.36,181.86,181.7953750,186.7139583])\n",
    "dec_shkolnik2011 = np.array([-30.03,-37.5308333,-37.5313889,-34.61,-33.67,-26.8655449,-26.8691975,-41.61,-38.75,\n",
    "                             -45.40,-48.26,-45.64,-53.91,-32.78,-32.5149222,-33.2701306])\n",
    "N_shkolnik2011 = len(ra_shkolnik2011)\n",
    "spt_shkolnik2011 = np.ones(N_shkolnik2011)*np.nan\n",
    "ewha_shkolnik2011 = np.array([-1.72,-40.89,-4.26,-6.37,-5.39,-5.04,-6.21,-5.46,-5.10,-5.68,\n",
    "                              -9.64,-3.08,-10.48,8.12,-114.8,-12.6])*-1\n",
    "ewha_err_shkolnik2011 = np.array([0.05,0.05,0.05,0.05,0.05,0.05,0.05,0.05,0.05,0.05,0.05,0.05,\n",
    "                                  0.05,0.05,0.5,0.5])#says in the paper\n",
    "lhalbol_shkolnik2011 = np.ones(N_shkolnik2011)*np.nan\n",
    "lhalbol_err_shkolnik2011 = np.ones(N_shkolnik2011)*np.nan\n",
    "age_shkolnik2011 = np.ones(N_shkolnik2011)*mg_ref['age'][mg_ref['name']=='TWA'][0]\n",
    "age_err_shkolnik2011 = np.ones(N_shkolnik2011)*mg_ref['age_error'][mg_ref['name']=='TWA'][0]\n",
    "\n",
    "group_num_shkolnik2011 = np.ones(N_shkolnik2011)*mg_ref['group_num'][mg_ref['name']=='TWA'][0]\n",
    "group_name_shkolnik2011 = np.array(['TWA' for i in range(N_shkolnik2011)])\n",
    "source_num_shkolnik2011 = np.ones(N_shkolnik2011)*source_ref['source_num'][source_ref['source_ref']=='Shkolnik 2011'][0]\n",
    "source_ref_shkolnik2011 = np.array(['Shkolnik 2011' for x in range(N_shkolnik2011)])"
   ]
  },
  {
   "cell_type": "code",
   "execution_count": 66,
   "metadata": {},
   "outputs": [],
   "source": [
    "ra_all.append(ra_shkolnik2011) \n",
    "dec_all.append(dec_shkolnik2011)\n",
    "spt_all.append(spt_shkolnik2011)\n",
    "ewha_all.append(ewha_shkolnik2011)\n",
    "ewha_err_all.append(ewha_err_shkolnik2011)\n",
    "lhalbol_all.append(lhalbol_shkolnik2011)\n",
    "lhalbol_err_all.append(lhalbol_err_shkolnik2011)\n",
    "age_all.append(age_shkolnik2011)\n",
    "age_err_all.append(age_err_shkolnik2011)\n",
    "group_num_all.append(group_num_shkolnik2011)\n",
    "group_name_all.append(group_name_shkolnik2011)\n",
    "source_num_all.append(source_num_shkolnik2011)\n",
    "source_ref_all.append(source_ref_shkolnik2011)"
   ]
  },
  {
   "cell_type": "markdown",
   "metadata": {},
   "source": [
    "## Rodriguez 2014"
   ]
  },
  {
   "cell_type": "code",
   "execution_count": 67,
   "metadata": {},
   "outputs": [],
   "source": [
    "rodriguez2014 = Table.read('Catalogs/Rodriguez2014.csv')"
   ]
  },
  {
   "cell_type": "code",
   "execution_count": 68,
   "metadata": {},
   "outputs": [],
   "source": [
    "ra_rodriguez2014,dec_rodriguez2014 = np.array(rodriguez2014['Ra']),np.array(rodriguez2014['De'])\n",
    "N_rodriguez2014 = len(dec_rodriguez2014)\n",
    "spt_rodriguez2014 = np.array(rodriguez2014['SpT'])\n",
    "ewha_rodriguez2014 = np.array(rodriguez2014['HaEW'])*(-1)\n",
    "ewha_err_rodriguez2014 = np.array(rodriguez2014['HaEW_err'])\n",
    "lhalbol_rodriguez2014 = np.ones(N_rodriguez2014)*np.nan\n",
    "lhalbol_err_rodriguez2014 = np.ones(N_rodriguez2014)*np.nan\n",
    "kmag_rodriguez2014 = np.ones(N_rodriguez2014)*np.nan\n",
    "kmag_err_rodriguez2014 = np.ones(N_rodriguez2014)*np.nan\n",
    "age_rodriguez2014 = np.ones(N_rodriguez2014)*np.nan\n",
    "age_err_rodriguez2014 = np.ones(N_rodriguez2014)*np.nan\n",
    "\n",
    "group_num_rodriguez2014 = np.ones(N_rodriguez2014)*np.nan\n",
    "group_name_rodriguez2014 = np.ones(N_rodriguez2014)*np.nan\n",
    "source_num_rodriguez2014 = np.ones(N_rodriguez2014)*source_ref['source_num'][source_ref['source_ref']=='Rodriguez 2014'][0]\n",
    "source_ref_rodriguez2014 = np.array(['Rodriguez 2014' for x in range(N_rodriguez2014)])"
   ]
  },
  {
   "cell_type": "code",
   "execution_count": 69,
   "metadata": {},
   "outputs": [],
   "source": [
    "ra_all.append(ra_rodriguez2014) \n",
    "dec_all.append(dec_rodriguez2014)\n",
    "spt_all.append(spt_rodriguez2014)\n",
    "ewha_all.append(ewha_rodriguez2014)\n",
    "ewha_err_all.append(ewha_err_rodriguez2014)\n",
    "lhalbol_all.append(lhalbol_rodriguez2014)\n",
    "lhalbol_err_all.append(lhalbol_err_rodriguez2014)\n",
    "age_all.append(age_rodriguez2014)\n",
    "age_err_all.append(age_err_rodriguez2014)\n",
    "group_num_all.append(group_num_rodriguez2014)\n",
    "group_name_all.append(group_name_rodriguez2014)\n",
    "source_num_all.append(source_num_rodriguez2014)\n",
    "source_ref_all.append(source_ref_rodriguez2014)"
   ]
  },
  {
   "cell_type": "markdown",
   "metadata": {},
   "source": [
    "## Torres 2006"
   ]
  },
  {
   "cell_type": "code",
   "execution_count": 70,
   "metadata": {},
   "outputs": [],
   "source": [
    "torres2006 = fits.open('Catalogs/Torres2006.fit')"
   ]
  },
  {
   "cell_type": "code",
   "execution_count": 71,
   "metadata": {},
   "outputs": [],
   "source": [
    "spt_mask = []\n",
    "for x in torres2006[1].data['SpType']:\n",
    "    if('M' in x):\n",
    "        spt_mask.append(True)\n",
    "    else:\n",
    "        spt_mask.append(False)"
   ]
  },
  {
   "cell_type": "code",
   "execution_count": 72,
   "metadata": {},
   "outputs": [],
   "source": [
    "ra_torres2006 = torres2006[1].data['RAJ2000'][spt_mask]     \n",
    "dec_torres2006 = torres2006[1].data['DEJ2000'][spt_mask]\n",
    "N_torres2006 = len(dec_torres2006)\n",
    "spt_torres2006 = organize_spt(torres2006[1].data['SpType'][spt_mask])\n",
    "ewha_torres2006 = torres2006[1].data['EWHa'][spt_mask]\n",
    "ewha_err_torres2006 = np.ones(N_torres2006)*np.nan\n",
    "lhalbol_torres2006 = np.ones(N_torres2006)*np.nan\n",
    "lhalbol_err_torres2006 = np.ones(N_torres2006)*np.nan\n",
    "age_torres2006 = np.ones(N_torres2006)*np.nan\n",
    "age_err_torres2006 = np.ones(N_torres2006)*np.nan\n",
    "\n",
    "group_num_torres2006 = np.ones(N_torres2006)*np.nan\n",
    "group_name_torres2006 = np.ones(N_torres2006)*np.nan\n",
    "source_num_torres2006 = np.ones(N_torres2006)*source_ref['source_num'][source_ref['source_ref']=='Torres 2006'][0]\n",
    "source_ref_torres2006 = np.array(['Torres 2006' for x in range(N_torres2006)])"
   ]
  },
  {
   "cell_type": "code",
   "execution_count": 73,
   "metadata": {},
   "outputs": [],
   "source": [
    "torres2006.close()"
   ]
  },
  {
   "cell_type": "code",
   "execution_count": 74,
   "metadata": {},
   "outputs": [],
   "source": [
    "ra_all.append(ra_torres2006) \n",
    "dec_all.append(dec_torres2006)\n",
    "spt_all.append(spt_torres2006)\n",
    "ewha_all.append(ewha_torres2006)\n",
    "ewha_err_all.append(ewha_err_torres2006)\n",
    "lhalbol_all.append(lhalbol_torres2006)\n",
    "lhalbol_err_all.append(lhalbol_err_torres2006)\n",
    "age_all.append(age_torres2006)\n",
    "age_err_all.append(age_err_torres2006)\n",
    "group_num_all.append(group_num_torres2006)\n",
    "group_name_all.append(group_name_torres2006)\n",
    "source_num_all.append(source_num_torres2006)\n",
    "source_ref_all.append(source_ref_torres2006)"
   ]
  },
  {
   "cell_type": "markdown",
   "metadata": {},
   "source": [
    "## Jayawardhana 2006"
   ]
  },
  {
   "cell_type": "code",
   "execution_count": 75,
   "metadata": {},
   "outputs": [],
   "source": [
    "jayawardhana2006 = Table.read('Catalogs/jayawardhana2006.csv', format='csv')"
   ]
  },
  {
   "cell_type": "code",
   "execution_count": 76,
   "metadata": {},
   "outputs": [],
   "source": [
    "ra_jayawardhana2006 = np.array(jayawardhana2006['Ra'])     \n",
    "dec_jayawardhana2006 = np.array(jayawardhana2006['De'])\n",
    "N_jayawardhana2006 = len(dec_jayawardhana2006)\n",
    "spt_jayawardhana2006 = np.array(jayawardhana2006['SpT'])\n",
    "ewha_jayawardhana2006 = np.array(jayawardhana2006['EWHA'])*(-1)\n",
    "ewha_err_jayawardhana2006 = np.array(jayawardhana2006['EWHA_err'])\n",
    "lhalbol_jayawardhana2006 = np.ones(N_jayawardhana2006)*np.nan\n",
    "lhalbol_err_jayawardhana2006 = np.ones(N_jayawardhana2006)*np.nan\n",
    "\n",
    "age_jayawardhana2006 = np.ones(N_jayawardhana2006)*np.nan\n",
    "age_err_jayawardhana2006 = np.ones(N_jayawardhana2006)*np.nan\n",
    "group_num_jayawardhana2006 = np.ones(N_jayawardhana2006)*np.nan\n",
    "\n",
    "for x in ['BPMG','ETAC','THA','TWA']:\n",
    "    mask1 = jayawardhana2006['Group'] == x\n",
    "    age_jayawardhana2006[mask1] = np.ones(len(jayawardhana2006['Group'][mask1]))*mg_ref['age'][mg_ref['name']==x][0]\n",
    "    age_err_jayawardhana2006[mask1] = np.ones(len(jayawardhana2006['Group'][mask1]))*mg_ref['age_error'][mg_ref['name']==x][0]\n",
    "    group_num_jayawardhana2006[mask1] = np.ones(len(jayawardhana2006['Group'][mask1]))*mg_ref['group_num'][mg_ref['name']==x][0]\n",
    "    \n",
    "group_name_jayawardhana2006 = np.array(jayawardhana2006['Group'])\n",
    "source_num_jayawardhana2006 = np.ones(N_jayawardhana2006)*source_ref['source_num'][source_ref['source_ref']=='Jayawardhana 2006'][0]\n",
    "source_ref_jayawardhana2006 = np.array(['Jayawardhana 2006' for x in range(N_jayawardhana2006)])"
   ]
  },
  {
   "cell_type": "code",
   "execution_count": 77,
   "metadata": {},
   "outputs": [],
   "source": [
    "ra_all.append(ra_jayawardhana2006) \n",
    "dec_all.append(dec_jayawardhana2006)\n",
    "spt_all.append(spt_jayawardhana2006)\n",
    "ewha_all.append(ewha_jayawardhana2006)\n",
    "ewha_err_all.append(ewha_err_jayawardhana2006)\n",
    "lhalbol_all.append(lhalbol_jayawardhana2006)\n",
    "lhalbol_err_all.append(lhalbol_err_jayawardhana2006)\n",
    "age_all.append(age_jayawardhana2006)\n",
    "age_err_all.append(age_err_jayawardhana2006)\n",
    "group_num_all.append(group_num_jayawardhana2006)\n",
    "group_name_all.append(group_name_jayawardhana2006)\n",
    "source_num_all.append(source_num_jayawardhana2006)\n",
    "source_ref_all.append(source_ref_jayawardhana2006)"
   ]
  },
  {
   "cell_type": "markdown",
   "metadata": {},
   "source": [
    "## Song 2003"
   ]
  },
  {
   "cell_type": "code",
   "execution_count": 78,
   "metadata": {},
   "outputs": [],
   "source": [
    "song2003 = Table.read('Catalogs/song2003.csv', format='csv')"
   ]
  },
  {
   "cell_type": "code",
   "execution_count": 80,
   "metadata": {},
   "outputs": [],
   "source": [
    "ra_song2003,dec_song2003 = [],[]\n",
    "for x,y in zip(np.array(song2003['Ra']),np.array(song2003['De'])):\n",
    "    radec = str(x)+' '+str(y)\n",
    "    coord = SkyCoord(radec, unit=(u.hourangle, u.deg))\n",
    "    ra_song2003.append(coord.ra.deg)\n",
    "    dec_song2003.append(coord.dec.deg)\n",
    "ra_song2003 = np.array(ra_song2003)\n",
    "dec_song2003 = np.array(dec_song2003)\n",
    "N_song2003 = len(dec_song2003)\n",
    "spt_song2003 = np.ones(N_song2003)*np.nan\n",
    "ewha_song2003 = np.array(song2003['HaEW'])*(-1)\n",
    "ewha_err_song2003 = np.ones(N_song2003)*np.nan\n",
    "lhalbol_song2003 = np.ones(N_song2003)*np.nan\n",
    "lhalbol_err_song2003 = np.ones(N_song2003)*np.nan\n",
    "\n",
    "age_song2003 = np.ones(N_song2003)*np.nan\n",
    "age_err_song2003 = np.ones(N_song2003)*np.nan\n",
    "group_num_song2003 = np.ones(N_song2003)*np.nan\n",
    "\n",
    "for x in ['BPMG','ETAC','THA','TWA']:\n",
    "    mask1 = song2003['Group'] == x\n",
    "    age_song2003[mask1] = np.ones(len(song2003['Group'][mask1]))*mg_ref['age'][mg_ref['name']==x][0]\n",
    "    age_err_song2003[mask1] = np.ones(len(song2003['Group'][mask1]))*mg_ref['age_error'][mg_ref['name']==x][0]\n",
    "    group_num_song2003[mask1] = np.ones(len(song2003['Group'][mask1]))*mg_ref['group_num'][mg_ref['name']==x][0]\n",
    "    \n",
    "group_name_song2003 = np.array(song2003['Group'])\n",
    "source_num_song2003 = np.ones(N_song2003)*source_ref['source_num'][source_ref['source_ref']=='Song 2003'][0]\n",
    "source_ref_song2003 = np.array(['Song 2003' for x in range(N_song2003)])"
   ]
  },
  {
   "cell_type": "code",
   "execution_count": 81,
   "metadata": {},
   "outputs": [],
   "source": [
    "ra_all.append(ra_song2003) \n",
    "dec_all.append(dec_song2003)\n",
    "spt_all.append(spt_song2003)\n",
    "ewha_all.append(ewha_song2003)\n",
    "ewha_err_all.append(ewha_err_song2003)\n",
    "lhalbol_all.append(lhalbol_song2003)\n",
    "lhalbol_err_all.append(lhalbol_err_song2003)\n",
    "age_all.append(age_song2003)\n",
    "age_err_all.append(age_err_song2003)\n",
    "group_num_all.append(group_num_song2003)\n",
    "group_name_all.append(group_name_song2003)\n",
    "source_num_all.append(source_num_song2003)\n",
    "source_ref_all.append(source_ref_song2003)"
   ]
  },
  {
   "cell_type": "markdown",
   "metadata": {},
   "source": [
    "## Feigelson 2003"
   ]
  },
  {
   "cell_type": "code",
   "execution_count": 82,
   "metadata": {},
   "outputs": [],
   "source": [
    "feigelson2003 = Table.read('Catalogs/Feigelson2003.csv', format='csv')"
   ]
  },
  {
   "cell_type": "code",
   "execution_count": 83,
   "metadata": {},
   "outputs": [],
   "source": [
    "feigelson2003 = feigelson2003[:9]"
   ]
  },
  {
   "cell_type": "code",
   "execution_count": 84,
   "metadata": {},
   "outputs": [],
   "source": [
    "ra_feigelson2003,dec_feigelson2003 = [],[]\n",
    "for x,y in zip(np.array(feigelson2003['Ra']),np.array(feigelson2003['De'])):\n",
    "    radec = str(x)+' '+str(y)\n",
    "    coord = SkyCoord(radec, unit=(u.hourangle, u.deg))\n",
    "    ra_feigelson2003.append(coord.ra.deg)\n",
    "    dec_feigelson2003.append(coord.dec.deg)\n",
    "ra_feigelson2003 = np.array(ra_feigelson2003)\n",
    "dec_feigelson2003 = np.array(dec_feigelson2003)\n",
    "N_feigelson2003 = len(dec_feigelson2003)\n",
    "spt_feigelson2003 = np.array(feigelson2003['SpT'])\n",
    "ewha_feigelson2003 = np.array(feigelson2003['HAEW'])*(-1)\n",
    "ewha_err_feigelson2003 = np.ones(N_feigelson2003)*np.nan\n",
    "lhalbol_feigelson2003 = np.ones(N_feigelson2003)*np.nan\n",
    "lhalbol_err_feigelson2003 = np.ones(N_feigelson2003)*np.nan\n",
    "\n",
    "age_feigelson2003 = np.ones(N_feigelson2003)*np.nan\n",
    "age_err_feigelson2003 = np.ones(N_feigelson2003)*np.nan\n",
    "group_num_feigelson2003 = np.ones(N_feigelson2003)*np.nan\n",
    "\n",
    "for x in ['BPMG','EPSC','THA','TWA']:\n",
    "    mask1 = feigelson2003['Group'] == x\n",
    "    age_feigelson2003[mask1] = np.ones(len(feigelson2003['Group'][mask1]))*mg_ref['age'][mg_ref['name']==x][0]\n",
    "    age_err_feigelson2003[mask1] = np.ones(len(feigelson2003['Group'][mask1]))*mg_ref['age_error'][mg_ref['name']==x][0]\n",
    "    group_num_feigelson2003[mask1] = np.ones(len(feigelson2003['Group'][mask1]))*mg_ref['group_num'][mg_ref['name']==x][0]\n",
    "    \n",
    "group_name_feigelson2003 = np.array(feigelson2003['Group'])\n",
    "source_num_feigelson2003 = np.ones(N_feigelson2003)*source_ref['source_num'][source_ref['source_ref']=='Feigelson 2003'][0]\n",
    "source_ref_feigelson2003 = np.array(['Feigelson 2003' for x in range(N_feigelson2003)])"
   ]
  },
  {
   "cell_type": "code",
   "execution_count": 85,
   "metadata": {},
   "outputs": [],
   "source": [
    "ra_all.append(ra_feigelson2003) \n",
    "dec_all.append(dec_feigelson2003)\n",
    "spt_all.append(spt_feigelson2003)\n",
    "ewha_all.append(ewha_feigelson2003)\n",
    "ewha_err_all.append(ewha_err_feigelson2003)\n",
    "lhalbol_all.append(lhalbol_feigelson2003)\n",
    "lhalbol_err_all.append(lhalbol_err_feigelson2003)\n",
    "age_all.append(age_feigelson2003)\n",
    "age_err_all.append(age_err_feigelson2003)\n",
    "group_num_all.append(group_num_feigelson2003)\n",
    "group_name_all.append(group_name_feigelson2003)\n",
    "source_num_all.append(source_num_feigelson2003)\n",
    "source_ref_all.append(source_ref_feigelson2003)"
   ]
  },
  {
   "cell_type": "markdown",
   "metadata": {},
   "source": [
    "## Elliott 2016"
   ]
  },
  {
   "cell_type": "code",
   "execution_count": 86,
   "metadata": {},
   "outputs": [],
   "source": [
    "elliott2016 = fits.open('Catalogs/elliott2016.fit')"
   ]
  },
  {
   "cell_type": "code",
   "execution_count": 87,
   "metadata": {},
   "outputs": [],
   "source": [
    "ra_elliott2016 = elliott2016[1].data['RAJ2000']\n",
    "dec_elliott2016 = elliott2016[1].data['DEJ2000']\n",
    "N_elliott2016 = len(dec_elliott2016)\n",
    "spt_elliott2016 = np.ones(N_elliott2016)*np.nan\n",
    "ewha_elliott2016 = elliott2016[1].data['EWHa']\n",
    "ewha_err_elliott2016 = elliott2016[1].data['e_EWHa']\n",
    "lhalbol_elliott2016 = np.ones(N_elliott2016)*np.nan\n",
    "lhalbol_err_elliott2016 = np.ones(N_elliott2016)*np.nan\n",
    "\n",
    "age_elliott2016 = np.ones(N_elliott2016)*np.nan\n",
    "age_err_elliott2016 = np.ones(N_elliott2016)*np.nan\n",
    "group_num_elliott2016 = np.ones(N_elliott2016)*np.nan\n",
    "\n",
    "group_name_elliott2016 = []\n",
    "names = np.array(['BPMG','ABDMG','THA','COL','ARG','OCT','TWA','EPSC','CAR'])\n",
    "names2 = np.array(['BPC','ABD','THA','COL','ARG','OCT','TWA','ECH','CAR'])\n",
    "for x in elliott2016[1].data['Assoc']:\n",
    "    mask = x == names2\n",
    "    group_name_elliott2016.append(names[mask][0])\n",
    "\n",
    "group_name_elliott2016 = np.array(group_name_elliott2016)\n",
    "for x in ['BPMG','ABDMG','THA','COL','ARG','OCT','TWA','EPSC','CAR']:\n",
    "    mask1 = group_name_elliott2016 == x\n",
    "    n_mask = len(elliott2016[1].data['Assoc'][mask1])\n",
    "    age_elliott2016[mask1] = np.ones(n_mask)*mg_ref['age'][mg_ref['name']==x][0]\n",
    "    age_err_elliott2016[mask1] = np.ones(n_mask)*mg_ref['age_error'][mg_ref['name']==x][0]\n",
    "    group_num_elliott2016[mask1] = np.ones(n_mask)*mg_ref['group_num'][mg_ref['name']==x][0]\n",
    "\n",
    "source_num_elliott2016 = np.ones(N_elliott2016)*source_ref['source_num'][source_ref['source_ref']=='Elliott 2016'][0]\n",
    "source_ref_elliott2016 = np.array(['Elliott 2016' for x in range(N_elliott2016)])"
   ]
  },
  {
   "cell_type": "code",
   "execution_count": 88,
   "metadata": {},
   "outputs": [],
   "source": [
    "ra_all.append(ra_elliott2016) \n",
    "dec_all.append(dec_elliott2016)\n",
    "spt_all.append(spt_elliott2016)\n",
    "ewha_all.append(ewha_elliott2016)\n",
    "ewha_err_all.append(ewha_err_elliott2016)\n",
    "lhalbol_all.append(lhalbol_elliott2016)\n",
    "lhalbol_err_all.append(lhalbol_err_elliott2016)\n",
    "age_all.append(age_elliott2016)\n",
    "age_err_all.append(age_err_elliott2016)\n",
    "group_num_all.append(group_num_elliott2016)\n",
    "group_name_all.append(group_name_elliott2016)\n",
    "source_num_all.append(source_num_elliott2016)\n",
    "source_ref_all.append(source_ref_elliott2016)"
   ]
  },
  {
   "cell_type": "markdown",
   "metadata": {},
   "source": [
    "## Mochnacki 2002"
   ]
  },
  {
   "cell_type": "code",
   "execution_count": 89,
   "metadata": {},
   "outputs": [],
   "source": [
    "mochnacki2002 = Table.read('Catalogs/mochnacki2002.csv')"
   ]
  },
  {
   "cell_type": "code",
   "execution_count": 90,
   "metadata": {},
   "outputs": [],
   "source": [
    "ra_mochnacki2002 = np.array(mochnacki2002['Ra'])     \n",
    "dec_mochnacki2002 = np.array(mochnacki2002['De'])\n",
    "N_mochnacki2002 = len(dec_mochnacki2002)\n",
    "spt_mochnacki2002 = np.ones(N_mochnacki2002)*np.nan\n",
    "ewha_mochnacki2002 = np.array(mochnacki2002['EWHa'])*(-1)\n",
    "ewha_err_mochnacki2002 = np.array(mochnacki2002['EWHa_err'])\n",
    "lhalbol_mochnacki2002 = np.array(mochnacki2002['LHaLbol'])\n",
    "lhalbol_err_mochnacki2002 = np.ones(N_mochnacki2002)*np.nan\n",
    "age_mochnacki2002 = np.ones(N_mochnacki2002)*np.nan\n",
    "age_err_mochnacki2002 = np.ones(N_mochnacki2002)*np.nan\n",
    "\n",
    "group_num_mochnacki2002 = np.ones(N_mochnacki2002)*np.nan\n",
    "group_name_mochnacki2002 = np.ones(N_mochnacki2002)*np.nan\n",
    "source_num_mochnacki2002 = np.ones(N_mochnacki2002)*source_ref['source_num'][source_ref['source_ref']=='Mochnacki 2002'][0]\n",
    "source_ref_mochnacki2002 = np.array(['Mochnacki 2002' for x in range(N_mochnacki2002)])"
   ]
  },
  {
   "cell_type": "code",
   "execution_count": 91,
   "metadata": {},
   "outputs": [],
   "source": [
    "ra_all.append(ra_mochnacki2002) \n",
    "dec_all.append(dec_mochnacki2002)\n",
    "spt_all.append(spt_mochnacki2002)\n",
    "ewha_all.append(ewha_mochnacki2002)\n",
    "ewha_err_all.append(ewha_err_mochnacki2002)\n",
    "lhalbol_all.append(lhalbol_mochnacki2002)\n",
    "lhalbol_err_all.append(lhalbol_err_mochnacki2002)\n",
    "age_all.append(age_mochnacki2002)\n",
    "age_err_all.append(age_err_mochnacki2002)\n",
    "group_num_all.append(group_num_mochnacki2002)\n",
    "group_name_all.append(group_name_mochnacki2002)\n",
    "source_num_all.append(source_num_mochnacki2002)\n",
    "source_ref_all.append(source_ref_mochnacki2002)"
   ]
  },
  {
   "cell_type": "markdown",
   "metadata": {},
   "source": [
    "## Mohanty 2004"
   ]
  },
  {
   "cell_type": "code",
   "execution_count": 92,
   "metadata": {},
   "outputs": [],
   "source": [
    "mohanty2004 = Table.read('Catalogs/mohanty2004.csv')"
   ]
  },
  {
   "cell_type": "code",
   "execution_count": 93,
   "metadata": {},
   "outputs": [],
   "source": [
    "ra_mohanty2004 = np.array(mohanty2004['Ra'])     \n",
    "dec_mohanty2004 = np.array(mohanty2004['De'])\n",
    "N_mohanty2004 = len(dec_mohanty2004)\n",
    "spt_mohanty2004 = np.array(mohanty2004['SpT'])     \n",
    "ewha_mohanty2004 = np.array(mohanty2004['EWHa'])     \n",
    "ewha_err_mohanty2004 = np.array(mohanty2004['EWHa_err'])     \n",
    "lhalbol_mohanty2004 = np.ones(N_mohanty2004)*np.nan\n",
    "lhalbol_err_mohanty2004 = np.ones(N_mohanty2004)*np.nan\n",
    "\n",
    "age_mohanty2004 = np.ones(N_mohanty2004)*np.nan\n",
    "age_err_mohanty2004 = np.ones(N_mohanty2004)*np.nan\n",
    "group_num_mohanty2004 = np.ones(N_mohanty2004)*np.nan\n",
    "\n",
    "for x in ['ROPH','TAU','IC 348','Cha I','R CrA','USCO','TWA']:\n",
    "    mask1 = mohanty2004['Group'] == x\n",
    "    n_mask = len(mohanty2004['Group'][mask1])\n",
    "    age_mohanty2004[mask1] = np.ones(n_mask)*mg_ref['age'][mg_ref['name']==x][0]\n",
    "    age_err_mohanty2004[mask1] = np.ones(n_mask)*mg_ref['age_error'][mg_ref['name']==x][0]\n",
    "    group_num_mohanty2004[mask1] = np.ones(n_mask)*mg_ref['group_num'][mg_ref['name']==x][0]\n",
    "    \n",
    "\n",
    "group_name_mohanty2004 = np.array(mohanty2004['Group'])\n",
    "source_num_mohanty2004 = np.ones(N_mohanty2004)*source_ref['source_num'][source_ref['source_ref']=='Mohanty 2004'][0]\n",
    "source_ref_mohanty2004 = np.array(['Mohanty 2004' for x in range(N_mohanty2004)])"
   ]
  },
  {
   "cell_type": "code",
   "execution_count": 94,
   "metadata": {},
   "outputs": [],
   "source": [
    "ra_all.append(ra_mohanty2004) \n",
    "dec_all.append(dec_mohanty2004)\n",
    "spt_all.append(spt_mohanty2004)\n",
    "ewha_all.append(ewha_mohanty2004)\n",
    "ewha_err_all.append(ewha_err_mohanty2004)\n",
    "lhalbol_all.append(lhalbol_mohanty2004)\n",
    "lhalbol_err_all.append(lhalbol_err_mohanty2004)\n",
    "age_all.append(age_mohanty2004)\n",
    "age_err_all.append(age_err_mohanty2004)\n",
    "group_num_all.append(group_num_mohanty2004)\n",
    "group_name_all.append(group_name_mohanty2004)\n",
    "source_num_all.append(source_num_mohanty2004)\n",
    "source_ref_all.append(source_ref_mohanty2004)"
   ]
  },
  {
   "cell_type": "markdown",
   "metadata": {},
   "source": [
    "## Lawson 2004"
   ]
  },
  {
   "cell_type": "code",
   "execution_count": 95,
   "metadata": {},
   "outputs": [],
   "source": [
    "ra_lawson2004 = np.array([129.1695833,129.4641667,130.3775000,130.8266667,132.1454167,132.8466667])     \n",
    "dec_lawson2004 = np.array([-78.9161111,-78.7436111,-78.8852778,-79.0891667,-78.8977778,-79.0897222])\n",
    "N_lawson2004 = len(dec_lawson2004)\n",
    "spt_lawson2004 = np.array([2,-5,4,2,5,-6])\n",
    "ewha_lawson2004 = np.array([0.9,1.1,-12,-110,-3.5,1.0])*(-1)\n",
    "ewha_err_lawson2004 = np.ones(N_lawson2004)*np.nan\n",
    "lhalbol_lawson2004 = np.ones(N_lawson2004)*np.nan\n",
    "lhalbol_err_lawson2004 = np.ones(N_lawson2004)*np.nan\n",
    "age_lawson2004 = np.ones(N_lawson2004)*mg_ref['age'][mg_ref['name']=='ETAC'][0]\n",
    "age_err_lawson2004 = np.ones(N_lawson2004)*mg_ref['age_error'][mg_ref['name']=='ETAC'][0]\n",
    "\n",
    "group_num_lawson2004 = np.ones(N_lawson2004)*mg_ref['group_num'][mg_ref['name']=='ETAC'][0]\n",
    "group_name_lawson2004 = np.array(['ETAC' for i in range(N_lawson2004)])\n",
    "source_num_lawson2004 = np.ones(N_lawson2004)*source_ref['source_num'][source_ref['source_ref']=='Lawson 2004'][0]\n",
    "source_ref_lawson2004 = np.array(['Lawson 2004' for x in range(N_lawson2004)])"
   ]
  },
  {
   "cell_type": "code",
   "execution_count": 96,
   "metadata": {},
   "outputs": [],
   "source": [
    "ra_all.append(ra_lawson2004) \n",
    "dec_all.append(dec_lawson2004)\n",
    "spt_all.append(spt_lawson2004)\n",
    "ewha_all.append(ewha_lawson2004)\n",
    "ewha_err_all.append(ewha_err_lawson2004)\n",
    "lhalbol_all.append(lhalbol_lawson2004)\n",
    "lhalbol_err_all.append(lhalbol_err_lawson2004)\n",
    "age_all.append(age_lawson2004)\n",
    "age_err_all.append(age_err_lawson2004)\n",
    "group_num_all.append(group_num_lawson2004)\n",
    "group_name_all.append(group_name_lawson2004)\n",
    "source_num_all.append(source_num_lawson2004)\n",
    "source_ref_all.append(source_ref_lawson2004)"
   ]
  },
  {
   "cell_type": "markdown",
   "metadata": {},
   "source": [
    "## Lyo 2004"
   ]
  },
  {
   "cell_type": "code",
   "execution_count": 97,
   "metadata": {},
   "outputs": [],
   "source": [
    "ra_lyo2004 = np.array([129.0441667,129.7145833])     \n",
    "dec_lyo2004 = np.array([-79.1383333,-79.2705556])\n",
    "N_lyo2004 = len(dec_lyo2004)\n",
    "spt_lyo2004 = np.array([5.5,5.2])\n",
    "ewha_lyo2004 = np.array([-8.3,-8.0])*(-1)\n",
    "ewha_err_lyo2004 = np.ones(N_lyo2004)*np.nan\n",
    "lhalbol_lyo2004 = np.ones(N_lyo2004)*np.nan\n",
    "lhalbol_err_lyo2004 = np.ones(N_lyo2004)*np.nan\n",
    "age_lyo2004 = np.ones(N_lyo2004)*mg_ref['age'][mg_ref['name']=='ETAC'][0]\n",
    "age_err_lyo2004 = np.ones(N_lyo2004)*mg_ref['age_error'][mg_ref['name']=='ETAC'][0]\n",
    "\n",
    "group_num_lyo2004 = np.ones(N_lyo2004)*mg_ref['group_num'][mg_ref['name']=='ETAC'][0]\n",
    "group_name_lyo2004 = np.array(['ETAC' for i in range(N_lyo2004)])\n",
    "source_num_lyo2004 = np.ones(N_lyo2004)*source_ref['source_num'][source_ref['source_ref']=='Lyo 2004'][0]\n",
    "source_ref_lyo2004 = np.array(['Lyo 2004' for x in range(N_lyo2004)])"
   ]
  },
  {
   "cell_type": "code",
   "execution_count": 99,
   "metadata": {},
   "outputs": [],
   "source": [
    "ra_all.append(ra_lyo2004) \n",
    "dec_all.append(dec_lyo2004)\n",
    "spt_all.append(spt_lyo2004)\n",
    "ewha_all.append(ewha_lyo2004)\n",
    "ewha_err_all.append(ewha_err_lyo2004)\n",
    "lhalbol_all.append(lhalbol_lyo2004)\n",
    "lhalbol_err_all.append(lhalbol_err_lyo2004)\n",
    "age_all.append(age_lyo2004)\n",
    "age_err_all.append(age_err_lyo2004)\n",
    "group_num_all.append(group_num_lyo2004)\n",
    "group_name_all.append(group_name_lyo2004)\n",
    "source_num_all.append(source_num_lyo2004)\n",
    "source_ref_all.append(source_ref_lyo2004)"
   ]
  },
  {
   "cell_type": "markdown",
   "metadata": {},
   "source": [
    "## Song 2004"
   ]
  },
  {
   "cell_type": "code",
   "execution_count": 100,
   "metadata": {},
   "outputs": [],
   "source": [
    "ra_song2004 = np.array([129.7129167,129.0446667,131.0380833])     \n",
    "dec_song2004 = np.array([-79.2704444,-79.1384167,-78.5626944])\n",
    "N_song2004 = len(dec_song2004)\n",
    "spt_song2004 = np.array([5,5.5,5])\n",
    "ewha_song2004 = np.array([-10.3,-7.6,-57.8])*(-1)\n",
    "ewha_err_song2004 = np.ones(N_song2004)*np.nan\n",
    "lhalbol_song2004 = np.ones(N_song2004)*np.nan\n",
    "lhalbol_err_song2004 = np.ones(N_song2004)*np.nan\n",
    "age_song2004 = np.ones(N_song2004)*mg_ref['age'][mg_ref['name']=='ETAC'][0]\n",
    "age_err_song2004 = np.ones(N_song2004)*mg_ref['age_error'][mg_ref['name']=='ETAC'][0]\n",
    "\n",
    "group_num_song2004 = np.ones(N_song2004)*mg_ref['group_num'][mg_ref['name']=='ETAC'][0]\n",
    "group_name_song2004 = np.array(['ETAC' for i in range(N_song2004)])\n",
    "source_num_song2004 = np.ones(N_song2004)*source_ref['source_num'][source_ref['source_ref']=='Song 2004'][0]\n",
    "source_ref_song2004 = np.array(['Song 2004' for x in range(N_song2004)])"
   ]
  },
  {
   "cell_type": "code",
   "execution_count": 101,
   "metadata": {},
   "outputs": [],
   "source": [
    "ra_all.append(ra_song2004) \n",
    "dec_all.append(dec_song2004)\n",
    "spt_all.append(spt_song2004)\n",
    "ewha_all.append(ewha_song2004)\n",
    "ewha_err_all.append(ewha_err_song2004)\n",
    "lhalbol_all.append(lhalbol_song2004)\n",
    "lhalbol_err_all.append(lhalbol_err_song2004)\n",
    "age_all.append(age_song2004)\n",
    "age_err_all.append(age_err_song2004)\n",
    "group_num_all.append(group_num_song2004)\n",
    "group_name_all.append(group_name_song2004)\n",
    "source_num_all.append(source_num_song2004)\n",
    "source_ref_all.append(source_ref_song2004)"
   ]
  },
  {
   "cell_type": "markdown",
   "metadata": {},
   "source": [
    "## Murphy 2010"
   ]
  },
  {
   "cell_type": "code",
   "execution_count": 102,
   "metadata": {},
   "outputs": [],
   "source": [
    "ra_murphy2010 = np.array([136.3786250,138.3931250,148.9132917,135.7139792,151.3334542])     \n",
    "dec_murphy2010 = np.array([-81.5825556,-75.8336083,-76.3699722,-77.9930139,-77.8117342])\n",
    "N_murphy2010 = len(dec_murphy2010)\n",
    "spt_murphy2010 = np.array([4.9,4.8,4.1,3,1])\n",
    "ewha_murphy2010 = np.array([-9,-8,-5,-2,-4])*(-1)\n",
    "ewha_err_murphy2010 = np.ones(N_murphy2010)*1\n",
    "lhalbol_murphy2010 = np.ones(N_murphy2010)*np.nan\n",
    "lhalbol_err_murphy2010 = np.ones(N_murphy2010)*np.nan\n",
    "age_murphy2010 = np.ones(N_murphy2010)*mg_ref['age'][mg_ref['name']=='ETAC'][0]\n",
    "age_err_murphy2010 = np.ones(N_murphy2010)*mg_ref['age_error'][mg_ref['name']=='ETAC'][0]\n",
    "\n",
    "group_num_murphy2010 = np.ones(N_murphy2010)*mg_ref['group_num'][mg_ref['name']=='ETAC'][0]\n",
    "group_name_murphy2010 = np.array(['ETAC' for i in range(N_murphy2010)])\n",
    "source_num_murphy2010 = np.ones(N_murphy2010)*source_ref['source_num'][source_ref['source_ref']=='Murphy 2010'][0]\n",
    "source_ref_murphy2010 = np.array(['Murphy 2010' for x in range(N_murphy2010)])"
   ]
  },
  {
   "cell_type": "code",
   "execution_count": 103,
   "metadata": {},
   "outputs": [],
   "source": [
    "ra_all.append(ra_murphy2010) \n",
    "dec_all.append(dec_murphy2010)\n",
    "spt_all.append(spt_murphy2010)\n",
    "ewha_all.append(ewha_murphy2010)\n",
    "ewha_err_all.append(ewha_err_murphy2010)\n",
    "lhalbol_all.append(lhalbol_murphy2010)\n",
    "lhalbol_err_all.append(lhalbol_err_murphy2010)\n",
    "age_all.append(age_murphy2010)\n",
    "age_err_all.append(age_err_murphy2010)\n",
    "group_num_all.append(group_num_murphy2010)\n",
    "group_name_all.append(group_name_murphy2010)\n",
    "source_num_all.append(source_num_murphy2010)\n",
    "source_ref_all.append(source_ref_murphy2010)"
   ]
  },
  {
   "cell_type": "markdown",
   "metadata": {},
   "source": [
    "## Riaz 2006"
   ]
  },
  {
   "cell_type": "code",
   "execution_count": 104,
   "metadata": {},
   "outputs": [],
   "source": [
    "riaz2006 = Table.read('Catalogs/Riaz2006.csv')"
   ]
  },
  {
   "cell_type": "code",
   "execution_count": 105,
   "metadata": {},
   "outputs": [],
   "source": [
    "ra_riaz2006,dec_riaz2006 = [],[]\n",
    "for x in riaz2006['2MASS Name']:\n",
    "    ra_name='none'\n",
    "    dec_name='none'\n",
    "    if('A' in x or 'B' in x):\n",
    "        ra_riaz2006.append(np.nan)\n",
    "        dec_riaz2006.append(np.nan)\n",
    "    elif('+' in x):\n",
    "        ra,dec = x.split('+')\n",
    "        if(len(ra)==8 or len(ra)==7):\n",
    "            ra_name = ra[:2]+':'+ra[2:4]+':'+ra[4:6]+'.'+ra[6:]\n",
    "        elif(len(ra)==6):\n",
    "            ra_name = ra[:2]+':'+ra[2:4]+':'+ra[4:6]\n",
    "        else:\n",
    "            print(ra)\n",
    "            \n",
    "        if(len(dec)==8 or len(dec)==7):\n",
    "            dec_name = dec[:2]+':'+dec[2:4]+':'+dec[4:6]+'.'+dec[6:]\n",
    "        elif(len(dec)==6):\n",
    "            dec_name = dec[:2]+':'+dec[2:4]+':'+dec[4:6]\n",
    "        else:\n",
    "            print(dec)\n",
    "        star_name = ra_name+'+'+dec_name\n",
    "        #print(star_name)\n",
    "        coord = SkyCoord(star_name, unit=(u.hourangle, u.deg))\n",
    "        ra_riaz2006.append(coord.ra.deg)\n",
    "        dec_riaz2006.append(coord.dec.deg)\n",
    "    elif('-' in x):\n",
    "        ra,dec = x.split('-')\n",
    "        if(len(ra)==8 or len(ra)==7):\n",
    "            ra_name = ra[:2]+':'+ra[2:4]+':'+ra[4:6]+'.'+ra[6:]\n",
    "        elif(len(ra)==6):\n",
    "            ra_name = ra[:2]+':'+ra[2:4]+':'+ra[4:6]\n",
    "        else:\n",
    "            print(ra)\n",
    "            \n",
    "        if(len(dec)==8 or len(dec)==7):\n",
    "            dec_name = dec[:2]+':'+dec[2:4]+':'+dec[4:6]+'.'+dec[6:]\n",
    "        elif(len(dec)==6):\n",
    "            dec_name = dec[:2]+':'+dec[2:4]+':'+dec[4:6]\n",
    "        else:\n",
    "            print(dec)\n",
    "        star_name = ra_name+'-'+dec_name\n",
    "        #print(star_name)\n",
    "        coord = SkyCoord(star_name, unit=(u.hourangle, u.deg))\n",
    "        ra_riaz2006.append(coord.ra.deg)\n",
    "        dec_riaz2006.append(coord.dec.deg)"
   ]
  },
  {
   "cell_type": "code",
   "execution_count": 106,
   "metadata": {},
   "outputs": [],
   "source": [
    "ra_riaz2006 = np.array(ra_riaz2006)\n",
    "dec_riaz2006 = np.array(dec_riaz2006)\n",
    "N_riaz2006 = len(dec_riaz2006)\n",
    "spt_riaz2006 = organize_spt(riaz2006['SpT'])\n",
    "ewha_riaz2006 = np.array(riaz2006['EWHa'])\n",
    "ewha_err_riaz2006 = np.ones(N_riaz2006)*0.5 #says the paper\n",
    "lhalbol_riaz2006 = np.ones(N_riaz2006)*np.nan\n",
    "lhalbol_err_riaz2006 = np.ones(N_riaz2006)*np.nan\n",
    "age_riaz2006 = np.ones(N_riaz2006)*np.nan\n",
    "age_err_riaz2006 = np.ones(N_riaz2006)*np.nan\n",
    "\n",
    "group_num_riaz2006 = np.ones(N_riaz2006)*np.nan\n",
    "group_name_riaz2006 = np.ones(N_riaz2006)*np.nan\n",
    "source_num_riaz2006 = np.ones(N_riaz2006)*source_ref['source_num'][source_ref['source_ref']=='Riaz 2006'][0]\n",
    "source_ref_riaz2006 = np.array(['Riaz 2006' for x in range(N_riaz2006)])"
   ]
  },
  {
   "cell_type": "code",
   "execution_count": 107,
   "metadata": {},
   "outputs": [],
   "source": [
    "ra_all.append(ra_riaz2006) \n",
    "dec_all.append(dec_riaz2006)\n",
    "spt_all.append(spt_riaz2006)\n",
    "ewha_all.append(ewha_riaz2006)\n",
    "ewha_err_all.append(ewha_err_riaz2006)\n",
    "lhalbol_all.append(lhalbol_riaz2006)\n",
    "lhalbol_err_all.append(lhalbol_err_riaz2006)\n",
    "age_all.append(age_riaz2006)\n",
    "age_err_all.append(age_err_riaz2006)\n",
    "group_num_all.append(group_num_riaz2006)\n",
    "group_name_all.append(group_name_riaz2006)\n",
    "source_num_all.append(source_num_riaz2006)\n",
    "source_ref_all.append(source_ref_riaz2006)"
   ]
  },
  {
   "cell_type": "markdown",
   "metadata": {},
   "source": [
    "## Reiners 2010"
   ]
  },
  {
   "cell_type": "code",
   "execution_count": 108,
   "metadata": {},
   "outputs": [],
   "source": [
    "reiners2010 = Table.read('Catalogs/Reiners2010.csv')"
   ]
  },
  {
   "cell_type": "code",
   "execution_count": 109,
   "metadata": {},
   "outputs": [],
   "source": [
    "ra_reiners2010,dec_reiners2010 = [],[]\n",
    "for x in reiners2010['2mass']:\n",
    "    ra_name='none'\n",
    "    dec_name='none'\n",
    "    if('A' in x or 'B' in x):\n",
    "        ra_reiners2010.append(np.nan)\n",
    "        dec_reiners2010.append(np.nan)\n",
    "    elif('+' in x):\n",
    "        ra,dec = x.split('+')\n",
    "        if(len(ra)==8 or len(ra)==7):\n",
    "            ra_name = ra[:2]+':'+ra[2:4]+':'+ra[4:6]+'.'+ra[6:]\n",
    "        elif(len(ra)==6):\n",
    "            ra_name = ra[:2]+':'+ra[2:4]+':'+ra[4:6]\n",
    "        else:\n",
    "            print(ra)\n",
    "            \n",
    "        if(len(dec)==8 or len(dec)==7):\n",
    "            dec_name = dec[:2]+':'+dec[2:4]+':'+dec[4:6]+'.'+dec[6:]\n",
    "        elif(len(dec)==6):\n",
    "            dec_name = dec[:2]+':'+dec[2:4]+':'+dec[4:6]\n",
    "        else:\n",
    "            print(dec)\n",
    "        star_name = ra_name+'+'+dec_name\n",
    "        #print(star_name)\n",
    "        coord = SkyCoord(star_name, unit=(u.hourangle, u.deg))\n",
    "        ra_reiners2010.append(coord.ra.deg)\n",
    "        dec_reiners2010.append(coord.dec.deg)\n",
    "    elif('-' in x):\n",
    "        ra,dec = x.split('-')\n",
    "        if(len(ra)==8 or len(ra)==7):\n",
    "            ra_name = ra[:2]+':'+ra[2:4]+':'+ra[4:6]+'.'+ra[6:]\n",
    "        elif(len(ra)==6):\n",
    "            ra_name = ra[:2]+':'+ra[2:4]+':'+ra[4:6]\n",
    "        else:\n",
    "            print(ra)\n",
    "            \n",
    "        if(len(dec)==8 or len(dec)==7):\n",
    "            dec_name = dec[:2]+':'+dec[2:4]+':'+dec[4:6]+'.'+dec[6:]\n",
    "        elif(len(dec)==6):\n",
    "            dec_name = dec[:2]+':'+dec[2:4]+':'+dec[4:6]\n",
    "        else:\n",
    "            print(dec)\n",
    "        star_name = ra_name+'-'+dec_name\n",
    "        #print(star_name)\n",
    "        coord = SkyCoord(star_name, unit=(u.hourangle, u.deg))\n",
    "        ra_reiners2010.append(coord.ra.deg)\n",
    "        dec_reiners2010.append(coord.dec.deg)"
   ]
  },
  {
   "cell_type": "code",
   "execution_count": 110,
   "metadata": {},
   "outputs": [],
   "source": [
    "ra_reiners2010 = np.array(ra_reiners2010)\n",
    "dec_reiners2010 = np.array(dec_reiners2010)\n",
    "N_reiners2010 = len(dec_reiners2010)\n",
    "spt_reiners2010 = np.array(reiners2010['spt'])\n",
    "ewha_reiners2010 = np.array(reiners2010['ewha'])\n",
    "ewha_err_reiners2010 = np.array(reiners2010['ewha_err'])\n",
    "lhalbol_reiners2010 = np.array(reiners2010['Lhalbol'])\n",
    "lhalbol_err_reiners2010 = np.ones(N_reiners2010)*np.nan\n",
    "age_reiners2010 = np.ones(N_reiners2010)*np.nan\n",
    "age_err_reiners2010 = np.ones(N_reiners2010)*np.nan\n",
    "\n",
    "group_num_reiners2010 = np.ones(N_reiners2010)*np.nan\n",
    "group_name_reiners2010 = np.ones(N_reiners2010)*np.nan\n",
    "source_num_reiners2010 = np.ones(N_reiners2010)*source_ref['source_num'][source_ref['source_ref']=='Reiners 2010'][0]\n",
    "source_ref_reiners2010 = np.array(['Reiners 2010' for x in range(N_reiners2010)])"
   ]
  },
  {
   "cell_type": "code",
   "execution_count": 111,
   "metadata": {},
   "outputs": [],
   "source": [
    "ra_all.append(ra_reiners2010) \n",
    "dec_all.append(dec_reiners2010)\n",
    "spt_all.append(spt_reiners2010)\n",
    "ewha_all.append(ewha_reiners2010)\n",
    "ewha_err_all.append(ewha_err_reiners2010)\n",
    "lhalbol_all.append(lhalbol_reiners2010)\n",
    "lhalbol_err_all.append(lhalbol_err_reiners2010)\n",
    "age_all.append(age_reiners2010)\n",
    "age_err_all.append(age_err_reiners2010)\n",
    "group_num_all.append(group_num_reiners2010)\n",
    "group_name_all.append(group_name_reiners2010)\n",
    "source_num_all.append(source_num_reiners2010)\n",
    "source_ref_all.append(source_ref_reiners2010)"
   ]
  },
  {
   "cell_type": "markdown",
   "metadata": {},
   "source": [
    "## All"
   ]
  },
  {
   "cell_type": "code",
   "execution_count": 112,
   "metadata": {},
   "outputs": [],
   "source": [
    "movinggroups = Table()"
   ]
  },
  {
   "cell_type": "code",
   "execution_count": 113,
   "metadata": {},
   "outputs": [],
   "source": [
    "movinggroups['ra'] = np.concatenate([ra_i for ra_i in ra_all])\n",
    "movinggroups['dec'] = np.concatenate([dec_i for dec_i in dec_all])\n",
    "movinggroups['spt'] = np.concatenate([spt_i for spt_i in spt_all])\n",
    "movinggroups['ewha'] = np.concatenate([ewha_i for ewha_i in ewha_all])\n",
    "movinggroups['ewha_error'] = np.concatenate([ewha_err_i for ewha_err_i in ewha_err_all])\n",
    "movinggroups['lhalbol'] = np.concatenate([lhalbol_i for lhalbol_i in lhalbol_all])\n",
    "movinggroups['lhalbol_error'] = np.concatenate([lhalbol_err_i for lhalbol_err_i in lhalbol_err_all])\n",
    "movinggroups['age'] = np.concatenate([age_i for age_i in age_all])\n",
    "movinggroups['age_error'] = np.concatenate([age_err_i for age_err_i in age_err_all])\n",
    "movinggroups['group_num'] = np.concatenate([group_num_i for group_num_i in group_num_all])\n",
    "movinggroups['group_name'] = np.concatenate([group_name_i for group_name_i in group_name_all])\n",
    "movinggroups['source_num'] = np.concatenate([source_num_i for source_num_i in source_num_all])\n",
    "movinggroups['source_ref'] = np.concatenate([source_ref_i for source_ref_i in source_ref_all])"
   ]
  },
  {
   "cell_type": "code",
   "execution_count": 114,
   "metadata": {},
   "outputs": [
    {
     "data": {
      "text/html": [
       "<i>Table length=4942</i>\n",
       "<table id=\"table4772891056\" class=\"table-striped table-bordered table-condensed\">\n",
       "<thead><tr><th>ra</th><th>dec</th><th>spt</th><th>ewha</th><th>ewha_error</th><th>lhalbol</th><th>lhalbol_error</th><th>age</th><th>age_error</th><th>group_num</th><th>group_name</th><th>source_num</th><th>source_ref</th></tr></thead>\n",
       "<thead><tr><th>float64</th><th>float64</th><th>float64</th><th>float64</th><th>float64</th><th>float64</th><th>float64</th><th>float64</th><th>float64</th><th>float64</th><th>str32</th><th>float64</th><th>str17</th></tr></thead>\n",
       "<tr><td>125.5075833</td><td>20.326775</td><td>2.0</td><td>nan</td><td>nan</td><td>nan</td><td>nan</td><td>650.0</td><td>50.0</td><td>18.0</td><td>PRA</td><td>1.0</td><td>Douglas 2014</td></tr>\n",
       "<tr><td>125.5090833</td><td>19.9997861</td><td>-5.0</td><td>-0.557</td><td>0.122</td><td>nan</td><td>nan</td><td>650.0</td><td>50.0</td><td>18.0</td><td>PRA</td><td>1.0</td><td>Douglas 2014</td></tr>\n",
       "<tr><td>125.641375</td><td>19.0644333</td><td>-9.0</td><td>nan</td><td>nan</td><td>nan</td><td>nan</td><td>650.0</td><td>50.0</td><td>18.0</td><td>PRA</td><td>1.0</td><td>Douglas 2014</td></tr>\n",
       "<tr><td>125.7142083</td><td>18.8007</td><td>3.0</td><td>nan</td><td>nan</td><td>nan</td><td>nan</td><td>650.0</td><td>50.0</td><td>18.0</td><td>PRA</td><td>1.0</td><td>Douglas 2014</td></tr>\n",
       "<tr><td>126.038875</td><td>20.0235917</td><td>1.0</td><td>nan</td><td>nan</td><td>nan</td><td>nan</td><td>650.0</td><td>50.0</td><td>18.0</td><td>PRA</td><td>1.0</td><td>Douglas 2014</td></tr>\n",
       "<tr><td>126.1385</td><td>19.2953222</td><td>3.0</td><td>nan</td><td>nan</td><td>nan</td><td>nan</td><td>650.0</td><td>50.0</td><td>18.0</td><td>PRA</td><td>1.0</td><td>Douglas 2014</td></tr>\n",
       "<tr><td>126.3072083</td><td>17.612575</td><td>4.0</td><td>nan</td><td>nan</td><td>nan</td><td>nan</td><td>650.0</td><td>50.0</td><td>18.0</td><td>PRA</td><td>1.0</td><td>Douglas 2014</td></tr>\n",
       "<tr><td>126.3172083</td><td>18.9108389</td><td>6.0</td><td>nan</td><td>nan</td><td>nan</td><td>nan</td><td>650.0</td><td>50.0</td><td>18.0</td><td>PRA</td><td>1.0</td><td>Douglas 2014</td></tr>\n",
       "<tr><td>126.342625</td><td>20.3657722</td><td>6.0</td><td>10.353</td><td>1.182</td><td>0.00012761</td><td>2.989e-05</td><td>650.0</td><td>50.0</td><td>18.0</td><td>PRA</td><td>1.0</td><td>Douglas 2014</td></tr>\n",
       "<tr><td>126.35425</td><td>20.2216028</td><td>2.0</td><td>nan</td><td>nan</td><td>nan</td><td>nan</td><td>650.0</td><td>50.0</td><td>18.0</td><td>PRA</td><td>1.0</td><td>Douglas 2014</td></tr>\n",
       "<tr><td>...</td><td>...</td><td>...</td><td>...</td><td>...</td><td>...</td><td>...</td><td>...</td><td>...</td><td>...</td><td>...</td><td>...</td><td>...</td></tr>\n",
       "<tr><td>53.547499999999985</td><td>-49.89277777777778</td><td>9.0</td><td>0.0</td><td>0.2</td><td>0.0</td><td>nan</td><td>nan</td><td>nan</td><td>nan</td><td>nan</td><td>14.0</td><td>Reiners 2010</td></tr>\n",
       "<tr><td>54.89666666666666</td><td>-35.428888888888885</td><td>9.0</td><td>1.3</td><td>0.2</td><td>-5.3</td><td>nan</td><td>nan</td><td>nan</td><td>nan</td><td>nan</td><td>14.0</td><td>Reiners 2010</td></tr>\n",
       "<tr><td>70.90666666666667</td><td>0.034722222222222224</td><td>9.0</td><td>2.7</td><td>0.2</td><td>-5.0</td><td>nan</td><td>nan</td><td>nan</td><td>nan</td><td>nan</td><td>14.0</td><td>Reiners 2010</td></tr>\n",
       "<tr><td>133.4008333333333</td><td>-3.4922222222222223</td><td>9.0</td><td>31.8</td><td>0.2</td><td>-3.93</td><td>nan</td><td>nan</td><td>nan</td><td>nan</td><td>nan</td><td>14.0</td><td>Reiners 2010</td></tr>\n",
       "<tr><td>162.06125</td><td>-39.934999999999995</td><td>9.0</td><td>1.9</td><td>0.2</td><td>-5.15</td><td>nan</td><td>nan</td><td>nan</td><td>nan</td><td>nan</td><td>14.0</td><td>Reiners 2010</td></tr>\n",
       "<tr><td>186.21749999999997</td><td>-12.643055555555556</td><td>9.0</td><td>8.0</td><td>0.2</td><td>-4.52</td><td>nan</td><td>nan</td><td>nan</td><td>nan</td><td>nan</td><td>14.0</td><td>Reiners 2010</td></tr>\n",
       "<tr><td>212.83874999999998</td><td>-21.330555555555556</td><td>9.0</td><td>3.1</td><td>0.2</td><td>-4.93</td><td>nan</td><td>nan</td><td>nan</td><td>nan</td><td>nan</td><td>14.0</td><td>Reiners 2010</td></tr>\n",
       "<tr><td>6.1025</td><td>-1.9719444444444445</td><td>9.5</td><td>0.0</td><td>0.2</td><td>0.0</td><td>nan</td><td>nan</td><td>nan</td><td>nan</td><td>nan</td><td>14.0</td><td>Reiners 2010</td></tr>\n",
       "<tr><td>219.53416666666664</td><td>64.14333333333335</td><td>9.5</td><td>5.4</td><td>0.2</td><td>-4.77</td><td>nan</td><td>nan</td><td>nan</td><td>nan</td><td>nan</td><td>14.0</td><td>Reiners 2010</td></tr>\n",
       "<tr><td>339.38541666666663</td><td>39.3775</td><td>9.5</td><td>3.1</td><td>0.2</td><td>-5.02</td><td>nan</td><td>nan</td><td>nan</td><td>nan</td><td>nan</td><td>14.0</td><td>Reiners 2010</td></tr>\n",
       "</table>"
      ],
      "text/plain": [
       "<Table length=4942>\n",
       "        ra                 dec            spt   ... source_num  source_ref \n",
       "     float64             float64        float64 ...  float64      str17    \n",
       "------------------ -------------------- ------- ... ---------- ------------\n",
       "       125.5075833            20.326775     2.0 ...        1.0 Douglas 2014\n",
       "       125.5090833           19.9997861    -5.0 ...        1.0 Douglas 2014\n",
       "        125.641375           19.0644333    -9.0 ...        1.0 Douglas 2014\n",
       "       125.7142083              18.8007     3.0 ...        1.0 Douglas 2014\n",
       "        126.038875           20.0235917     1.0 ...        1.0 Douglas 2014\n",
       "          126.1385           19.2953222     3.0 ...        1.0 Douglas 2014\n",
       "       126.3072083            17.612575     4.0 ...        1.0 Douglas 2014\n",
       "       126.3172083           18.9108389     6.0 ...        1.0 Douglas 2014\n",
       "        126.342625           20.3657722     6.0 ...        1.0 Douglas 2014\n",
       "         126.35425           20.2216028     2.0 ...        1.0 Douglas 2014\n",
       "               ...                  ...     ... ...        ...          ...\n",
       "53.547499999999985   -49.89277777777778     9.0 ...       14.0 Reiners 2010\n",
       " 54.89666666666666  -35.428888888888885     9.0 ...       14.0 Reiners 2010\n",
       " 70.90666666666667 0.034722222222222224     9.0 ...       14.0 Reiners 2010\n",
       " 133.4008333333333  -3.4922222222222223     9.0 ...       14.0 Reiners 2010\n",
       "         162.06125  -39.934999999999995     9.0 ...       14.0 Reiners 2010\n",
       "186.21749999999997  -12.643055555555556     9.0 ...       14.0 Reiners 2010\n",
       "212.83874999999998  -21.330555555555556     9.0 ...       14.0 Reiners 2010\n",
       "            6.1025  -1.9719444444444445     9.5 ...       14.0 Reiners 2010\n",
       "219.53416666666664    64.14333333333335     9.5 ...       14.0 Reiners 2010\n",
       "339.38541666666663              39.3775     9.5 ...       14.0 Reiners 2010"
      ]
     },
     "execution_count": 114,
     "metadata": {},
     "output_type": "execute_result"
    }
   ],
   "source": [
    "movinggroups"
   ]
  },
  {
   "cell_type": "code",
   "execution_count": 115,
   "metadata": {},
   "outputs": [
    {
     "name": "stderr",
     "output_type": "stream",
     "text": [
      "/Users/rociokiman/anaconda3/lib/python3.7/site-packages/astropy/table/column.py:965: RuntimeWarning: invalid value encountered in less\n",
      "  return getattr(self.data, op)(other)\n"
     ]
    },
    {
     "data": {
      "image/png": "[encoded data removed]",
      "text/plain": [
       "<Figure size 432x288 with 1 Axes>"
      ]
     },
     "metadata": {
      "needs_background": "light"
     },
     "output_type": "display_data"
    }
   ],
   "source": [
    "mask = ~np.isnan(movinggroups['ewha'])\n",
    "mask_inactive = movinggroups['ewha'] < 0.75\n",
    "plt.hist(movinggroups['spt'][mask],bins=np.arange(-10,10),label='all');\n",
    "plt.hist(movinggroups['spt'][mask*mask_inactive],bins=np.arange(-10,10),label='inactive: ewha <0.75')\n",
    "plt.legend();"
   ]
  },
  {
   "cell_type": "code",
   "execution_count": 116,
   "metadata": {},
   "outputs": [
    {
     "name": "stderr",
     "output_type": "stream",
     "text": [
      "/Users/rociokiman/anaconda3/lib/python3.7/site-packages/matplotlib/axes/_axes.py:6521: MatplotlibDeprecationWarning: \n",
      "The 'normed' kwarg was deprecated in Matplotlib 2.1 and will be removed in 3.1. Use 'density' instead.\n",
      "  alternative=\"'density'\", removal=\"3.1\")\n"
     ]
    },
    {
     "data": {
      "image/png": "[encoded data removed]",
      "text/plain": [
       "<Figure size 432x288 with 1 Axes>"
      ]
     },
     "metadata": {
      "needs_background": "light"
     },
     "output_type": "display_data"
    }
   ],
   "source": [
    "plt.hist(movinggroups['spt'][mask],bins=np.arange(-10,10),label='all',\n",
    "         normed=True);\n",
    "plt.hist(movinggroups['spt'][mask*mask_inactive],bins=np.arange(-10,10),label='inactive: ewha <0.75',\n",
    "         normed=True)\n",
    "plt.legend();"
   ]
  },
  {
   "cell_type": "code",
   "execution_count": 117,
   "metadata": {},
   "outputs": [
    {
     "name": "stderr",
     "output_type": "stream",
     "text": [
      "/Users/rociokiman/anaconda3/lib/python3.7/site-packages/ipykernel_launcher.py:3: RuntimeWarning: divide by zero encountered in log10\n",
      "  This is separate from the ipykernel package so we can avoid doing imports until\n",
      "/Users/rociokiman/anaconda3/lib/python3.7/site-packages/ipykernel_launcher.py:4: RuntimeWarning: divide by zero encountered in log10\n",
      "  after removing the cwd from sys.path.\n"
     ]
    },
    {
     "data": {
      "image/png": "[encoded data removed]",
      "text/plain": [
       "<Figure size 432x288 with 1 Axes>"
      ]
     },
     "metadata": {
      "needs_background": "light"
     },
     "output_type": "display_data"
    },
    {
     "name": "stderr",
     "output_type": "stream",
     "text": [
      "/Users/rociokiman/anaconda3/lib/python3.7/site-packages/ipykernel_launcher.py:11: RuntimeWarning: divide by zero encountered in log10\n",
      "  # This is added back by InteractiveShellApp.init_path()\n"
     ]
    },
    {
     "data": {
      "image/png": "[encoded data removed]",
      "text/plain": [
       "<Figure size 432x288 with 2 Axes>"
      ]
     },
     "metadata": {
      "needs_background": "light"
     },
     "output_type": "display_data"
    }
   ],
   "source": [
    "linewidth=0.5\n",
    "min_halpha = np.min(movinggroups['ewha'][~np.isnan(movinggroups['ewha'])])\n",
    "plt.scatter(np.log10(movinggroups['age']),np.log10(movinggroups['ewha']-min_halpha),s=10)\n",
    "plt.scatter(np.log10(movinggroups['age'][mask_inactive]),np.log10(movinggroups['ewha'][mask_inactive]-min_halpha),\n",
    "            s=10)\n",
    "plt.axhline(y=np.log10(-min_halpha),color='k',linestyle='--',linewidth=linewidth)\n",
    "plt.axhline(y=np.log10(20),color='k',linestyle='--',linewidth=linewidth)\n",
    "#plt.ylim(-10,50)\n",
    "plt.show()\n",
    "\n",
    "plt.scatter(np.log10(movinggroups['age']),np.log10(movinggroups['ewha']-min_halpha),c=movinggroups['spt'],s=10,vmin=0)\n",
    "plt.axhline(y=np.log10(-min_halpha),color='k',linestyle='--',linewidth=linewidth)\n",
    "plt.axhline(y=np.log10(20),color='k',linestyle='--',linewidth=linewidth)\n",
    "plt.colorbar()\n",
    "#plt.ylim(-10,50)\n",
    "plt.show()"
   ]
  },
  {
   "cell_type": "code",
   "execution_count": 118,
   "metadata": {},
   "outputs": [],
   "source": [
    "movinggroups.write('Catalogs/mactivity_movinggroups.fits',format='fits',overwrite=True)"
   ]
  },
  {
   "cell_type": "code",
   "execution_count": null,
   "metadata": {},
   "outputs": [],
   "source": []
  },
  {
   "cell_type": "code",
   "execution_count": null,
   "metadata": {},
   "outputs": [],
   "source": []
  }
 ],
 "metadata": {
  "kernelspec": {
   "display_name": "Python 3",
   "language": "python",
   "name": "python3"
  },
  "language_info": {
   "codemirror_mode": {
    "name": "ipython",
    "version": 3
   },
   "file_extension": ".py",
   "mimetype": "text/x-python",
   "name": "python",
   "nbconvert_exporter": "python",
   "pygments_lexer": "ipython3",
   "version": "3.7.3"
  }
 },
 "nbformat": 4,
 "nbformat_minor": 2
}
