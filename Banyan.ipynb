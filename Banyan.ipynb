{
 "cells": [
  {
   "cell_type": "code",
   "execution_count": 1,
   "metadata": {},
   "outputs": [],
   "source": [
    "from astropy.io import fits\n",
    "import numpy as np\n",
    "from astropy.table import Table\n",
    "import sys\n",
    "sys.path.append('/Users/rociokiman/Documents/Gaia-Cupid/ActivityAgeRelation/banyan_sigma')\n",
    "from banyan_sigma import banyan_sigma\n",
    "import matplotlib.pyplot as plt\n",
    "from astropy.coordinates import SkyCoord  # High-level coordinates\n",
    "import astropy.units as u\n",
    "%config InlineBackend.figure_format = 'retina'"
   ]
  },
  {
   "cell_type": "markdown",
   "metadata": {},
   "source": [
    "# Members from the literature"
   ]
  },
  {
   "cell_type": "code",
   "execution_count": 2,
   "metadata": {},
   "outputs": [],
   "source": [
    "mg = fits.open('Catalogs/mactivity_movinggroups_gaia.fits')"
   ]
  },
  {
   "cell_type": "code",
   "execution_count": 3,
   "metadata": {},
   "outputs": [],
   "source": [
    "mg_ref = Table.read('Catalogs/moving_groups_ref.csv',format='csv')\n",
    "source_ref = Table.read('Catalogs/source_ref.csv',format='csv')"
   ]
  },
  {
   "cell_type": "code",
   "execution_count": 4,
   "metadata": {},
   "outputs": [],
   "source": [
    "ra = np.array([float(x) for x in mg[1].data['ra_x']])\n",
    "ra_err = np.array([float(x) for x in mg[1].data['ra_error']])\n",
    "dec = np.array([float(x) for x in mg[1].data['dec_x']])\n",
    "pmra = np.array([float(x) for x in mg[1].data['pmra']])\n",
    "pmra_error = np.array([float(x) for x in mg[1].data['pmra_error']])\n",
    "pmdec = np.array([float(x) for x in mg[1].data['pmdec']])\n",
    "pmdec_error = np.array([float(x) for x in mg[1].data['pmdec_error']])\n",
    "parallax = np.array([float(x) for x in mg[1].data['parallax']])\n",
    "parallax_error = np.array([float(x) for x in mg[1].data['parallax_error']])\n",
    "rv = np.array([float(x) for x in mg[1].data['radial_velocity']])\n",
    "rv_error = np.array([float(x) for x in mg[1].data['radial_velocity_error']])"
   ]
  },
  {
   "cell_type": "code",
   "execution_count": 5,
   "metadata": {},
   "outputs": [
    {
     "data": {
      "text/plain": [
       "5075"
      ]
     },
     "execution_count": 5,
     "metadata": {},
     "output_type": "execute_result"
    }
   ],
   "source": [
    "len(ra)"
   ]
  },
  {
   "cell_type": "code",
   "execution_count": 6,
   "metadata": {},
   "outputs": [
    {
     "name": "stderr",
     "output_type": "stream",
     "text": [
      "/Users/rociokiman/anaconda3/lib/python3.7/site-packages/ipykernel_launcher.py:2: RuntimeWarning: invalid value encountered in greater\n",
      "  \n"
     ]
    }
   ],
   "source": [
    "mask_nan = (~np.isnan(ra+dec+pmra+pmra_error+pmdec+pmdec_error+parallax+parallax_error) \n",
    "           * (parallax/parallax_error > 8))"
   ]
  },
  {
   "cell_type": "code",
   "execution_count": 7,
   "metadata": {},
   "outputs": [],
   "source": [
    "group = np.array(mg[1].data['group_name'])[mask_nan]"
   ]
  },
  {
   "cell_type": "code",
   "execution_count": 8,
   "metadata": {},
   "outputs": [
    {
     "data": {
      "text/plain": [
       "4849"
      ]
     },
     "execution_count": 8,
     "metadata": {},
     "output_type": "execute_result"
    }
   ],
   "source": [
    "len(ra[mask_nan])"
   ]
  },
  {
   "cell_type": "code",
   "execution_count": 9,
   "metadata": {},
   "outputs": [],
   "source": [
    "OUTPUT_STRUCTURE1 = banyan_sigma(ra=ra[mask_nan], dec=dec[mask_nan], pmra=pmra[mask_nan], pmdec=pmdec[mask_nan], \n",
    "                                epmra=pmra_error[mask_nan], epmdec=pmdec_error[mask_nan],\n",
    "                                rv=rv[mask_nan], erv=rv_error[mask_nan], \n",
    "                                plx=parallax[mask_nan], eplx=parallax_error[mask_nan])"
   ]
  },
  {
   "cell_type": "code",
   "execution_count": 10,
   "metadata": {},
   "outputs": [],
   "source": [
    "prob_ya = np.array(OUTPUT_STRUCTURE1['YA_PROB']).reshape(len(OUTPUT_STRUCTURE1['YA_PROB']),)\n",
    "best_ya = np.array(OUTPUT_STRUCTURE1['BEST_YA']).reshape(len(OUTPUT_STRUCTURE1['BEST_YA']),)"
   ]
  },
  {
   "cell_type": "code",
   "execution_count": 11,
   "metadata": {},
   "outputs": [],
   "source": [
    "highprob = prob_ya>0.8\n"
   ]
  },
  {
   "cell_type": "code",
   "execution_count": 12,
   "metadata": {},
   "outputs": [
    {
     "data": {
      "text/plain": [
       "1680"
      ]
     },
     "execution_count": 12,
     "metadata": {},
     "output_type": "execute_result"
    }
   ],
   "source": [
    "len(best_ya[highprob])"
   ]
  },
  {
   "cell_type": "code",
   "execution_count": 13,
   "metadata": {},
   "outputs": [],
   "source": [
    "mg_table = Table.read('Catalogs/mactivity_movinggroups_gaia.fits')\n",
    "mg_ref = Table.read('Catalogs/moving_groups_ref.csv')"
   ]
  },
  {
   "cell_type": "code",
   "execution_count": 14,
   "metadata": {},
   "outputs": [],
   "source": [
    "highprob_mask = highprob.reshape(len(highprob),)"
   ]
  },
  {
   "cell_type": "markdown",
   "metadata": {},
   "source": [
    "# Praesepe Members"
   ]
  },
  {
   "cell_type": "code",
   "execution_count": 15,
   "metadata": {},
   "outputs": [],
   "source": [
    "source_id_praesepe = np.loadtxt('Catalogs/source_id_pra.txt')"
   ]
  },
  {
   "cell_type": "code",
   "execution_count": 16,
   "metadata": {},
   "outputs": [],
   "source": [
    "bf_pra = np.array([True if x in source_id_praesepe else False for x in mg[1].data['source_id']])"
   ]
  },
  {
   "cell_type": "code",
   "execution_count": 17,
   "metadata": {},
   "outputs": [],
   "source": [
    "def remove(string): \n",
    "    return string.replace(\" \", \"\")"
   ]
  },
  {
   "cell_type": "code",
   "execution_count": 18,
   "metadata": {},
   "outputs": [],
   "source": [
    "for i in range(len(mg_table['group_name'])):\n",
    "    if(remove(mg_table['group_name'][i])=='PRA' and bf_pra[i]):\n",
    "        mg_table['group_name'][i] = 'PRA'\n",
    "        mg_table['group_num'][i] = mg_ref['group_num'][mg_ref['name']=='PRA'][0]\n",
    "        mg_table['age'][i] = mg_ref['age'][mg_ref['name']=='PRA'][0]\n",
    "        mg_table['age_error'][i] = mg_ref['age_error'][mg_ref['name']=='PRA'][0]"
   ]
  },
  {
   "cell_type": "markdown",
   "metadata": {},
   "source": [
    "# Literature checked with Banyan + Praesepe"
   ]
  },
  {
   "cell_type": "code",
   "execution_count": 19,
   "metadata": {},
   "outputs": [],
   "source": [
    "mask_all = np.logical_or(highprob_mask,bf_pra[mask_nan])"
   ]
  },
  {
   "cell_type": "code",
   "execution_count": 20,
   "metadata": {},
   "outputs": [],
   "source": [
    "mg_table_mg = mg_table[mask_nan][mask_all]"
   ]
  },
  {
   "cell_type": "code",
   "execution_count": 21,
   "metadata": {},
   "outputs": [],
   "source": [
    "mg_table_mg['ya_prob'] = prob_ya[mask_all]\n",
    "mg_table_mg['best_ya'] = np.array([str(x) for x in best_ya[mask_all]])"
   ]
  },
  {
   "cell_type": "code",
   "execution_count": 22,
   "metadata": {},
   "outputs": [
    {
     "data": {
      "text/plain": [
       "1705"
      ]
     },
     "execution_count": 22,
     "metadata": {},
     "output_type": "execute_result"
    }
   ],
   "source": [
    "len(mg_table_mg)"
   ]
  },
  {
   "cell_type": "markdown",
   "metadata": {},
   "source": [
    "# Correcting groups that don't agree"
   ]
  },
  {
   "cell_type": "code",
   "execution_count": 23,
   "metadata": {},
   "outputs": [],
   "source": [
    "for i in range(len(mg_table_mg)):\n",
    "    if(mg_table_mg['group_name'][i]!=mg_table_mg['best_ya'][i]):\n",
    "        if(mg_table_mg['group_name'][i]!='PRA'):\n",
    "            mask = mg_table_mg['best_ya'][i] == mg_ref['name']\n",
    "            mg_table_mg['group_name'][i] = mg_ref['name'][mask][0]\n",
    "            mg_table_mg['group_num'][i] = mg_ref['group_num'][mask][0]\n",
    "            mg_table_mg['age'][i] = mg_ref['age'][mask][0]\n",
    "            mg_table_mg['age_error'][i] = mg_ref['age_error'][mask][0]\n",
    "        elif(mg_table_mg['group_name'][i]=='PRA'):\n",
    "            mg_table_mg['best_ya'][i] = 'PRA'\n",
    "            mg_table_mg['ya_prob'][i] = np.nan"
   ]
  },
  {
   "cell_type": "markdown",
   "metadata": {},
   "source": [
    "# Members from MLSDSS-GaiaDR2"
   ]
  },
  {
   "cell_type": "code",
   "execution_count": 24,
   "metadata": {},
   "outputs": [],
   "source": [
    "catalog = Table.read('../Gaia-Cupid/Catalogs/MLSDSS-GaiaDR2.fits')"
   ]
  },
  {
   "cell_type": "code",
   "execution_count": 25,
   "metadata": {},
   "outputs": [
    {
     "name": "stderr",
     "output_type": "stream",
     "text": [
      "/Users/rociokiman/anaconda3/lib/python3.7/site-packages/astropy/table/column.py:965: RuntimeWarning: invalid value encountered in greater\n",
      "  return getattr(self.data, op)(other)\n"
     ]
    }
   ],
   "source": [
    "mask_nan2 = (~np.isnan(catalog['RA']+catalog['DEC']+catalog['PMRA']+catalog['PMDEC']\n",
    "                     +catalog['PMRA_ERR']+catalog['PMDEC_ERR']+catalog['RV']\n",
    "                     +catalog['RV_ERR']+catalog['parallax']+catalog['parallax_error'])\n",
    "            * (catalog['GOODMATCH'] == 1) \n",
    "            * (catalog['parallax']/catalog['parallax_error']>8))"
   ]
  },
  {
   "cell_type": "code",
   "execution_count": 26,
   "metadata": {},
   "outputs": [],
   "source": [
    "OUTPUT_STRUCTURE2 = banyan_sigma(ra=catalog['RA'][mask_nan2], dec=catalog['DEC'][mask_nan2], \n",
    "                                pmra=catalog['PMRA'][mask_nan2], pmdec=catalog['PMDEC'][mask_nan2], \n",
    "                                epmra=catalog['PMRA_ERR'][mask_nan2], \n",
    "                                epmdec=catalog['PMDEC_ERR'][mask_nan2],\n",
    "                                rv=catalog['RV'][mask_nan2], erv=catalog['RV_ERR'][mask_nan2], \n",
    "                                plx=catalog['parallax'][mask_nan2], \n",
    "                                eplx=catalog['parallax_error'][mask_nan2])"
   ]
  },
  {
   "cell_type": "code",
   "execution_count": 27,
   "metadata": {},
   "outputs": [],
   "source": [
    "prob_ya = np.array(OUTPUT_STRUCTURE2['YA_PROB']).reshape(len(OUTPUT_STRUCTURE2['YA_PROB']),)\n",
    "best_ya = np.array(OUTPUT_STRUCTURE2['BEST_YA']).reshape(len(OUTPUT_STRUCTURE2['BEST_YA']),)"
   ]
  },
  {
   "cell_type": "code",
   "execution_count": 28,
   "metadata": {},
   "outputs": [],
   "source": [
    "highprob = prob_ya>0.8"
   ]
  },
  {
   "cell_type": "code",
   "execution_count": 29,
   "metadata": {},
   "outputs": [
    {
     "data": {
      "text/plain": [
       "25"
      ]
     },
     "execution_count": 29,
     "metadata": {},
     "output_type": "execute_result"
    }
   ],
   "source": [
    "len(best_ya[highprob])"
   ]
  },
  {
   "cell_type": "code",
   "execution_count": 30,
   "metadata": {},
   "outputs": [],
   "source": [
    "catalog_mg = catalog[mask_nan2][highprob]"
   ]
  },
  {
   "cell_type": "code",
   "execution_count": 31,
   "metadata": {},
   "outputs": [],
   "source": [
    "catalog_mg['best_ya'] = best_ya[highprob]\n",
    "catalog_mg['ya_prob'] = prob_ya[highprob]"
   ]
  },
  {
   "cell_type": "code",
   "execution_count": 32,
   "metadata": {},
   "outputs": [],
   "source": [
    "age = []\n",
    "age_error = []\n",
    "group_name = []\n",
    "group_num = []\n",
    "for i in range(len(catalog_mg['best_ya'])):\n",
    "    mask = catalog_mg['best_ya'][i] == mg_ref['name']\n",
    "    age.append(mg_ref['age'][mask][0])\n",
    "    age_error.append(mg_ref['age_error'][mask][0])\n",
    "    group_name.append(mg_ref['name'][mask][0])\n",
    "    group_num.append(mg_ref['group_num'][mask][0])\n",
    "\n",
    "source_num = np.ones(len(catalog_mg['ya_prob']))*source_ref['source_num'][source_ref['source_ref']=='Kiman 2019'][0]\n",
    "source_ref = np.array(['Kiman 2019' for x in range(len(catalog_mg['ya_prob']))])\n",
    "    \n",
    "age,age_error,group_name,group_num = np.array(age),np.array(age_error),np.array(group_name),np.array(group_num)"
   ]
  },
  {
   "cell_type": "markdown",
   "metadata": {},
   "source": [
    "# Compiling full sample of M dwarfs from moving groups"
   ]
  },
  {
   "cell_type": "code",
   "execution_count": 46,
   "metadata": {},
   "outputs": [],
   "source": [
    "fullsample = Table()"
   ]
  },
  {
   "cell_type": "code",
   "execution_count": 47,
   "metadata": {},
   "outputs": [],
   "source": [
    "fullsample['ra'] = np.concatenate((mg_table_mg['ra'],catalog_mg['RA']))\n",
    "fullsample['dec'] = np.concatenate((mg_table_mg['dec'],catalog_mg['DEC']))\n",
    "fullsample['ra_gaia'] = np.concatenate((mg_table_mg['ra_x'],catalog_mg['RA']))\n",
    "fullsample['dec_gaia'] = np.concatenate((mg_table_mg['dec_x'],catalog_mg['DEC']))\n",
    "fullsample['spt'] = np.concatenate((mg_table_mg['spt'],catalog_mg['SPT']))\n",
    "fullsample['phot_g_mean_mag'] = np.concatenate((mg_table_mg['phot_g_mean_mag'],catalog_mg['phot_g_mean_mag']))\n",
    "fullsample['phot_rp_mean_mag'] = np.concatenate((mg_table_mg['phot_rp_mean_mag'],catalog_mg['phot_rp_mean_mag']))\n",
    "fullsample['phot_bp_mean_mag'] = np.concatenate((mg_table_mg['phot_bp_mean_mag'],catalog_mg['phot_bp_mean_mag']))\n",
    "fullsample['parallax'] = np.concatenate((mg_table_mg['parallax'],catalog_mg['parallax']))\n",
    "fullsample['parallax_error'] = np.concatenate((mg_table_mg['parallax_error'],catalog_mg['parallax_error']))\n",
    "fullsample['ewha'] = np.concatenate((mg_table_mg['ewha'],catalog_mg['EWHA']))\n",
    "fullsample['ewha_error'] = np.concatenate((mg_table_mg['ewha_error'],catalog_mg['EWHA_ERR']))\n",
    "fullsample['lhalbol'] = np.concatenate((mg_table_mg['lhalbol'],catalog_mg['LHALBOL']))\n",
    "fullsample['lhalbol_error'] = np.concatenate((mg_table_mg['lhalbol_error'],catalog_mg['LHALBOL_ERR']))\n",
    "fullsample['age'] = np.concatenate((mg_table_mg['age'],age))\n",
    "fullsample['age_error'] = np.concatenate((mg_table_mg['age_error'],age_error))\n",
    "fullsample['group_num'] = np.concatenate((mg_table_mg['group_num'],group_num))\n",
    "fullsample['group_name'] = np.concatenate((mg_table_mg['group_name'],group_name))\n",
    "fullsample['ya_prob'] = np.concatenate((mg_table_mg['ya_prob'],catalog_mg['ya_prob']))\n",
    "fullsample['source_num'] = np.concatenate((mg_table_mg['source_num'],source_num))\n",
    "fullsample['source_ref'] = np.concatenate((mg_table_mg['source_ref'],source_ref))"
   ]
  },
  {
   "cell_type": "code",
   "execution_count": 48,
   "metadata": {},
   "outputs": [
    {
     "data": {
      "text/plain": [
       "1730"
      ]
     },
     "execution_count": 48,
     "metadata": {},
     "output_type": "execute_result"
    }
   ],
   "source": [
    "len(fullsample)"
   ]
  },
  {
   "cell_type": "markdown",
   "metadata": {},
   "source": [
    "# Identify repeated stars"
   ]
  },
  {
   "cell_type": "code",
   "execution_count": 49,
   "metadata": {},
   "outputs": [],
   "source": [
    "mask = (fullsample['ewha']>0) * (fullsample['ewha']/fullsample['ewha_error']>3)\n",
    "fullsample = fullsample[mask]"
   ]
  },
  {
   "cell_type": "code",
   "execution_count": 50,
   "metadata": {},
   "outputs": [],
   "source": [
    "extra_id = np.arange(len(fullsample['ra']))\n",
    "idx_sorted = np.argsort(fullsample['ra'])\n",
    "ra_sorted = fullsample['ra'][idx_sorted]\n",
    "dec_sorted = fullsample['dec'][idx_sorted]\n",
    "extra_id_sorted = extra_id[idx_sorted]"
   ]
  },
  {
   "cell_type": "code",
   "execution_count": 51,
   "metadata": {},
   "outputs": [],
   "source": [
    "same_star = np.zeros(len(ra_sorted))\n",
    "dummy = 1\n",
    "for i in range(len(ra_sorted)-1):\n",
    "    c1 = SkyCoord(ra=ra_sorted[i]*u.deg, dec=dec_sorted[i]*u.deg)\n",
    "    c2 = SkyCoord(ra=ra_sorted[i+1]*u.deg, dec=dec_sorted[i+1]*u.deg)\n",
    "    separation = c1.separation(c2).arcsec\n",
    "    if(separation < 2):\n",
    "        same_star[i] = dummy\n",
    "        same_star[i+1] = dummy\n",
    "    else:\n",
    "        dummy +=1"
   ]
  },
  {
   "cell_type": "code",
   "execution_count": 72,
   "metadata": {},
   "outputs": [
    {
     "name": "stdout",
     "output_type": "stream",
     "text": [
      "       ewha       source_num         ra               dec       \n",
      "----------------- ---------- ----------------- -----------------\n",
      "3.559000015258789       14.0 4.236679166666666 20.06532583333333\n",
      "              2.5       11.0         4.2367512        20.0653362\n",
      "       ewha       source_num         ra               dec        \n",
      "----------------- ---------- ----------------- ------------------\n",
      "              6.0       16.0 4.347499999999999 -66.75333333333333\n",
      "              6.0       10.0 4.348041666666665 -66.75344444444444\n",
      "4.800000190734863       17.0 4.348041666666666 -66.75347222222221\n",
      "              6.0       22.0         4.3480867        -66.7534256\n",
      "ewha source_num     ra        dec    \n",
      "---- ---------- --------- -----------\n",
      "0.68        7.0 6.3110417 -61.5134167\n",
      " 1.0        5.0 6.3110919 -61.5134034\n",
      "       ewha       source_num         ra                dec        \n",
      "----------------- ---------- ------------------ ------------------\n",
      "              7.8       16.0  6.959291666666665 -32.55166666666666\n",
      "7.800000190734863       10.0  6.959291666666666 -32.55166666666667\n",
      "              5.5        7.0          6.9592917        -32.5516667\n",
      "              7.8       22.0          6.9593067        -32.5517508\n",
      "5.599999904632568       17.0 6.9593333333333325 -32.55169444444444\n",
      "             10.0       17.0 6.9593333333333325 -32.55169444444444\n",
      "       ewha       source_num         ra               dec        \n",
      "----------------- ---------- ----------------- ------------------\n",
      "5.300000190734863       10.0 6.959791666666665 -32.55661111111111\n",
      "              5.3       16.0 6.959791666666666 -32.55661111111111\n",
      "              5.3       22.0         6.9598075        -32.5567025\n",
      "ewha source_num         ra               dec        \n",
      "---- ---------- ----------------- ------------------\n",
      "10.6       16.0 7.059749999999999 -32.46544444444445\n",
      "10.6       22.0          7.059795        -32.4654506\n",
      "ewha source_num     ra        dec    \n",
      "---- ---------- --------- -----------\n",
      "1.07        7.0 8.7133333 -61.9161944\n",
      " 0.7        5.0 8.7133416 -61.9161471\n",
      "ewha source_num         ra                dec        \n",
      "---- ---------- ------------------ ------------------\n",
      "92.7       15.0 10.397083333333331 -56.35333333333333\n",
      "34.1       22.0         10.3974531        -56.3535514\n",
      "       ewha        source_num         ra                dec        \n",
      "------------------ ---------- ------------------ ------------------\n",
      "               1.9       16.0 15.925416666666665  40.85438888888889\n",
      "  4.78000020980835       20.0 15.925458333333331 40.854388888888884\n",
      "2.4600000381469727       20.0 15.925458333333331 40.854388888888884\n",
      "       ewha       source_num         ra                dec        \n",
      "----------------- ---------- ------------------ ------------------\n",
      "5.699999809265137       10.0 18.145999999999994  17.06547222222222\n",
      "              5.7       16.0 18.145999999999997 17.065472222222223\n",
      "       ewha       source_num         ra                 dec        \n",
      "----------------- ---------- ------------------ -------------------\n",
      "              9.7       16.0 20.712208333333333 -24.664027777777775\n",
      "9.699999809265137       10.0 20.712208333333333 -24.664027777777775\n",
      "       ewha       source_num         ra                dec        \n",
      "----------------- ---------- ------------------ ------------------\n",
      "             11.8       16.0  21.11529166666666 -33.91905555555555\n",
      "6.769999980926514       20.0 21.115333333333336 -33.91905555555555\n",
      "6.619999885559082       20.0 21.115333333333336 -33.91905555555555\n",
      "       ewha       source_num         ra                dec        \n",
      "----------------- ---------- ----------------- -------------------\n",
      "9.399999618530273       17.0 21.12758333333333 -33.917111111111105\n",
      "6.300000190734863       17.0 21.12758333333333 -33.917111111111105\n",
      "       ewha       source_num         ra                dec        \n",
      "----------------- ---------- ------------------ ------------------\n",
      "              4.9       22.0         23.8080161         -7.2142931\n",
      "5.360000133514404       20.0  23.80804166666666 -7.214388888888889\n",
      "             15.3       16.0 23.808041666666668 -7.214361111111112\n",
      "             10.3        7.0         23.8080417         -7.2143611\n",
      "      ewha       source_num         ra                dec        \n",
      "---------------- ---------- ------------------ ------------------\n",
      "             6.0       16.0  24.22958333333333 -6.793888888888889\n",
      "5.03000020980835       20.0 24.229874999999996  -6.79386111111111\n",
      "       ewha        source_num         ra                dec        \n",
      "------------------ ---------- ------------------ ------------------\n",
      "3.0999999046325684       10.0  27.17029166666666 -48.51441666666666\n",
      "               3.1       16.0 27.170291666666664 -48.51441666666667\n",
      "       ewha       source_num         ra                dec        \n",
      "----------------- ---------- ------------------ ------------------\n",
      "             3.97        7.0         30.0532083             -8.681\n",
      "4.199999809265137       10.0 30.053208333333327 -8.680999999999997\n",
      "              4.2       16.0 30.053208333333327             -8.681\n",
      "ewha source_num         ra               dec        \n",
      "---- ---------- ----------------- ------------------\n",
      "2.62        7.0        31.7573333        -44.1105556\n",
      " 4.1       16.0 31.75733333333333 -44.11055555555556\n",
      "ewha source_num     ra         dec    \n",
      "---- ---------- ---------- -----------\n",
      "5.43        7.0 33.2424583 -58.8550556\n",
      "4.67       18.0 33.2428333 -58.8550833\n",
      " ewha source_num     ra         dec    \n",
      "----- ---------- ---------- -----------\n",
      "13.69        7.0 33.8886667 -56.4548611\n",
      "10.29       18.0 33.8890417 -56.4548889\n",
      "ewha source_num     ra         dec    \n",
      "---- ---------- ---------- -----------\n",
      "8.94        7.0  35.214125   -58.39475\n",
      "7.38       18.0 35.2145833 -58.3948056\n",
      "       ewha       source_num         ra               dec        \n",
      "----------------- ---------- ----------------- ------------------\n",
      "              4.4        7.0        35.6840833        -60.3798889\n",
      "              8.1       16.0 35.68408333333333 -60.37988888888889\n",
      "8.100000381469727       10.0 35.68408333333333 -60.37988888888888\n",
      "ewha source_num     ra         dec    \n",
      "---- ---------- ---------- -----------\n",
      "6.55        7.0 38.0805833 -57.7699167\n",
      "6.07       18.0     38.081 -57.7699722\n",
      "       ewha       source_num         ra                dec        \n",
      "----------------- ---------- ----------------- -------------------\n",
      "              5.3        5.0         39.215423         -52.0510003\n",
      "              5.8       22.0        39.2154231         -52.0510003\n",
      "              5.8       16.0 39.21545833333333 -52.050999999999995\n",
      "5.800000190734863       10.0 39.21545833333334             -52.051\n",
      "ewha source_num     ra         dec    \n",
      "---- ---------- ---------- -----------\n",
      "8.83        7.0  40.363375 -30.8208056\n",
      "8.86       18.0 40.3637083 -30.8208611\n",
      "ewha source_num     ra        dec    \n",
      "---- ---------- --------- -----------\n",
      "2.01        7.0 40.445125 -52.9978611\n",
      " 1.4        5.0  40.44515 -52.9978875\n",
      "ewha source_num         ra                dec        \n",
      "---- ---------- ------------------ ------------------\n",
      "3.96        7.0         40.4470833        -52.9918333\n",
      " 5.5       10.0 40.447083333333325 -52.99183333333332\n",
      " 5.5       16.0  40.44708333333333 -52.99183333333333\n",
      " 4.1        5.0          40.447106        -52.9918457\n",
      "ewha source_num     ra         dec    \n",
      "---- ---------- ---------- -----------\n",
      "9.41        7.0    40.5085 -53.9874167\n",
      "9.65       18.0 40.5089167 -53.9874167\n",
      "ewha source_num         ra          dec   \n",
      "---- ---------- ----------------- --------\n",
      " 9.6       16.0 42.21916666666666 -34.0735\n",
      "9.97        7.0        42.2191667 -34.0735\n",
      "ewha source_num     ra         dec    \n",
      "---- ---------- ---------- -----------\n",
      "7.09        7.0 42.5925833 -65.7653333\n",
      "7.19       18.0  42.593125 -65.7653333\n",
      "       ewha        source_num         ra               dec        \n",
      "------------------ ---------- ----------------- ------------------\n",
      "              10.1       16.0 42.74829166666666 -34.15138888888889\n",
      "10.100000381469727       10.0 42.74829166666666 -34.15138888888888\n",
      "              6.19        7.0        42.7482917        -34.1513889\n",
      "ewha source_num         ra                dec        \n",
      "---- ---------- ------------------ ------------------\n",
      " 3.1       16.0 43.638166666666656 -51.14202777777778\n",
      "2.46        7.0         43.6381667        -51.1420278\n",
      "ewha source_num     ra         dec    \n",
      "---- ---------- ---------- -----------\n",
      "6.81        7.0 43.8824167 -57.0478333\n",
      "7.92       18.0 43.8827917 -57.0478611\n",
      "       ewha       source_num         ra                 dec        \n",
      "----------------- ---------- ------------------ -------------------\n",
      "9.399999618530273       10.0 44.196166666666656  -63.71741666666666\n",
      "              9.4       16.0  44.19616666666666 -63.717416666666665\n",
      "             9.32        7.0         44.1961667         -63.7174167\n",
      " ewha source_num     ra         dec    \n",
      "----- ---------- ---------- -----------\n",
      " 8.95        7.0 46.2731667 -53.2883889\n",
      "10.25       18.0 46.2735417 -53.2884444\n",
      "ewha source_num     ra         dec    \n",
      "---- ---------- ---------- -----------\n",
      "4.27        7.0 47.9393333 -47.3305833\n",
      "4.51       18.0 47.9396667 -47.3306111\n",
      "ewha source_num     ra       dec   \n",
      "---- ---------- ---------- --------\n",
      "0.79        7.0 50.1982083 -50.6925\n",
      "1.28       18.0 50.1985833 -50.6925\n",
      "       ewha        source_num   ra           dec        \n",
      "------------------ ---------- ------ -------------------\n",
      "12.300000190734863       10.0 51.169  -39.07297222222221\n",
      "              12.3       16.0 51.169 -39.072972222222226\n",
      "              9.93        7.0 51.169         -39.0729722\n"
     ]
    },
    {
     "name": "stdout",
     "output_type": "stream",
     "text": [
      " ewha source_num     ra         dec    \n",
      "----- ---------- ---------- -----------\n",
      "10.01        7.0 52.3187083 -37.0472778\n",
      " 8.63       18.0 52.3190417 -37.0472778\n",
      "       ewha       source_num         ra                dec        \n",
      "----------------- ---------- ------------------ ------------------\n",
      "             1.17        7.0         52.9818333        -43.9870833\n",
      "1.899999976158142       10.0 52.981833333333334 -43.98708333333333\n",
      "       ewha       source_num    ra          dec        \n",
      "----------------- ---------- ------- ------------------\n",
      "              5.0       16.0 55.6325 12.272916666666667\n",
      "5.659999847412109       20.0 55.6325 12.272944444444443\n",
      "       ewha        source_num         ra                dec        \n",
      "------------------ ---------- ------------------ ------------------\n",
      "3.0999999046325684       10.0 56.419083333333326  -75.1533611111111\n",
      "               3.1       16.0 56.419083333333326 -75.15336111111111\n",
      "       ewha       source_num         ra                 dec        \n",
      "----------------- ---------- ------------------ -------------------\n",
      "              4.0       16.0  56.84720833333333 -1.9720833333333334\n",
      "2.759999990463257       20.0 56.847208333333334 -1.9720833333333334\n",
      "      ewha       source_num         ra                dec        \n",
      "---------------- ---------- ------------------ ------------------\n",
      "7.21999979019165       20.0 57.430208333333326 24.317972222222217\n",
      "             5.7       11.0          57.430312          24.317915\n",
      "ewha source_num     ra         dec    \n",
      "---- ---------- ---------- -----------\n",
      " 8.5        7.0 57.8452917 -51.9161667\n",
      " 7.7       18.0  57.845625 -51.9161389\n",
      "       ewha       source_num         ra               dec        \n",
      "----------------- ---------- ----------------- ------------------\n",
      "2.700000047683716       10.0 62.11187499999999 -78.74641666666666\n",
      "             1.58        7.0         62.111875        -78.7464167\n",
      "              2.7       16.0         62.111875 -78.74641666666666\n",
      "       ewha        source_num         ra               dec        \n",
      "------------------ ---------- ----------------- ------------------\n",
      "16.899999618530273       10.0 62.30887499999999 -40.13386111111111\n",
      "              16.9       16.0 62.30887499999999 -40.13386111111111\n",
      " ewha  source_num         ra                dec        \n",
      "------ ---------- ------------------ ------------------\n",
      " 7.655        1.0         62.8651667         15.9921694\n",
      "8.7558        3.0 62.865168000000004 15.992170000000002\n",
      "ewha source_num     ra         dec    \n",
      "---- ---------- ---------- -----------\n",
      "7.38        7.0  63.400375 -44.2256944\n",
      "9.47       18.0 63.4005833 -44.2256667\n",
      "       ewha        source_num         ra                dec       \n",
      "------------------ ---------- ------------------ -----------------\n",
      "               6.1       16.0 63.572083333333325 -9.11511111111111\n",
      " 6.099999904632568       10.0  63.57208333333333 -9.11511111111111\n",
      "14.149999618530273       20.0  63.57208333333333 -9.11511111111111\n",
      "       ewha       source_num         ra               dec       \n",
      "----------------- ---------- ----------------- -----------------\n",
      "8.399999618530273       17.0 64.32716666666666 8.822805555555554\n",
      "7.369999885559082       14.0         64.327175 8.822805277777777\n",
      "ewha source_num         ra               dec        \n",
      "---- ---------- ----------------- ------------------\n",
      " 3.5       16.0 65.41266666666665 -72.56561111111111\n",
      " 3.5       10.0 65.41266666666665  -72.5656111111111\n",
      "4.05        7.0        65.4126667        -72.5656111\n",
      "ewha source_num         ra               dec        \n",
      "---- ---------- ----------------- ------------------\n",
      " 6.1       16.0 67.91079166666667 -30.71413888888889\n",
      "7.51       18.0         67.910875        -30.7141389\n",
      "       ewha        source_num         ra               dec        \n",
      "------------------ ---------- ----------------- ------------------\n",
      "              14.1       16.0 69.13724999999998  -78.8506111111111\n",
      "14.100000381469727       10.0 69.13725000000001 -78.85058333333332\n",
      "       ewha        source_num         ra                dec        \n",
      "------------------ ---------- ----------------- -------------------\n",
      "               2.1       22.0        69.4060447          -2.4913525\n",
      "               2.2        5.0        69.4060458          -2.4913525\n",
      "2.0999999046325684       20.0 69.40608333333333 -2.4911944444444436\n",
      "               2.5       16.0 69.40608333333334 -2.4911666666666665\n",
      "       ewha        source_num         ra               dec        \n",
      "------------------ ---------- ----------------- ------------------\n",
      "              19.3       15.0 70.09666666666665 -5.502222222222223\n",
      "19.110000610351562       20.0         70.096875 -5.502305555555555\n",
      "17.799999237060547       17.0            70.097 -5.502249999999999\n",
      "       ewha        source_num         ra               dec        \n",
      "------------------ ---------- ----------------- ------------------\n",
      "2.5999999046325684       10.0 71.00412499999999            -66.401\n",
      "               2.6       16.0         71.004125 -66.40100000000001\n",
      "              1.37        7.0         71.004125            -66.401\n",
      "       ewha       source_num         ra               dec        \n",
      "----------------- ---------- ----------------- ------------------\n",
      "              5.3       16.0 71.70708333333333 -60.56969444444445\n",
      "5.300000190734863       10.0 71.70708333333333 -60.56969444444444\n",
      "ewha source_num         ra                dec        \n",
      "---- ---------- ----------------- -------------------\n",
      " 1.7       16.0 72.00274999999999 -50.690416666666664\n",
      "1.15        7.0          72.00275         -50.6904167\n",
      "       ewha       source_num         ra                dec        \n",
      "----------------- ---------- ----------------- -------------------\n",
      "6.960000038146973       20.0 73.10170833333332 -16.822750000000003\n",
      "              6.3       16.0 73.10170833333333           -16.82275\n",
      "       ewha       source_num         ra                dec        \n",
      "----------------- ---------- ----------------- -------------------\n",
      "              4.4       16.0 73.91808333333333 -19.298694444444447\n",
      "4.400000095367432       10.0 73.91808333333334 -19.298694444444443\n",
      "       ewha        source_num         ra               dec        \n",
      "------------------ ---------- ----------------- ------------------\n",
      "3.0999999046325684       10.0 74.32199999999999 -6.365666666666665\n",
      "               3.1       16.0            74.322 -6.365666666666666\n",
      "ewha source_num     ra        dec    \n",
      "---- ---------- --------- -----------\n",
      " 0.6       22.0 75.196375 -57.2570703\n",
      " 0.8        5.0 75.196375 -57.2570703\n",
      "       ewha       source_num         ra               dec       \n",
      "----------------- ---------- ----------------- -----------------\n",
      "              6.6        5.0         75.494975          9.983135\n",
      "8.899999618530273       17.0 75.49504166666665 9.982999999999999\n",
      "       ewha       source_num         ra                dec        \n",
      "----------------- ---------- ----------------- -------------------\n",
      "6.800000190734863       10.0 77.79574999999998  -49.06658333333333\n",
      "             7.72        7.0          77.79575         -49.0665833\n",
      "              6.8       16.0          77.79575 -49.066583333333334\n",
      "       ewha        source_num         ra                dec        \n",
      "------------------ ---------- ----------------- -------------------\n",
      "11.800000190734863       10.0 79.98729166666665 -11.412222222222221\n",
      "              11.8       16.0 79.98729166666665 -11.412222222222223\n",
      "       ewha       source_num     ra            dec        \n",
      "----------------- ---------- --------- -------------------\n",
      "              8.3       16.0 81.054875  -21.07852777777778\n",
      "8.300000190734863       10.0 81.054875 -21.078527777777776\n",
      "       ewha       source_num         ra               dec        \n",
      "----------------- ---------- ----------------- ------------------\n",
      "             10.0       16.0 82.43616666666665 -32.65391666666667\n",
      "6.099999904632568       17.0 82.43620833333333 -32.65394444444444\n",
      "       ewha       source_num         ra               dec        \n",
      "----------------- ---------- ----------------- ------------------\n",
      "              0.9        7.0        83.3565833        -51.2869722\n",
      "              1.6       16.0 83.35658333333332 -51.28697222222222\n",
      "1.600000023841858       10.0 83.35658333333332 -51.28697222222222\n",
      "       ewha       source_num         ra               dec        \n",
      "----------------- ---------- ----------------- ------------------\n",
      "6.099999904632568       10.0 83.49920833333333 -2.359027777777778\n",
      "              6.1       16.0 83.49920833333333 -2.359027777777778\n",
      "              6.0       22.0        83.4992572         -2.3589956\n",
      "       ewha       source_num         ra                dec        \n",
      "----------------- ---------- ----------------- -------------------\n",
      "5.599999904632568       10.0 84.97891666666665 -13.133277777777776\n",
      "              5.6       16.0 84.97891666666666 -13.133277777777778\n",
      "       ewha        source_num         ra               dec        \n",
      "------------------ ---------- ----------------- ------------------\n",
      "3.1059999465942383       14.0 90.01459166666666 2.7065952777777773\n",
      " 4.599999904632568       17.0         90.014625  2.706555555555555\n",
      "       ewha        source_num         ra                dec        \n",
      "------------------ ---------- ----------------- -------------------\n",
      "              12.1       16.0 91.21729166666665 -34.559999999999995\n",
      "18.399999618530273       17.0 91.21733333333331 -34.559999999999995\n",
      "ewha source_num         ra               dec        \n",
      "---- ---------- ----------------- ------------------\n",
      " 9.0       16.0 92.87487499999999 -72.22744444444444\n",
      " 9.9       16.0            92.875 -72.22722222222222\n",
      "ewha source_num         ra                dec        \n",
      "---- ---------- ----------------- -------------------\n",
      " 5.1       16.0 93.30541666666666            -27.7015\n",
      " 6.0       17.0 93.30545833333332 -27.701527777777773\n",
      " 5.1       22.0        93.3054903         -27.7015297\n",
      "       ewha       source_num         ra                dec        \n",
      "----------------- ---------- ------------------ ------------------\n",
      "              2.7       16.0 106.74049999999998 -53.89619444444445\n",
      "2.700000047683716       10.0 106.74049999999998 -53.89619444444445\n",
      "ewha source_num         ra                dec        \n",
      "---- ---------- ------------------ ------------------\n",
      " 7.6       16.0 124.41429166666666 -82.72494444444445\n",
      " 7.6       22.0        124.4144781        -82.7250247\n",
      "       ewha        source_num         ra                dec        \n",
      "------------------ ---------- ------------------ ------------------\n",
      "              10.1       16.0 131.82941666666665 -57.29852777777778\n",
      "10.100000381469727       10.0 131.82941666666665 -57.29852777777778\n",
      "ewha source_num         ra                dec        \n",
      "---- ---------- ------------------ ------------------\n",
      " 5.7        5.0        131.9864875        -78.9147747\n",
      " 6.6       16.0 131.98649999999998 -78.91477777777779\n",
      "       ewha       source_num         ra                dec        \n",
      "----------------- ---------- ----------------- -------------------\n",
      "              9.1       16.0 142.9933333333333  -62.15716666666667\n",
      "9.100000381469727       10.0 142.9933333333333 -62.157166666666654\n",
      "       ewha        source_num         ra                 dec        \n",
      "------------------ ---------- ------------------ -------------------\n",
      "              15.3       16.0 146.22591666666662 -12.348444444444445\n",
      "15.300000190734863       10.0 146.22591666666665 -12.348444444444443\n",
      "ewha source_num      ra         dec    \n",
      "---- ---------- ----------- -----------\n",
      " 8.3       22.0 154.3620764 -53.9073497\n",
      "11.5        5.0 154.3620765 -53.9073497\n"
     ]
    },
    {
     "name": "stdout",
     "output_type": "stream",
     "text": [
      "       ewha       source_num         ra                 dec        \n",
      "----------------- ---------- ------------------ -------------------\n",
      "              8.3       16.0 156.35679166666665 -49.310805555555554\n",
      "8.300000190734863       10.0 156.35679166666668 -49.310805555555554\n",
      "ewha source_num         ra                dec        \n",
      "---- ---------- ----------------- -------------------\n",
      " 5.8        5.0       160.6254255          -33.671174\n",
      " 6.5       16.0 160.6254583333333 -33.671166666666664\n",
      " 6.5       10.0 160.6254583333333 -33.671166666666664\n",
      " ewha source_num         ra                dec        \n",
      "----- ---------- ------------------ ------------------\n",
      "172.5        5.0        165.4662726        -34.7047309\n",
      " 13.8       16.0 165.46629166666665 -34.70472222222222\n",
      " ewha source_num         ra                dec        \n",
      "----- ---------- ------------------ ------------------\n",
      " 12.7       16.0 167.61616666666663 -37.53111111111111\n",
      "40.89       21.0        167.6166667        -37.5308333\n",
      "       ewha       source_num         ra                 dec        \n",
      "----------------- ---------- ------------------ -------------------\n",
      "              3.0        5.0        170.3217473         -34.7793057\n",
      "2.299999952316284       10.0 170.32179166666668 -34.779277777777764\n",
      "ewha source_num         ra                dec        \n",
      "---- ---------- ------------------ ------------------\n",
      " 8.7       16.0 172.98024999999998 -34.60755555555556\n",
      "11.5        5.0        172.9802513        -34.6075594\n",
      "ewha source_num      ra         dec    \n",
      "---- ---------- ----------- -----------\n",
      "5.04       21.0 173.1719413 -26.8655449\n",
      " 8.0        5.0 173.1719414 -26.8655448\n",
      "ewha source_num      ra            dec        \n",
      "---- ---------- ----------- ------------------\n",
      " 5.1       16.0  177.098875 -37.48013888888889\n",
      " 4.3        5.0 177.0988948        -37.4801443\n",
      "ewha source_num         ra                dec        \n",
      "---- ---------- ------------------ ------------------\n",
      " 5.1       16.0 177.10091666666665 -37.48030555555556\n",
      " 2.1        5.0        177.1009279        -37.4803089\n",
      "       ewha       source_num         ra                dec        \n",
      "----------------- ---------- ------------------ ------------------\n",
      "              4.7       16.0 177.38266666666664 -78.85030555555555\n",
      "4.699999809265137       10.0 177.38266666666664 -78.85030555555555\n",
      "              4.7       22.0        177.3827169        -78.8502942\n",
      "       ewha        source_num         ra                dec        \n",
      "------------------ ---------- ------------------ ------------------\n",
      "2.5999999046325684       10.0 183.87799999999996 -39.81183333333333\n",
      "               2.4        5.0        183.8780014        -39.8118348\n",
      "ewha source_num         ra                dec        \n",
      "---- ---------- ------------------ ------------------\n",
      " 7.5       16.0 188.76766666666666 -41.61069444444445\n",
      " 7.5       10.0 188.76766666666668 -41.61069444444444\n",
      "13.6        5.0        188.7677345        -41.6107278\n",
      "       ewha        source_num         ra                 dec        \n",
      "------------------ ---------- ------------------ -------------------\n",
      "3.0999999046325684       10.0 189.65470833333328 -27.059666666666658\n",
      "               3.1       16.0  189.6547083333333  -27.05966666666667\n",
      "       ewha        source_num         ra                dec       \n",
      "------------------ ---------- ------------------ -----------------\n",
      "               6.1       16.0  190.4473333333333 56.75380555555556\n",
      "3.6700000762939453       20.0 190.44737499999994 56.75383333333333\n",
      "ewha source_num         ra               dec        \n",
      "---- ---------- ----------------- ------------------\n",
      " 3.3        5.0        200.405082        -44.3644293\n",
      " 4.5       16.0 200.4050833333333 -44.36438888888889\n",
      "       ewha       source_num         ra                dec        \n",
      "----------------- ---------- ------------------ ------------------\n",
      "3.299999952316284       10.0 208.72458333333327 -71.36322222222222\n",
      "              3.3       16.0 208.72458333333333 -71.36322222222222\n",
      "              3.3       22.0        208.7245956        -71.3632586\n",
      "       ewha       source_num         ra                 dec        \n",
      "----------------- ---------- ------------------ -------------------\n",
      "              3.1       16.0  209.7935416666666  -19.83427777777778\n",
      "3.700000047683716       17.0 209.79354166666664 -19.834277777777775\n",
      "ewha source_num         ra                dec        \n",
      "---- ---------- ------------------ ------------------\n",
      " 7.0       22.0        216.3713367        -41.2256544\n",
      " 7.0       17.0 216.37137499999997 -41.22566666666666\n",
      "       ewha       source_num         ra               dec       \n",
      "----------------- ---------- ----------------- -----------------\n",
      "              6.9       11.0       224.8544046        36.3089356\n",
      "8.029999732971191       14.0 224.8544208333333 36.30896583333333\n",
      "ewha source_num         ra                 dec        \n",
      "---- ---------- ------------------ -------------------\n",
      "19.5        0.0 239.85791666666663 -23.085583333333332\n",
      "16.0        0.0 239.85791666666663 -23.085583333333332\n",
      "12.9       12.0        239.8580833         -23.0855833\n",
      "ewha source_num         ra                 dec        \n",
      "---- ---------- ------------------ -------------------\n",
      " 9.5       12.0        240.1107083         -20.9422222\n",
      "12.2        0.0 240.11083333333332 -20.942222222222224\n",
      "ewha source_num         ra                 dec        \n",
      "---- ---------- ------------------ -------------------\n",
      " 8.9       12.0        240.1257083         -23.5790833\n",
      "15.8        0.0 240.12583333333328           -23.57925\n",
      "12.6        0.0 240.12583333333328 -23.579083333333333\n",
      "ewha source_num         ra                dec        \n",
      "---- ---------- ----------------- -------------------\n",
      " 6.3       12.0       240.3295833         -23.1107222\n",
      "19.0        0.0 240.3295833333333 -23.110722222222222\n",
      "ewha source_num     ra            dec        \n",
      "---- ---------- --------- -------------------\n",
      "19.0        0.0 242.53125 -18.182333333333336\n",
      "13.3        0.0 242.53125  -18.18241666666667\n",
      "ewha source_num         ra                dec        \n",
      "---- ---------- ------------------ ------------------\n",
      "50.0        0.0 242.80124999999998 -19.46038888888889\n",
      "50.1        0.0 242.80166666666662 -19.46038888888889\n",
      "ewha source_num         ra                 dec        \n",
      "---- ---------- ------------------ -------------------\n",
      "20.4        0.0 242.87291666666664 -19.008111111111113\n",
      "12.2        0.0  242.8733333333333  -19.00813888888889\n",
      "ewha source_num         ra                dec        \n",
      "---- ---------- ------------------ ------------------\n",
      " 2.5       16.0 254.33454166666664 -53.72544444444445\n",
      " 2.5       10.0 254.33454166666667 -53.72544444444443\n",
      " 2.5       22.0        254.3345833        -53.7254722\n",
      "       ewha       source_num         ra                dec        \n",
      "----------------- ---------- ------------------ ------------------\n",
      "6.550000190734863       14.0 259.97071666666665 26.500787777777774\n",
      "7.429999828338623       20.0 259.97074999999995  26.50072222222222\n",
      "ewha source_num         ra                dec        \n",
      "---- ---------- ----------------- -------------------\n",
      " 3.1       16.0 273.5919583333333 -32.769444444444446\n",
      " 3.1       22.0       273.5919744         -32.7694817\n",
      "       ewha       source_num         ra               dec       \n",
      "----------------- ---------- ------------------ ----------------\n",
      "              7.1       16.0  277.9833333333333            77.51\n",
      "6.489999771118164       14.0 277.98382499999997 77.5102461111111\n",
      "       ewha       source_num         ra                dec        \n",
      "----------------- ---------- ------------------ ------------------\n",
      "              6.9       16.0  280.5289166666666 -55.90705555555555\n",
      "6.900000095367432       10.0 280.52891666666665 -55.90705555555555\n",
      "              6.9       22.0        280.5289856        -55.9071058\n",
      "ewha source_num         ra                dec        \n",
      "---- ---------- ------------------ ------------------\n",
      " 3.3       16.0 281.40433333333334 -64.86277777777777\n",
      " 3.3       22.0        281.4043739        -64.8628011\n",
      "       ewha       source_num         ra                dec        \n",
      "----------------- ---------- ----------------- -------------------\n",
      "1.899999976158142       10.0 281.7189583333333 -62.176833333333335\n",
      "              1.9       22.0       281.7189664         -62.1768372\n",
      "       ewha        source_num         ra                dec        \n",
      "------------------ ---------- ----------------- -------------------\n",
      "1.7999999523162842       10.0 282.6853333333333 -31.796444444444443\n",
      "               1.8       22.0       282.6853456         -31.7964953\n",
      "       ewha       source_num         ra                dec        \n",
      "----------------- ---------- ----------------- -------------------\n",
      "2.799999952316284       10.0 284.5172916666666 -29.884583333333328\n",
      "              2.8       22.0       284.5173047         -29.8846283\n",
      "       ewha       source_num         ra                dec        \n",
      "----------------- ---------- ----------------- -------------------\n",
      "8.199999809265137       10.0 290.7112916666666 -63.182805555555554\n",
      "              8.2       16.0 290.7112916666667 -63.182805555555554\n",
      "ewha source_num         ra                dec        \n",
      "---- ---------- ------------------ ------------------\n",
      " 2.0       16.0 290.90916666666664 -46.10877777777778\n",
      " 2.0       10.0 290.90916666666664 -46.10877777777778\n",
      " 1.1       22.0        290.9092111        -46.1087903\n",
      "       ewha        source_num         ra                dec        \n",
      "------------------ ---------- ------------------ ------------------\n",
      "              13.9       16.0 291.14558333333326 -34.71088888888889\n",
      "13.899999618530273       10.0  291.1455833333333 -34.71088888888888\n",
      "              13.9       22.0        291.1456403         -34.710935\n",
      "       ewha       source_num         ra                 dec        \n",
      "----------------- ---------- ------------------ -------------------\n",
      "5.360000133514404       20.0 292.85141666666664 -21.572944444444442\n",
      "              8.9       16.0 292.85141666666664 -21.572944444444445\n",
      "8.899999618530273       10.0 292.85141666666664 -21.572944444444442\n",
      "       ewha       source_num         ra                 dec        \n",
      "----------------- ---------- ------------------ -------------------\n",
      "              4.5       22.0        299.0122344         -32.1218811\n",
      "6.199999809265137       10.0 299.01224999999994  -32.12183333333333\n",
      "              6.2       16.0 299.01224999999994 -32.121833333333335\n",
      "       ewha        source_num         ra                dec        \n",
      "------------------ ---------- ----------------- -------------------\n",
      "               1.0       22.0       300.4048864         -33.2205592\n",
      "2.5999999046325684       10.0 300.4049166666666 -33.220527777777775\n",
      "               2.6       16.0 300.4049166666666  -33.22052777777778\n"
     ]
    },
    {
     "name": "stdout",
     "output_type": "stream",
     "text": [
      "ewha source_num         ra                 dec        \n",
      "---- ---------- ------------------ -------------------\n",
      " 6.3       16.0 307.18170833333323 -11.475194444444444\n",
      " 5.0       17.0 307.18179166666664 -11.475222222222222\n",
      "       ewha        source_num         ra                 dec        \n",
      "------------------ ---------- ------------------ -------------------\n",
      "              11.4       16.0 308.40662499999996 -25.947805555555554\n",
      "12.600000381469727       17.0 308.40662499999996  -25.94780555555555\n",
      "11.399999618530273       10.0 308.40662499999996 -25.947805555555554\n",
      "              11.4       22.0        308.4066514         -25.9478094\n",
      "       ewha       source_num         ra                 dec        \n",
      "----------------- ---------- ------------------ -------------------\n",
      "              7.2       16.0 310.92141666666663 -24.564833333333333\n",
      "5.239999771118164       20.0  310.9214583333333 -24.564861111111103\n",
      "8.029999732971191       20.0  310.9214583333333 -24.564861111111103\n",
      "ewha source_num         ra                 dec        \n",
      "---- ---------- ------------------ -------------------\n",
      " 2.2       16.0 311.28954166666665 -31.340722222222222\n",
      " 2.3        5.0        311.2897167         -31.3409003\n",
      " 1.6       22.0        311.2897183         -31.3409006\n",
      "       ewha       source_num         ra                dec        \n",
      "----------------- ---------- ----------------- -------------------\n",
      "              5.4       16.0 317.5222916666666 -19.332583333333332\n",
      "5.400000095367432       10.0 317.5222916666666 -19.332583333333332\n",
      "              3.2       22.0       317.5223225         -19.3326706\n",
      "ewha source_num      ra            dec        \n",
      "---- ---------- ----------- ------------------\n",
      "11.3       16.0     317.629 -27.18091666666667\n",
      "11.3       22.0 317.6290436        -27.1809794\n",
      "ewha source_num         ra                 dec        \n",
      "---- ---------- ------------------ -------------------\n",
      " 9.0       16.0 317.63112499999994 -27.182722222222225\n",
      " 9.0       10.0 317.63112499999994 -27.182722222222218\n",
      " 9.0       22.0        317.6311714         -27.1827825\n",
      "       ewha       source_num         ra           dec   \n",
      "----------------- ---------- ------------------ --------\n",
      "6.900000095367432       10.0 324.28687499999995 -60.6015\n",
      "              6.9       16.0 324.28687499999995 -60.6015\n",
      "             7.02        7.0         324.286875 -60.6015\n",
      "ewha source_num      ra         dec    \n",
      "---- ---------- ----------- -----------\n",
      "1.48        7.0    326.1255 -60.9774722\n",
      " 1.4        5.0 326.1255117 -60.9774707\n",
      "       ewha        source_num         ra                dec        \n",
      "------------------ ---------- ------------------ ------------------\n",
      "              12.7       16.0  326.6784166666666 -85.71794444444444\n",
      "12.699999809265137       10.0 326.67841666666664 -85.71794444444444\n",
      "       ewha        source_num         ra                dec        \n",
      "------------------ ---------- ------------------ ------------------\n",
      "              11.4       16.0  327.2707916666666          -64.21775\n",
      "11.399999618530273       10.0 327.27079166666664 -64.21775000000001\n",
      "              7.22        7.0        327.2707917          -64.21775\n",
      "       ewha       source_num         ra                 dec        \n",
      "----------------- ---------- ------------------ -------------------\n",
      "2.799999952316284       10.0 330.56774999999993  -42.17580555555555\n",
      "              2.8       16.0          330.56775 -42.175805555555556\n",
      "             1.95        7.0          330.56775         -42.1758056\n",
      "ewha source_num         ra                dec        \n",
      "---- ---------- ----------------- -------------------\n",
      " 5.2       16.0 336.9534166666666 -1.2313055555555557\n",
      " 6.9       11.0       336.9534949          -1.2313211\n",
      "       ewha       source_num         ra                dec        \n",
      "----------------- ---------- ----------------- -------------------\n",
      "             16.0       16.0 341.2414166666666 -33.250416666666666\n",
      "7.800000190734863       20.0 341.2414166666666  -33.25044444444444\n",
      "              6.6        5.0       341.2415125          -33.250485\n",
      "              7.0       22.0       341.2415261         -33.2504758\n",
      "       ewha       source_num     ra            dec        \n",
      "----------------- ---------- ---------- ------------------\n",
      "              9.3       16.0 348.319625 -49.55427777777778\n",
      "            12.64        7.0 348.319625        -49.5542778\n",
      "9.300000190734863       10.0 348.319625 -49.55427777777776\n",
      "ewha source_num         ra                dec        \n",
      "---- ---------- ------------------ ------------------\n",
      " 5.1       16.0 351.54454166666665 -73.39716666666668\n",
      "3.38        7.0        351.5445417        -73.3971667\n",
      "ewha source_num         ra               dec        \n",
      "---- ---------- ----------------- ------------------\n",
      " 6.0       16.0 352.2401249999999 -68.04272222222222\n",
      " 6.0       10.0        352.240125 -68.04272222222222\n",
      "5.33        7.0        352.240125        -68.0427222\n",
      " ewha source_num         ra                dec        \n",
      "----- ---------- ----------------- -------------------\n",
      " 19.0       16.0 352.9371666666666 -2.7443055555555556\n",
      " 19.0       10.0 352.9371666666666  -2.744305555555555\n",
      "17.67        7.0       352.9371667          -2.7443056\n",
      " 19.0       22.0       352.9371892          -2.7443169\n",
      "       ewha       source_num     ra           dec        \n",
      "----------------- ---------- --------- ------------------\n",
      "5.699999809265137       10.0 353.00075 -39.29355555555555\n",
      "              5.7       16.0 353.00075 -39.29355555555556\n",
      "       ewha       source_num         ra                 dec        \n",
      "----------------- ---------- ------------------ -------------------\n",
      "              2.8       16.0 353.12854166666665           -12.26425\n",
      "2.799999952316284       10.0 353.12854166666665 -12.264249999999999\n",
      "              2.8       22.0        353.1285897         -12.2642961\n",
      "       ewha        source_num         ra               dec        \n",
      "------------------ ---------- ----------------- ------------------\n",
      "              5.98        7.0       356.3427083        -71.4473611\n",
      "              11.1       16.0 356.3427083333333 -71.44736111111112\n",
      "11.100000381469727       10.0 356.3427083333333 -71.44736111111112\n",
      "ewha source_num         ra                dec        \n",
      "---- ---------- ------------------ ------------------\n",
      "2.36        7.0        356.9455833          -65.29025\n",
      " 2.5       10.0  356.9455833333333 -65.29024999999999\n",
      " 2.5       16.0 356.94558333333333          -65.29025\n",
      "       ewha       source_num         ra               dec        \n",
      "----------------- ---------- ----------------- ------------------\n",
      "              3.2       16.0         357.89025  31.45636111111111\n",
      "2.819999933242798       20.0 357.8902916666666 31.456388888888885\n"
     ]
    }
   ],
   "source": [
    "median_list = []\n",
    "delta_list = []\n",
    "max_min_list = []\n",
    "rms_list = []\n",
    "g_rp_list = []\n",
    "for x in np.arange(1,int(max(same_star))+1):\n",
    "    mask = same_star == x\n",
    "    if(any(mask)):\n",
    "        same_star_id = extra_id_sorted[mask]\n",
    "        if(all(np.isclose(x,fullsample[same_star_id]['ra_gaia'][0]) for x in fullsample[same_star_id]['ra_gaia']) and\n",
    "           all(np.isclose(x,fullsample[same_star_id]['dec_gaia'][0]) for x in fullsample[same_star_id]['dec_gaia'])):\n",
    "            N = len(fullsample['ewha'][same_star_id])\n",
    "            median = np.median(fullsample['ewha'][same_star_id])\n",
    "            median_list.append(median)\n",
    "            delta = max(fullsample['ewha'][same_star_id])-min(fullsample['ewha'][same_star_id])\n",
    "            delta_list.append(delta)\n",
    "            max_min = max(fullsample['ewha'][same_star_id])/min(fullsample['ewha'][same_star_id])\n",
    "            max_min_list.append(max_min)\n",
    "            mean = np.mean(fullsample['ewha'][same_star_id])\n",
    "            rms = np.sqrt((1/N)*sum((fullsample['ewha'][same_star_id]-median)**2))\n",
    "            rms_list.append(rms/median)\n",
    "            g_rp_list.append(fullsample['phot_g_mean_mag'][same_star_id][0]-fullsample['phot_rp_mean_mag'][same_star_id][0])\n",
    "            print(fullsample['ewha','source_num','ra','dec'][same_star_id])\n",
    "        else:\n",
    "            print(fullsample[same_star_id]['ra_gaia','dec_gaia'])\n",
    "\n",
    "median_list,delta_list,max_min_list,rms_list = np.array(median_list),np.array(delta_list),np.array(max_min_list),np.array(rms_list) \n",
    "g_rp_list = np.array(g_rp_list)\n"
   ]
  },
  {
   "cell_type": "code",
   "execution_count": 53,
   "metadata": {},
   "outputs": [],
   "source": [
    "lee2010 = Table.read('Catalogs/Lee2010.csv')"
   ]
  },
  {
   "cell_type": "code",
   "execution_count": 54,
   "metadata": {},
   "outputs": [
    {
     "data": {
      "text/plain": [
       "['Source',\n",
       " 'Spectral Type',\n",
       " 'Published EW',\n",
       " 'Ref',\n",
       " 'MeanEW',\n",
       " 'MeanEW_err',\n",
       " 'MinEW',\n",
       " 'MinEW_err',\n",
       " 'MaxEW',\n",
       " 'MaxEW_err',\n",
       " 'DeltaEW',\n",
       " 'DeltaEW_err',\n",
       " 'rmsEW',\n",
       " 'rmsEW_err',\n",
       " 'Mean logL_Halpha/L_bol',\n",
       " 'Max logL_Halpha/L_bol']"
      ]
     },
     "execution_count": 54,
     "metadata": {},
     "output_type": "execute_result"
    }
   ],
   "source": [
    "lee2010.colnames"
   ]
  },
  {
   "cell_type": "code",
   "execution_count": 55,
   "metadata": {},
   "outputs": [],
   "source": [
    "spt_lee2010 = np.array([float(x) for x in lee2010['Spectral Type']])"
   ]
  },
  {
   "cell_type": "code",
   "execution_count": 56,
   "metadata": {},
   "outputs": [],
   "source": [
    "g_rp_lee2010 = -0.0036*np.array(lee2010['Spectral Type'])**2 + 0.11*np.array(lee2010['Spectral Type']) + 0.89"
   ]
  },
  {
   "cell_type": "code",
   "execution_count": 71,
   "metadata": {},
   "outputs": [
    {
     "data": {
      "image/png": "[encoded data removed]",
      "text/plain": [
       "<Figure size 720x216 with 3 Axes>"
      ]
     },
     "metadata": {
      "image/png": {
       "height": 204,
       "width": 719
      },
      "needs_background": "light"
     },
     "output_type": "display_data"
    }
   ],
   "source": [
    "fig, (ax1,ax2,ax3) = plt.subplots(1,3,sharex=True, figsize=(10,3))\n",
    "ax1.plot(g_rp_list,delta_list,'.', label='This work')\n",
    "ax1.plot(g_rp_lee2010,lee2010['DeltaEW'],'.',label='Lee et al. 2010')\n",
    "ax1.set_ylim(-0.5,15)\n",
    "ax1.set_xlim(0.8,1.8)\n",
    "#ax1.set_yscale('log')\n",
    "ax1.set_xlabel(r'$G-G_{\\rm RP}$')\n",
    "ax1.set_ylabel(r'$\\Delta (EWH\\alpha)$')\n",
    "ax1.legend(fontsize=9)\n",
    "\n",
    "ax2.plot(g_rp_list,rms_list,'.')\n",
    "ax2.plot(g_rp_lee2010,lee2010['rmsEW']/lee2010['MeanEW'],'.')\n",
    "ax2.set_ylim(-0.05,1)\n",
    "#ax2.set_xlim(-1.5,18)\n",
    "ax2.set_xlabel(r'$G-G_{\\rm RP}$')\n",
    "ax2.set_ylabel(r'${\\rm rms} (EWH\\alpha)/<EWH\\alpha>$')\n",
    "\n",
    "ax3.plot(g_rp_list,np.log10(max_min_list),'.')\n",
    "ax3.plot(g_rp_lee2010,np.log10(lee2010['MaxEW']/lee2010['MinEW']),'.')\n",
    "#ax3.set_ylim(0.8,5)\n",
    "#ax3.set_xlim(-1.5,18)\n",
    "ax3.set_xlabel(r'$G-G_{\\rm RP}$')\n",
    "ax3.set_ylabel(r'$\\max (EWH\\alpha)/\\min (EWH\\alpha)$')\n",
    "\n",
    "\n",
    "plt.tight_layout()\n",
    "plt.show()"
   ]
  },
  {
   "cell_type": "code",
   "execution_count": 72,
   "metadata": {},
   "outputs": [],
   "source": [
    "mean = []\n",
    "std = []\n",
    "remove_idx = np.zeros(len(fullsample))\n",
    "for x in np.arange(1,int(max(same_star))+1):\n",
    "    mask = same_star == x\n",
    "    if(any(mask)):\n",
    "        same_star_id = extra_id_sorted[mask]\n",
    "        if(all(np.isclose(x,fullsample[same_star_id]['ra_gaia'][0]) for x in fullsample[same_star_id]['ra_gaia']) and\n",
    "           all(np.isclose(x,fullsample[same_star_id]['dec_gaia'][0]) for x in fullsample[same_star_id]['dec_gaia'])):\n",
    "            N = len(fullsample['ewha'][same_star_id])\n",
    "            mean = (sum(fullsample['ewha'][same_star_id]/fullsample['ewha_error'][same_star_id])/\n",
    "                    sum(1./fullsample['ewha_error'][same_star_id]))\n",
    "            std = ((N)*sum(1./fullsample['ewha_error'][same_star_id])**(-2))**1/2\n",
    "            for i in same_star_id:\n",
    "                fullsample['ewha'][i] = mean\n",
    "                fullsample['ewha_error'][i] = std\n",
    "            for i in same_star_id[1:]:\n",
    "                remove_idx[i] = 1\n",
    "        else:\n",
    "            print(fullsample[same_star_id]['ra_gaia','dec_gaia'])"
   ]
  },
  {
   "cell_type": "code",
   "execution_count": 73,
   "metadata": {},
   "outputs": [],
   "source": [
    "mask_remove_same_stars = remove_idx == 0"
   ]
  },
  {
   "cell_type": "code",
   "execution_count": 74,
   "metadata": {},
   "outputs": [],
   "source": [
    "fullsample_singles = fullsample[mask_remove_same_stars]"
   ]
  },
  {
   "cell_type": "code",
   "execution_count": 75,
   "metadata": {},
   "outputs": [],
   "source": [
    "idx_sorted_test = np.argsort(fullsample_singles['ra'])\n",
    "ra_sorted_test = fullsample_singles['ra'][idx_sorted_test]\n",
    "dec_sorted_test = fullsample_singles['dec'][idx_sorted_test]"
   ]
  },
  {
   "cell_type": "code",
   "execution_count": 76,
   "metadata": {},
   "outputs": [],
   "source": [
    "for i in range(len(ra_sorted_test)-1):\n",
    "    c1 = SkyCoord(ra=ra_sorted_test[i]*u.deg, dec=dec_sorted_test[i]*u.deg)\n",
    "    c2 = SkyCoord(ra=ra_sorted_test[i+1]*u.deg, dec=dec_sorted_test[i+1]*u.deg)\n",
    "    separation = c1.separation(c2).arcsec\n",
    "    if(separation < 2):\n",
    "        print(c1,c2)"
   ]
  },
  {
   "cell_type": "code",
   "execution_count": 77,
   "metadata": {},
   "outputs": [
    {
     "data": {
      "text/plain": [
       "1395"
      ]
     },
     "execution_count": 77,
     "metadata": {},
     "output_type": "execute_result"
    }
   ],
   "source": [
    "len(fullsample_singles)"
   ]
  },
  {
   "cell_type": "markdown",
   "metadata": {},
   "source": [
    "# Save final sample"
   ]
  },
  {
   "cell_type": "code",
   "execution_count": 35,
   "metadata": {},
   "outputs": [],
   "source": [
    "fullsample.write('Catalogs/mactivity_movinggroups_confirmed.fits',format='fits',\n",
    "                  overwrite=True)"
   ]
  },
  {
   "cell_type": "code",
   "execution_count": null,
   "metadata": {},
   "outputs": [],
   "source": []
  }
 ],
 "metadata": {
  "kernelspec": {
   "display_name": "Python 3",
   "language": "python",
   "name": "python3"
  },
  "language_info": {
   "codemirror_mode": {
    "name": "ipython",
    "version": 3
   },
   "file_extension": ".py",
   "mimetype": "text/x-python",
   "name": "python",
   "nbconvert_exporter": "python",
   "pygments_lexer": "ipython3",
   "version": "3.7.3"
  }
 },
 "nbformat": 4,
 "nbformat_minor": 2
}
