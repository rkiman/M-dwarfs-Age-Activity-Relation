{
 "cells": [
  {
   "cell_type": "code",
   "execution_count": 1,
   "metadata": {},
   "outputs": [],
   "source": [
    "from astropy.io import fits\n",
    "from astropy.table import Table\n",
    "import numpy as np\n",
    "import matplotlib.pyplot as plt"
   ]
  },
  {
   "cell_type": "code",
   "execution_count": 2,
   "metadata": {},
   "outputs": [],
   "source": [
    "def calc_dist(parallax,parallax_error):\n",
    "    distance = []\n",
    "    distance_error_top = []\n",
    "    distance_error_bottom = []\n",
    "    for i in range(len(parallax)):\n",
    "        list_parallax = np.random.normal(parallax[i],parallax_error[i],1000)\n",
    "        list_distance = 1e3/list_parallax\n",
    "        distance.append(np.percentile(list_distance,50))\n",
    "        per_16 = np.percentile(list_distance,16)\n",
    "        per_64 = np.percentile(list_distance,64)\n",
    "        distance_error_top.append(per_64)\n",
    "        distance_error_bottom.append(per_16)\n",
    "    return np.array(distance),np.array(distance_error_top)-np.array(distance),np.array(distance)-np.array(distance_error_bottom)\n",
    "        "
   ]
  },
  {
   "cell_type": "code",
   "execution_count": 3,
   "metadata": {},
   "outputs": [],
   "source": [
    "def mask_binaries(limits,params1,params2,separation,pwd,f_pwd):\n",
    "    parallax1, parallax_error1, pmra1, pmra_error1, pmdec1, pmdec_error1 = params1\n",
    "    parallax2, parallax_error2, pmra2, pmra_error2, pmdec2, pmdec_error2 = params2\n",
    "    a1,a2,b,c = limits\n",
    "    \n",
    "    #--------Same for all:----------\n",
    "    mask_all = pwd > 0.75 #Selecting WD\n",
    "    mask_limit = f_pwd == 1 #Selecting WD\n",
    "    mask_wd = np.logical_or(mask_all,mask_limit) #Selecting WD\n",
    "    matches_10arcmin = ~np.isnan(separation) #Selecting matches in 10arcmin of a M dwarfs\n",
    "\n",
    "    #-------Cuts for binaries:------\n",
    "    mask_parallax = (parallax1/parallax_error1 > a1)*(parallax2/parallax_error2 > a2)\n",
    "    \n",
    "    #mask_ang_separation = (b <= separation) * (separation <= b1)\n",
    "\n",
    "    #mask_pm = delta_pm(pmra1,pmra_error1,pmra2,pmra_error2,pmdec1,pmdec_error1,pmdec2,pmdec_error2) <= c\n",
    "\n",
    "    mask_pm = ((abs(pmra1-pmra2) < b*(pmra_error1+pmra_error2))\n",
    "               *(abs(pmdec1-pmdec2) < b*(pmdec_error1+pmdec_error2)))\n",
    "    \n",
    "    #mask_parallax_diff = delta_parallax(parallax1,parallax_error1,parallax2,parallax_error2) <= d\n",
    "    mask_parallax_diff = abs(parallax1-parallax2) < c*(parallax_error1+parallax_error2)\n",
    "\n",
    "    #mask_min_pm = np.sqrt((pmra1**2 + pmdec1**2)) > e\n",
    "\n",
    "    return mask_wd*matches_10arcmin*mask_parallax*mask_pm*mask_parallax_diff\n",
    "    "
   ]
  },
  {
   "cell_type": "code",
   "execution_count": 4,
   "metadata": {},
   "outputs": [],
   "source": [
    "def randomize(a, b, c, d):\n",
    "    # Generate the permutation index array.\n",
    "    permutation = np.random.permutation(a.shape[0])\n",
    "    # Shuffle the arrays by giving the permutation in the square brackets.\n",
    "    shuffled_a = a[permutation]\n",
    "    shuffled_b = b[permutation]\n",
    "    shuffled_c = c[permutation]\n",
    "    shuffled_d = d[permutation]\n",
    "    return shuffled_a, shuffled_b, shuffled_c, shuffled_d"
   ]
  },
  {
   "cell_type": "code",
   "execution_count": 5,
   "metadata": {},
   "outputs": [],
   "source": [
    "limits = [8,4,3,3]"
   ]
  },
  {
   "cell_type": "code",
   "execution_count": 13,
   "metadata": {},
   "outputs": [],
   "source": [
    "def calc_pca(params_m_0,params_wd_0,separation,pwd,f_pwd):\n",
    "    Ntot_wd = len(separation)\n",
    "    N = 1000\n",
    "    parallax_wd,parallax_error_wd,pmra_wd,pmra_error_wd,pmdec_wd,pmdec_error_wd = params_wd_0\n",
    "\n",
    "    prob = np.zeros(Ntot_wd)\n",
    "    prob[np.isnan(separation)] = np.nan\n",
    "\n",
    "    for i in range(N):\n",
    "        pmra_wd_random1,pmra_error_wd_random1,pmdec_wd_random1,pmdec_error_wd_random1 = randomize(pmra_wd,\n",
    "                                                                                                  pmra_error_wd, \n",
    "                                                                                                  pmdec_wd,\n",
    "                                                                                                  pmdec_error_wd)\n",
    "        params_wd = [parallax_wd,parallax_error_wd, \n",
    "                     pmra_wd_random1,pmra_error_wd_random1, \n",
    "                     pmdec_wd_random1,pmdec_error_wd_random1]\n",
    "\n",
    "        mask = mask_binaries(limits, params_m_0, params_wd, separation, pwd, f_pwd)\n",
    "\n",
    "        prob[mask] += 1\n",
    "\n",
    "    return prob/N\n"
   ]
  },
  {
   "cell_type": "markdown",
   "metadata": {},
   "source": [
    "## Kiman et al. 2019 wd binaries"
   ]
  },
  {
   "cell_type": "code",
   "execution_count": 19,
   "metadata": {},
   "outputs": [],
   "source": [
    "wdbinaries = Table.read('Catalogs/mactivity-gaiawd-all_10arcmin.fits')"
   ]
  },
  {
   "cell_type": "code",
   "execution_count": 20,
   "metadata": {},
   "outputs": [],
   "source": [
    "Ntot_wd = len(wdbinaries)"
   ]
  },
  {
   "cell_type": "code",
   "execution_count": 21,
   "metadata": {},
   "outputs": [
    {
     "data": {
      "text/plain": [
       "486641"
      ]
     },
     "execution_count": 21,
     "metadata": {},
     "output_type": "execute_result"
    }
   ],
   "source": [
    "Ntot_wd"
   ]
  },
  {
   "cell_type": "code",
   "execution_count": 7,
   "metadata": {},
   "outputs": [
    {
     "name": "stderr",
     "output_type": "stream",
     "text": [
      "/Users/rociokiman/anaconda3/lib/python3.7/site-packages/ipykernel_launcher.py:7: RuntimeWarning: invalid value encountered in greater\n",
      "  import sys\n",
      "/Users/rociokiman/anaconda3/lib/python3.7/site-packages/ipykernel_launcher.py:13: RuntimeWarning: invalid value encountered in greater\n",
      "  del sys.path[0]\n",
      "/Users/rociokiman/anaconda3/lib/python3.7/site-packages/ipykernel_launcher.py:19: RuntimeWarning: invalid value encountered in less\n",
      "/Users/rociokiman/anaconda3/lib/python3.7/site-packages/ipykernel_launcher.py:20: RuntimeWarning: invalid value encountered in less\n",
      "/Users/rociokiman/anaconda3/lib/python3.7/site-packages/ipykernel_launcher.py:23: RuntimeWarning: invalid value encountered in less\n"
     ]
    }
   ],
   "source": [
    "N = 1000\n",
    "params_m = [wdbinaries['parallax'], wdbinaries['parallax_error'], \n",
    "            wdbinaries['PMRA_2'], wdbinaries['PMRA_ERR'], \n",
    "            wdbinaries['PMDEC'], wdbinaries['PMDEC_ERR']] \n",
    "\n",
    "prob = np.zeros(Ntot_wd)\n",
    "prob[np.isnan(wdbinaries['Separation'])] = np.nan\n",
    "\n",
    "for i in range(N):\n",
    "    pmra_wd_random1,pmra_error_wd_random1,pmdec_wd_random1,pmdec_error_wd_random1 = randomize(wdbinaries['pmRA_1'],\n",
    "                                                                                      wdbinaries['e_pmRA'],\n",
    "                                                                                      wdbinaries['pmDE'],\n",
    "                                                                                      wdbinaries['e_pmDE'])\n",
    "    params_wd = [wdbinaries['Plx'],wdbinaries['e_Plx'], \n",
    "                 pmra_wd_random1,pmra_error_wd_random1, \n",
    "                 pmdec_wd_random1,pmdec_error_wd_random1]\n",
    "    \n",
    "    mask = mask_binaries(limits, params_m, params_wd, wdbinaries['Separation'])\n",
    "    \n",
    "    prob[mask] += 1\n",
    "    \n",
    "prob = prob/N\n"
   ]
  },
  {
   "cell_type": "code",
   "execution_count": 8,
   "metadata": {},
   "outputs": [
    {
     "name": "stderr",
     "output_type": "stream",
     "text": [
      "/Users/rociokiman/anaconda3/lib/python3.7/site-packages/ipykernel_launcher.py:7: RuntimeWarning: invalid value encountered in greater\n",
      "  import sys\n",
      "/Users/rociokiman/anaconda3/lib/python3.7/site-packages/ipykernel_launcher.py:13: RuntimeWarning: invalid value encountered in greater\n",
      "  del sys.path[0]\n",
      "/Users/rociokiman/anaconda3/lib/python3.7/site-packages/ipykernel_launcher.py:19: RuntimeWarning: invalid value encountered in less\n",
      "/Users/rociokiman/anaconda3/lib/python3.7/site-packages/ipykernel_launcher.py:20: RuntimeWarning: invalid value encountered in less\n",
      "/Users/rociokiman/anaconda3/lib/python3.7/site-packages/ipykernel_launcher.py:23: RuntimeWarning: invalid value encountered in less\n",
      "/Users/rociokiman/anaconda3/lib/python3.7/site-packages/ipykernel_launcher.py:10: RuntimeWarning: invalid value encountered in less_equal\n",
      "  # Remove the CWD from sys.path while we load stuff.\n"
     ]
    }
   ],
   "source": [
    "params_m = [wdbinaries['parallax'], wdbinaries['parallax_error'], \n",
    "            wdbinaries['PMRA_2'], wdbinaries['PMRA_ERR'], \n",
    "            wdbinaries['PMDEC'], wdbinaries['PMDEC_ERR']]\n",
    "\n",
    "params_wd = [wdbinaries['Plx'],wdbinaries['e_Plx'], \n",
    "             wdbinaries['pmRA_1'], wdbinaries['e_pmRA'], \n",
    "             wdbinaries['pmDE'], wdbinaries['e_pmDE']]\n",
    "\n",
    "mask_4_binaries = mask_binaries(limits, params_m, params_wd, wdbinaries['Separation'])\n",
    "mask = mask_4_binaries*(prob<=0.01)"
   ]
  },
  {
   "cell_type": "code",
   "execution_count": 9,
   "metadata": {},
   "outputs": [
    {
     "data": {
      "text/plain": [
       "36"
      ]
     },
     "execution_count": 9,
     "metadata": {},
     "output_type": "execute_result"
    }
   ],
   "source": [
    "len(prob[mask])"
   ]
  },
  {
   "cell_type": "code",
   "execution_count": 10,
   "metadata": {},
   "outputs": [
    {
     "data": {
      "image/png": "[encoded data removed]",
      "text/plain": [
       "<Figure size 432x288 with 1 Axes>"
      ]
     },
     "metadata": {
      "needs_background": "light"
     },
     "output_type": "display_data"
    }
   ],
   "source": [
    "bins = np.arange(0,0.15,0.01)\n",
    "plt.hist(prob[mask_4_binaries],bins=bins,\n",
    "         label = 'Total binaries candidates: {}\\nStars with prob < 0.01: {}'.format(len(prob[mask_4_binaries]),len(prob[mask])))\n",
    "plt.axvline(x=0.01,linestyle='--',color='k',linewidth=2)\n",
    "plt.legend()\n",
    "plt.xlabel('Probability of chance alignment')\n",
    "plt.show()"
   ]
  },
  {
   "cell_type": "markdown",
   "metadata": {},
   "source": [
    "True matches"
   ]
  },
  {
   "cell_type": "code",
   "execution_count": 11,
   "metadata": {},
   "outputs": [],
   "source": [
    "ra_m = wdbinaries[1].data['RA'][mask]\n",
    "dec_m = wdbinaries[1].data['DEC'][mask]\n",
    "ra_rad_m = np.deg2rad(wdbinaries[1].data['RA'][mask])\n",
    "dec_rad_m = np.deg2rad(wdbinaries[1].data['DEC'][mask])\n",
    "pmra_m = wdbinaries[1].data['PMRA_2'][mask]\n",
    "pmra_error_m = wdbinaries[1].data['PMRA_ERR'][mask]\n",
    "pmdec_m = wdbinaries[1].data['PMDEC'][mask]\n",
    "pmdec_error_m = wdbinaries[1].data['PMDEC_ERR'][mask]\n",
    "tot_pm_m = np.sqrt(pmra_m**2 + pmdec_m**2)\n",
    "parallax_m = wdbinaries[1].data['parallax'][mask]\n",
    "parallax_error_m = wdbinaries[1].data['parallax_error'][mask]\n",
    "distance_m,distance_error_top_m,distance_error_bottom_m = calc_dist(parallax_m,parallax_error_m)\n",
    "ewha_m = wdbinaries[1].data['EWHA'][mask]\n",
    "ewha_error_m = wdbinaries[1].data['EWHA_ERR'][mask]\n",
    "g_rp_m = wdbinaries[1].data['phot_g_mean_mag'][mask] - wdbinaries[1].data['phot_rp_mean_mag'][mask]\n",
    "\n",
    "ra_wd = wdbinaries[1].data['RA_ICRS'][mask]\n",
    "dec_wd = wdbinaries[1].data['DE_ICRS'][mask]\n",
    "ra_rad_wd = np.deg2rad(wdbinaries[1].data['RA_ICRS'][mask])\n",
    "dec_rad_wd = np.deg2rad(wdbinaries[1].data['DE_ICRS'][mask])\n",
    "pmra_wd = wdbinaries[1].data['pmRA_1'][mask]\n",
    "pmra_error_wd = wdbinaries[1].data['e_pmRA'][mask]\n",
    "pmdec_wd = wdbinaries[1].data['pmDE'][mask]\n",
    "pmdec_error_wd = wdbinaries[1].data['e_pmDE'][mask]\n",
    "tot_pm_wd = np.sqrt(pmra_wd**2 + pmdec_wd**2)\n",
    "parallax_wd = wdbinaries[1].data['Plx'][mask]\n",
    "parallax_error_wd = wdbinaries[1].data['e_Plx'][mask]\n",
    "distance_wd,distance_error_top_wd,distance_error_bottom_wd = calc_dist(parallax_wd,parallax_error_wd)\n",
    "source_id_wd = wdbinaries[1].data['source_id'][mask]\n",
    "\n",
    "separation = wdbinaries[1].data['Separation'][mask]"
   ]
  },
  {
   "cell_type": "code",
   "execution_count": 12,
   "metadata": {},
   "outputs": [
    {
     "data": {
      "image/png": "[encoded data removed]",
      "text/plain": [
       "<Figure size 648x360 with 6 Axes>"
      ]
     },
     "metadata": {
      "needs_background": "light"
     },
     "output_type": "display_data"
    }
   ],
   "source": [
    "width_line = 1\n",
    "\n",
    "fig, ((ax1,ax2,ax3),(ax4,ax5,ax6)) = plt.subplots(2,3, figsize=(9,5))\n",
    "x = np.linspace(min(pmra_m),max(pmra_m),10)\n",
    "ax1.errorbar(pmra_m, pmra_wd, xerr=pmra_error_m, yerr=pmra_error_wd, fmt='.', \n",
    "             label='# Binaries: {}'.format(len(pmra_m)))\n",
    "ax1.plot(x,x,'--k',linewidth=width_line)\n",
    "ax1.set_xlabel('pmra M (mas/yr)')\n",
    "ax1.set_ylabel('pmra WD (mas/yr)')\n",
    "ax1.legend(fontsize=9.5)\n",
    "\n",
    "x = np.linspace(min(pmdec_m),max(pmdec_m),10)\n",
    "ax2.errorbar(pmdec_m, pmdec_wd, xerr=pmdec_error_m, yerr=pmdec_error_wd, fmt='.')\n",
    "ax2.set_xlabel('pmdec M (mas/yr)')\n",
    "ax2.set_ylabel('pmdec WD (mas/yr)')\n",
    "ax2.plot(x,x,'--k',linewidth=width_line)\n",
    "\n",
    "x = np.linspace(0,max(np.concatenate((distance_m, distance_wd)))+100,10)\n",
    "ax3.errorbar(distance_m, distance_wd, \n",
    "             xerr=(distance_error_bottom_m,distance_error_top_m), \n",
    "             yerr=(distance_error_bottom_wd,distance_error_top_wd), fmt='.')\n",
    "ax3.set_xlabel('Distance M (pc)')\n",
    "ax3.set_ylabel('Distance WD (pc)')\n",
    "ax3.plot(x,x,'--k',linewidth=width_line)\n",
    "ax3.set_xscale('log')\n",
    "ax3.set_yscale('log')\n",
    "\n",
    "ax4.hist(abs(pmra_m-pmra_wd),bins=20)\n",
    "median = np.median(abs(pmra_m-pmra_wd))\n",
    "ax4.axvline(x=median,linestyle='--',color='k',linewidth=1,\n",
    "            label='Median:\\n{0:.2f}mas/yr'.format(median))\n",
    "ax4.set_xlabel('pmra M - pmra WD (mas/yr)')\n",
    "ax4.legend()\n",
    "\n",
    "ax5.hist(abs(pmdec_m - pmdec_wd), bins=20)\n",
    "median = np.median(abs(pmdec_m - pmdec_wd))\n",
    "ax5.axvline(x=median,linestyle='--',color='k',linewidth=1,\n",
    "            label='Median:\\n{0:.2f}mas/yr'.format(median))\n",
    "ax5.set_xlabel('pmdec M - pmdec WD (mas/yr)')\n",
    "ax5.set_ylabel('')\n",
    "ax5.legend()\n",
    "\n",
    "ax6.hist(abs(distance_m-distance_wd),bins=30)\n",
    "median = np.median(abs(distance_m-distance_wd))\n",
    "ax6.axvline(x=np.log10(np.median(abs(distance_m-distance_wd))),linestyle='--',\n",
    "            color='k',linewidth=1, label='Median:\\n{0:.2f}pc'.format(median))\n",
    "ax6.set_xlabel('Distance M - Distance WD (pc)')\n",
    "ax6.legend()\n",
    "\n",
    "plt.tight_layout()"
   ]
  },
  {
   "cell_type": "code",
   "execution_count": 13,
   "metadata": {},
   "outputs": [
    {
     "data": {
      "text/plain": [
       "'Closest binary: 0.29 pc // 59953.16 AU'"
      ]
     },
     "execution_count": 13,
     "metadata": {},
     "output_type": "execute_result"
    }
   ],
   "source": [
    "'Closest binary: {0:.2f} pc // {1:.2f} AU'.format(min(abs(distance_m-distance_wd)),\n",
    "                                        min(abs(distance_m-distance_wd))*206265)"
   ]
  },
  {
   "cell_type": "code",
   "execution_count": 14,
   "metadata": {},
   "outputs": [
    {
     "data": {
      "text/plain": [
       "'Farthest binary: 340.78 pc'"
      ]
     },
     "execution_count": 14,
     "metadata": {},
     "output_type": "execute_result"
    }
   ],
   "source": [
    "'Farthest binary: {0:.2f} pc'.format(max(abs(distance_m-distance_wd)))"
   ]
  },
  {
   "cell_type": "code",
   "execution_count": 15,
   "metadata": {},
   "outputs": [
    {
     "data": {
      "text/plain": [
       "Text(0, 0.5, 'EWH$\\\\alpha$')"
      ]
     },
     "execution_count": 15,
     "metadata": {},
     "output_type": "execute_result"
    },
    {
     "data": {
      "image/png": "[encoded data removed]",
      "text/plain": [
       "<Figure size 432x288 with 2 Axes>"
      ]
     },
     "metadata": {
      "needs_background": "light"
     },
     "output_type": "display_data"
    }
   ],
   "source": [
    "\n",
    "plt.errorbar(g_rp_m,ewha_m,yerr=ewha_error_m,fmt='k.',zorder=0)\n",
    "plt.scatter(g_rp_m,ewha_m,c=prob[mask],zorder=2,s=20,cmap='plasma')\n",
    "#plt.errorbar(g_rp_m[mask_ha],ewha_m[mask_ha],yerr=ewha_error_m[mask_ha],fmt='r.')\n",
    "plt.axhline(y=0,color='k',linestyle='--',linewidth=0.5)\n",
    "plt.colorbar(label='Prob of chance alignment')\n",
    "plt.xlabel(r'$G-G_{\\rm RP}$')\n",
    "plt.ylabel(r'EWH$\\alpha$')\n",
    "#plt.ylim(-1,10)"
   ]
  },
  {
   "cell_type": "code",
   "execution_count": 17,
   "metadata": {},
   "outputs": [
    {
     "name": "stdout",
     "output_type": "stream",
     "text": [
      "177.2132313448776 32.89277122494621 177.210531845044 32.901705604998 4.2401843\n",
      "179.95022355143283 7.116657702077478 179.951560916994 7.11944633747473 3.174717\n",
      "188.26657866510197 3.0441797936353554 188.268009250914 3.04591605957793 3.068183\n",
      "202.10311602181437 22.42201880026751 202.1938018609 22.5599470646759 3.321012\n",
      "240.5248607297662 23.36452537787527 240.527465391636 23.3637685099257 15.760867\n",
      "244.31905387680746 34.3852119445885 244.432052592038 34.4760222429714 8.494358\n"
     ]
    }
   ],
   "source": [
    "mask_ha = ewha_m>2.1\n",
    "for x,y,w,s,ha in zip(ra_m[mask_ha],dec_m[mask_ha],ra_wd[mask_ha],dec_wd[mask_ha],ewha_m[mask_ha]):\n",
    "    print(x,y,w,s,ha)"
   ]
  },
  {
   "cell_type": "markdown",
   "metadata": {},
   "source": [
    "## Extra binaries from literature"
   ]
  },
  {
   "cell_type": "code",
   "execution_count": 7,
   "metadata": {},
   "outputs": [],
   "source": [
    "wdbinaries_2 = Table.read('Catalogs/mactivity_movinggroups_gaia_gaiawd_10arcmin.fits')"
   ]
  },
  {
   "cell_type": "code",
   "execution_count": 8,
   "metadata": {},
   "outputs": [],
   "source": [
    "Ntot_wd_2 = len(wdbinaries_2)"
   ]
  },
  {
   "cell_type": "code",
   "execution_count": 9,
   "metadata": {},
   "outputs": [
    {
     "name": "stderr",
     "output_type": "stream",
     "text": [
      "/Users/rociokiman/anaconda3/lib/python3.7/site-packages/astropy/table/column.py:965: RuntimeWarning: invalid value encountered in greater\n",
      "  return getattr(self.data, op)(other)\n",
      "/Users/rociokiman/anaconda3/lib/python3.7/site-packages/astropy/table/column.py:965: RuntimeWarning: invalid value encountered in less\n",
      "  return getattr(self.data, op)(other)\n"
     ]
    }
   ],
   "source": [
    "params_m_2 = [wdbinaries_2['parallax'], wdbinaries_2['parallax_error'], \n",
    "            wdbinaries_2['pmra_2'], wdbinaries_2['pmra_error'], \n",
    "            wdbinaries_2['pmdec'], wdbinaries_2['pmdec_error']]\n",
    "\n",
    "params_wd_2 = [wdbinaries_2['Plx'],wdbinaries_2['e_Plx'], \n",
    "             wdbinaries_2['pmRA_1'], wdbinaries_2['e_pmRA'], \n",
    "             wdbinaries_2['pmDE'], wdbinaries_2['e_pmDE']]\n",
    "\n",
    "mask_4_binaries_2 = mask_binaries(limits, params_m_2, params_wd_2, wdbinaries_2['Separation'],\n",
    "                                 wdbinaries_2['Pwd'],wdbinaries_2['f_Pwd'])\n",
    "#mask_2 = mask_4_binaries_2*(prob<=0.01)"
   ]
  },
  {
   "cell_type": "code",
   "execution_count": 10,
   "metadata": {},
   "outputs": [
    {
     "data": {
      "text/plain": [
       "176"
      ]
     },
     "execution_count": 10,
     "metadata": {},
     "output_type": "execute_result"
    }
   ],
   "source": [
    "len(wdbinaries_2[mask_4_binaries_2])"
   ]
  },
  {
   "cell_type": "code",
   "execution_count": 14,
   "metadata": {},
   "outputs": [],
   "source": [
    "prob_2 = calc_pca(params_m_2,params_wd_2,wdbinaries_2['Separation'],\n",
    "                  wdbinaries_2['Pwd'],wdbinaries_2['f_Pwd'])"
   ]
  },
  {
   "cell_type": "code",
   "execution_count": 17,
   "metadata": {},
   "outputs": [
    {
     "name": "stderr",
     "output_type": "stream",
     "text": [
      "/Users/rociokiman/anaconda3/lib/python3.7/site-packages/ipykernel_launcher.py:1: RuntimeWarning: invalid value encountered in less\n",
      "  \"\"\"Entry point for launching an IPython kernel.\n"
     ]
    },
    {
     "data": {
      "text/plain": [
       "176"
      ]
     },
     "execution_count": 17,
     "metadata": {},
     "output_type": "execute_result"
    }
   ],
   "source": [
    "len(wdbinaries_2[mask_4_binaries_2*(prob_2<0.01)])"
   ]
  },
  {
   "cell_type": "code",
   "execution_count": 25,
   "metadata": {},
   "outputs": [
    {
     "data": {
      "text/plain": [
       "[<matplotlib.lines.Line2D at 0x138692320>]"
      ]
     },
     "execution_count": 25,
     "metadata": {},
     "output_type": "execute_result"
    },
    {
     "data": {
      "image/png": "[encoded data removed]",
      "text/plain": [
       "<Figure size 432x288 with 1 Axes>"
      ]
     },
     "metadata": {
      "needs_background": "light"
     },
     "output_type": "display_data"
    }
   ],
   "source": [
    "mask_ha = wdbinaries_2['ewha'] > 0 \n",
    "plt.plot(wdbinaries_2['phot_g_mean_mag'][mask_4_binaries_2*mask_ha]-\n",
    "         wdbinaries_2['phot_rp_mean_mag'][mask_4_binaries_2*mask_ha],\n",
    "         wdbinaries_2['ewha'][mask_4_binaries_2*mask_ha],'.')"
   ]
  },
  {
   "cell_type": "code",
   "execution_count": 29,
   "metadata": {},
   "outputs": [
    {
     "name": "stdout",
     "output_type": "stream",
     "text": [
      "131.3430833 19.8278\n",
      "131.5354583 19.8979611\n",
      "131.3045417 19.6868639\n",
      "131.3430833 19.8278\n",
      "133.0605 19.0608611\n",
      "130.280625 19.0712167\n",
      "130.3295417 19.0884917\n",
      "129.06825 19.5420139\n",
      "336.03420833333325 17.479611111111108\n",
      "129.900625 18.6802722\n",
      "130.071125 18.6082833\n",
      "130.08 18.6340417\n",
      "130.14 18.6744806\n",
      "130.1646667 18.8182667\n",
      "130.165 18.8180556\n",
      "130.1849583 18.6565306\n",
      "130.221875 18.7483167\n",
      "126.6450833 19.5663722\n",
      "126.64508400000001 19.566371\n",
      "130.7210417 20.8192389\n",
      "130.1509583 21.5617167\n",
      "129.8105417 20.0219917\n",
      "129.8157917 20.0705806\n",
      "129.8789167 19.967175\n",
      "129.9209583 19.9913361\n",
      "129.9698333 20.0180944\n",
      "129.979375 20.0650417\n",
      "129.993125 20.15825\n",
      "130.0053333 20.1356389\n",
      "130.0545833 20.0578\n",
      "130.0633333 20.0872083\n",
      "130.0639167 19.9942556\n",
      "128.9379167 19.7711667\n",
      "128.938125 19.6405944\n",
      "129.045125 19.6948139\n",
      "129.0587083 19.6214861\n",
      "129.06825 19.5420139\n",
      "129.1300833 19.5925972\n",
      "129.94475 19.7368333\n",
      "130.010375 19.6764833\n",
      "130.0173333 19.7844417\n",
      "130.0403333 19.6214167\n",
      "130.0482917 19.6532722\n",
      "130.0560417 19.7787972\n",
      "130.073375 19.7875139\n",
      "130.0866667 19.6866583\n",
      "130.114625 19.655475\n",
      "130.16425 19.7154\n",
      "130.5567917 19.8357278\n",
      "130.5645417 19.8159972\n",
      "130.6245 19.9754611\n",
      "130.7104167 19.9176972\n",
      "130.75775 19.9012611\n",
      "130.78425 19.7131972\n",
      "130.7877083 19.7199639\n",
      "130.834125 19.7690167\n",
      "1.8087499999999999 -10.608055555555554\n",
      "25.7994033 21.019622\n",
      "69.965 19.6595667\n",
      "126.038875 20.0235917\n",
      "126.03886899999999 20.023591\n",
      "126.6450833 19.5663722\n",
      "126.64508400000001 19.566371\n",
      "128.2516667 20.7195333\n",
      "128.2852083 20.4436639\n",
      "128.7835417 19.9903556\n",
      "128.9669583 20.266325\n",
      "129.7620833 19.5325417\n",
      "129.7877917 19.5923722\n",
      "129.803 19.5046833\n",
      "129.8270833 19.3789611\n",
      "129.8540833 19.4593472\n",
      "129.8690833 19.4736528\n",
      "129.8822917 19.4048833\n",
      "129.940625 19.3669778\n",
      "129.9470833 19.6595444\n",
      "129.9618333 19.5505833\n",
      "129.9715 19.4010389\n",
      "129.9767083 19.4603361\n",
      "129.990875 19.5414167\n",
      "129.99925 19.5667528\n",
      "130.0755417 19.531925\n",
      "130.280625 19.0712167\n",
      "130.3295417 19.0884917\n",
      "130.3295417 19.0884917\n",
      "130.6455833 18.9293889\n",
      "130.6885 18.8600861\n",
      "130.707 18.85975\n",
      "130.8972917 19.0039222\n",
      "131.3045417 19.6868639\n",
      "131.3430833 19.8278\n",
      "131.5354583 19.8979611\n",
      "247.29250000000002 78.0775\n",
      "324.417445 1.6204819\n",
      "324.417445 1.620482\n",
      "336.03420833333325 17.479611111111108\n",
      "15.6822917 -62.5928889\n",
      "33.375875 -46.914027777777775\n",
      "34.54 -66.9645556\n",
      "37.440375 -55.6971111\n",
      "37.440375 -55.6971111\n",
      "37.440375 -55.6971111\n",
      "42.259499999999996 -10.489444444444443\n",
      "61.797833333333315 -29.3095\n",
      "61.797833333333315 -29.3095\n",
      "61.797833333333315 -29.3095\n",
      "71.9907917 -50.5888889\n",
      "74.45979999999999 -6.868609999999999\n",
      "80.73770833333332 -8.83663888888889\n",
      "80.73770833333332 -8.83663888888889\n",
      "86.77708333333332 -32.17813888888888\n",
      "86.77708333333332 -32.17813888888889\n",
      "86.77708333333332 -32.17813888888888\n",
      "86.77708333333332 -32.17813888888889\n",
      "95.91766666666666 -75.07575\n",
      "95.91766666666666 -75.07575\n",
      "118.52991666666665 -63.337472222222225\n",
      "118.52991666666667 -63.337472222222225\n",
      "129.7712917 19.7573417\n",
      "129.7789583 19.7855639\n",
      "129.7910833 19.7830361\n",
      "129.8199583 19.795175\n",
      "129.8410417 19.8611778\n",
      "129.8725 19.7866139\n",
      "129.9047917 19.8161083\n",
      "129.928 19.7784167\n",
      "129.94475 19.7368333\n",
      "129.946125 19.8276333\n",
      "130.0025417 19.8065028\n",
      "130.010375 19.6764833\n",
      "130.01525 19.9165222\n",
      "130.0173333 19.7844417\n",
      "130.020375 19.7292583\n",
      "130.0482917 19.6532722\n",
      "130.05125 19.6395333\n",
      "130.0560417 19.7787972\n",
      "130.0574167 19.7488833\n",
      "130.073375 19.7875139\n",
      "130.0866667 19.6866583\n",
      "142.94508333333332 -65.24675\n",
      "142.94508333333332 -65.24675\n",
      "143.73349999999996 -78.07202777777778\n",
      "144.24091666666666 -26.16975\n",
      "171.44808333333333 -44.17408333333333\n",
      "179.9066666666666 -78.22183333333334\n",
      "195.71904166666664 -52.02733333333333\n",
      "204.5387083333333 -19.74713888888889\n",
      "240.3395833333333 -22.62402777777778\n",
      "241.1615833333333 -62.26\n",
      "241.01874999999995 -23.777194444444444\n",
      "242.81916666666663 -19.65288888888889\n",
      "253.69229166666665 -35.050749999999994\n",
      "262.336125 -50.24802777777777\n",
      "262.336125 -50.2480556\n",
      "262.33624999999995 -50.24805555555555\n",
      "262.336125 -50.24802777777778\n",
      "279.9099583333333 16.38711111111111\n",
      "317.1594167 -42.7483333\n",
      "317.9133333333333 -23.17138888888889\n",
      "317.9133333333333 -23.17138888888889\n",
      "338.67341666666664 40.694111111111106\n",
      "338.67341666666664 40.694111111111106\n",
      "348.27325 -61.4521389\n",
      "353.426 -49.2304167\n",
      "23.0634167 -50.5751944\n",
      "131.0676708 -78.9854558\n",
      "331.59458333333333 -20.785\n",
      "74.8211667 6.4308917\n",
      "296.4752083333333 -24.989250000000002\n",
      "292.35837499999997 -32.120111111111115\n",
      "303.4460416666666 -20.780777777777775\n",
      "10.422541666666666 44.18138888888889\n",
      "23.0634167 -50.5751944\n",
      "65.3477083 10.8672444\n",
      "131.0676708 -78.9854558\n",
      "241.01874999999995 -23.777194444444444\n"
     ]
    },
    {
     "name": "stderr",
     "output_type": "stream",
     "text": [
      "/Users/rociokiman/anaconda3/lib/python3.7/site-packages/ipykernel_launcher.py:1: RuntimeWarning: invalid value encountered in less\n",
      "  \"\"\"Entry point for launching an IPython kernel.\n"
     ]
    }
   ],
   "source": [
    "for x,y in zip(wdbinaries_2['ra'][mask_4_binaries_2*(prob_2<0.01)],wdbinaries_2['dec'][mask_4_binaries_2*(prob_2<0.01)]):\n",
    "    print(x,y)"
   ]
  },
  {
   "cell_type": "code",
   "execution_count": 26,
   "metadata": {},
   "outputs": [
    {
     "name": "stderr",
     "output_type": "stream",
     "text": [
      "/Users/rociokiman/anaconda3/lib/python3.7/site-packages/ipykernel_launcher.py:1: RuntimeWarning: invalid value encountered in less\n",
      "  \"\"\"Entry point for launching an IPython kernel.\n"
     ]
    },
    {
     "data": {
      "text/plain": [
       "(array([  4., 109.,   1.,   3.,   1.,   2.,   0.,  11.,   0.,   0.,   4.,\n",
       "          2.,   0.,   0.,   0.,   1.,  32.,   0.,   0.,   0.,   2.,   0.,\n",
       "          2.,   0.,   0.,   2.,   0.,   0.,   0.,   0.]),\n",
       " array([ 0,  1,  2,  3,  4,  5,  6,  7,  8,  9, 10, 11, 12, 13, 14, 15, 16,\n",
       "        17, 18, 19, 20, 21, 22, 23, 24, 25, 26, 27, 28, 29, 30]),\n",
       " <a list of 30 Patch objects>)"
      ]
     },
     "execution_count": 26,
     "metadata": {},
     "output_type": "execute_result"
    },
    {
     "data": {
      "image/png": "[encoded data removed]",
      "text/plain": [
       "<Figure size 432x288 with 1 Axes>"
      ]
     },
     "metadata": {
      "needs_background": "light"
     },
     "output_type": "display_data"
    }
   ],
   "source": [
    "plt.hist(wdbinaries_2['source_num'][mask_4_binaries_2*(prob_2<0.01)],\n",
    "         bins=np.arange(0,31),align='left')"
   ]
  },
  {
   "cell_type": "code",
   "execution_count": null,
   "metadata": {},
   "outputs": [],
   "source": []
  },
  {
   "cell_type": "code",
   "execution_count": 30,
   "metadata": {},
   "outputs": [],
   "source": [
    "wdbinaries_table = Table.read('WhiteDwarfs/Catalogs/mactivity-gaiawd-all_10arcmin.fits')"
   ]
  },
  {
   "cell_type": "code",
   "execution_count": 31,
   "metadata": {},
   "outputs": [],
   "source": [
    "wdbinaries_table['PCA'] = prob"
   ]
  },
  {
   "cell_type": "code",
   "execution_count": 32,
   "metadata": {},
   "outputs": [],
   "source": [
    "wdbinaries_table_binaries = wdbinaries_table[mask_4_binaries]"
   ]
  },
  {
   "cell_type": "code",
   "execution_count": 34,
   "metadata": {},
   "outputs": [
    {
     "name": "stderr",
     "output_type": "stream",
     "text": [
      "WARNING: UnitsWarning: 'e-/s' did not parse as fits unit: At col 0, Unit 'e' not supported by the FITS standard.  [astropy.units.core]\n",
      "WARNING: UnitsWarning: 'Msun' did not parse as fits unit: At col 0, Unit 'Msun' not supported by the FITS standard. Did you mean Sun? [astropy.units.core]\n",
      "WARNING: UnitsWarning: 'electron/s' did not parse as fits unit: At col 0, Unit 'electron' not supported by the FITS standard.  [astropy.units.core]\n"
     ]
    }
   ],
   "source": [
    "wdbinaries_table_binaries.write('WhiteDwarfs/Catalogs/mdwarf-wdwarf_binarie.fits',format='fits')"
   ]
  },
  {
   "cell_type": "code",
   "execution_count": null,
   "metadata": {},
   "outputs": [],
   "source": []
  }
 ],
 "metadata": {
  "kernelspec": {
   "display_name": "Python 3",
   "language": "python",
   "name": "python3"
  },
  "language_info": {
   "codemirror_mode": {
    "name": "ipython",
    "version": 3
   },
   "file_extension": ".py",
   "mimetype": "text/x-python",
   "name": "python",
   "nbconvert_exporter": "python",
   "pygments_lexer": "ipython3",
   "version": "3.7.3"
  }
 },
 "nbformat": 4,
 "nbformat_minor": 2
}
