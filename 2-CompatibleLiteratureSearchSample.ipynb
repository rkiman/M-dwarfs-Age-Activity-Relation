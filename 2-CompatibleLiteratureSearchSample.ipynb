{
 "cells": [
  {
   "cell_type": "code",
   "execution_count": 2,
   "metadata": {},
   "outputs": [],
   "source": [
    "from astropy.io import fits\n",
    "import numpy as np\n",
    "from astropy.table import Table\n",
    "#import sys\n",
    "#sys.path.append('/Users/rociokiman/Documents/Gaia-Cupid/ActivityAgeRelation/banyan_sigma')\n",
    "#from banyan_sigma import banyan_sigma\n",
    "import matplotlib.pyplot as plt\n",
    "from astropy.coordinates import SkyCoord  \n",
    "import astropy.units as u\n",
    "import os\n",
    "#import random\n",
    "%matplotlib notebook"
   ]
  },
  {
   "cell_type": "code",
   "execution_count": 4,
   "metadata": {},
   "outputs": [
    {
     "name": "stdout",
     "output_type": "stream",
     "text": [
      "Finding repeated stars:\n",
      "0 out of 86918\n",
      "10000 out of 86918\n",
      "20000 out of 86918\n",
      "30000 out of 86918\n",
      "40000 out of 86918\n",
      "50000 out of 86918\n",
      "60000 out of 86918\n",
      "70000 out of 86918\n",
      "80000 out of 86918\n"
     ]
    }
   ],
   "source": [
    "literature_search = Table.read('Catalogs/literature_search_gaia.fits')\n",
    "order = 2\n",
    "'''\n",
    "Select the catalogs which are first and second order compatible with\n",
    "Kiman et al. 2019. from the literature search sample.\n",
    "'''\n",
    "source_ref_table = Table.read('data/source_ref.csv')\n",
    "#Numbers for each reference\n",
    "source_num_ref = source_ref_table['source_num']\n",
    "\n",
    "ra = np.array(literature_search['ra'])\n",
    "dec = np.array(literature_search['dec'])\n",
    "ewha = np.array(literature_search['ewha'])\n",
    "ewha_err = np.array(literature_search['ewha_error'])\n",
    "source_num = np.array(literature_search['source_num'])\n",
    "\n",
    "#Identify repeated stars\n",
    "same_star = find_repeated_stars(ra,dec)\n",
    "literature_search['same_star'] = same_star"
   ]
  },
  {
   "cell_type": "code",
   "execution_count": 31,
   "metadata": {},
   "outputs": [],
   "source": [
    "#Identify repeated measurements\n",
    "mask_idx_to_remove = remove_repeated_measurements(ewha,ewha_err,same_star)\n",
    "\n",
    "#Using the repeated stars identify compatible catalogs\n",
    "mask_kiman = source_ref_table['source_ref'] == 'Kiman 2019'\n",
    "idx_kiman = source_ref_table['source_num'][mask_kiman][0]\n",
    "\n",
    "res = find_compatible_catalogs(idx_kiman,source_num_ref,same_star,source_num,\n",
    "                               ewha,max_order=2)\n",
    "compatible,prob,total_comp,order = res"
   ]
  },
  {
   "cell_type": "code",
   "execution_count": 32,
   "metadata": {},
   "outputs": [
    {
     "name": "stdout",
     "output_type": "stream",
     "text": [
      "Compatible catalogs: [ 0  1  4  5  6  7  8 11 14 15 17 18 19 20 23 24 25 27 28 30 31 34 36 37\n",
      " 38 40 41 42 43 44 45 46 48 49 50 51 52 54 56 57]\n",
      "Unrepeated measurements of ha: 86085\n"
     ]
    }
   ],
   "source": [
    "print('Compatible catalogs: {}'.format(compatible))\n",
    "#Using the list of compatible catalogs make a mask of compatible stars\n",
    "#and define the final sample of compatible stars.\n",
    "mask_compatible = np.array([x in compatible for x \n",
    "                            in source_num[~mask_idx_to_remove]])\n",
    "\n",
    "#Remove repeated measurements\n",
    "ls_compatible = literature_search[~mask_idx_to_remove]\n",
    "print('Unrepeated measurements of ha: {}'.format(len(ls_compatible)))\n",
    "\n",
    "#Add a new ewha column to distinguish between compatible and not compatible\n",
    "ls_compatible['ewha_all'] = ls_compatible['ewha']\n",
    "ls_compatible['ewha_error_all'] = ls_compatible['ewha_error']\n",
    "ls_compatible['ewha'][~mask_compatible] = np.nan\n",
    "ls_compatible['ewha_error'][~mask_compatible] = np.nan"
   ]
  },
  {
   "cell_type": "code",
   "execution_count": 34,
   "metadata": {},
   "outputs": [
    {
     "data": {
      "text/plain": [
       "0"
      ]
     },
     "execution_count": 34,
     "metadata": {},
     "output_type": "execute_result"
    }
   ],
   "source": [
    "Ncomp = len(ls_compatible['ewha'][~np.isnan(ls_compatible['ewha'])])\n",
    "make_table_for_paper_sources(ls_compatible['source_num'],Ncomp,\n",
    "                             compatible,total_comp,order)"
   ]
  },
  {
   "cell_type": "code",
   "execution_count": 33,
   "metadata": {},
   "outputs": [],
   "source": [
    "#!/usr/bin/env python3\n",
    "# -*- coding: utf-8 -*-\n",
    "\n",
    "import os\n",
    "from astropy.table import Table\n",
    "#import numpy as np\n",
    "\n",
    "def make_table_for_paper_sources(source_num,Ncomp,compatible,total_comp,order):\n",
    "     \n",
    "    dropbox_path = '/Users/rociokiman/Dropbox/Apps/Overleaf/'\n",
    "    paper = 'Age-Activity Relation for M dwarfs/'\n",
    "    os.remove(dropbox_path + paper + 'sources_summary.tex')\n",
    "    file_sources = open(dropbox_path + paper + 'sources_summary.tex','x')\n",
    "    \n",
    "    source_ref_table = Table.read('data/source_ref.csv')\n",
    "    \n",
    "    #Ntot = len(ra)\n",
    "    #Ncomp = len(ls_compatible[~np.isnan(ls_compatible['ewha'])])\n",
    "    n_sources = len(source_ref_table['source_ref'])\n",
    "    total_incompatible = 0\n",
    "    papers_notes = 'Other works checked in literature search but were considered incompatible: '\n",
    "    #Header\n",
    "    file_sources.write('\\\\begin{deluxetable*}{ccccc}[ht!]\\n')\n",
    "    file_sources.write('\\\\tablewidth{290pt}\\n')\n",
    "    file_sources.write('\\\\tabletypesize{\\scriptsize}\\n')\n",
    "    file_sources.write('\\\\tablecaption{Compatible references for $\\haew$. \\\\label{table:source_ref}}\\n')\n",
    "    file_sources.write('\\\\tablehead{\\\\colhead{Reference \\\\tablenotemark{a}} & \\\\colhead{Resolution} & \\\\colhead{$N$ Stars} & \\\\colhead{$N$ Stars Compatible} & \\\\colhead{OC \\\\tablenotemark{b}} \\\\\\ & & Total='+str(Ncomp) +'& &\\n}')\n",
    "    file_sources.write('\\\\startdata \\n')\n",
    "    \n",
    "    for i in range(n_sources):\n",
    "        if i in compatible:\n",
    "            mask = i == compatible\n",
    "            compatible_i = int(total_comp[mask][0])\n",
    "            order_i = int(order[mask][0])\n",
    "        else:\n",
    "            compatible_i = 0\n",
    "            order_i = '-'\n",
    "        n_i = len(source_num[source_num == i])\n",
    "        if(n_i!=0 and compatible_i!=0):\n",
    "            file_sources.write('{}&{}&{}&{}&{}\\\\\\ \\n'.format(source_ref_table['cite'][i],source_ref_table['resolution'][i],\n",
    "                                                   n_i,compatible_i,order_i)) \n",
    "        elif(compatible_i==0):\n",
    "            total_incompatible += n_i\n",
    "            papers_notes = papers_notes + source_ref_table['cite'][i] + ', '\n",
    "    file_sources.write('\\\\enddata \\n')\n",
    "    file_sources.write('\\\\tablenotetext{a}{'+ papers_notes +'.}\\n')\n",
    "    file_sources.write('\\\\tablenotetext{b}{Order of compatibility. Order 1 is compatible with \\\\citet{Kiman2019}. Order 2 are compatible with order 1 catalogs.}\\n')\n",
    "    file_sources.write('\\\\end{deluxetable*}\\n')\n",
    "\n",
    "    return 0\n",
    "\n"
   ]
  },
  {
   "cell_type": "code",
   "execution_count": 30,
   "metadata": {},
   "outputs": [
    {
     "name": "stdout",
     "output_type": "stream",
     "text": [
      "IDL Save file is compressed\n",
      " -> expanding to /var/folders/8z/_8g9xgs96yd186lrg1z24zq80000gn/T/tmpe25f77zy.sav\n",
      "--------------------------------------------------\n",
      "Date: Tue Apr  7 16:46:26 2020\n",
      "User: gagne\n",
      "Host: Alcyone.local\n",
      "--------------------------------------------------\n",
      "Format: 12\n",
      "Architecture: x86_64\n",
      "Operating System: darwin\n",
      "IDL Version: 8.7.2\n",
      "--------------------------------------------------\n",
      "Successfully read 5 records of which:\n",
      " - 1 are of type VERSION\n",
      " - 1 are of type TIMESTAMP\n",
      " - 2 are of type VARIABLE\n",
      "--------------------------------------------------\n",
      "Available variables:\n",
      " - input [<class 'numpy.recarray'>]\n",
      " - out [<class 'numpy.recarray'>]\n",
      "--------------------------------------------------\n"
     ]
    }
   ],
   "source": [
    "from scipy.io.idl import readsav\n",
    "path = 'Catalogs/rocio_praesepe_sample.sav'\n",
    "#extracting best young asociationg and probability of being member\n",
    "results = readsav(path,verbose=1)"
   ]
  },
  {
   "cell_type": "code",
   "execution_count": 2,
   "metadata": {},
   "outputs": [],
   "source": [
    "literature_search1 = Table.read('Catalogs/literature_search_gaia.fits')\n",
    "source_ref_table = Table.read('data/source_ref.csv')"
   ]
  },
  {
   "cell_type": "code",
   "execution_count": 3,
   "metadata": {},
   "outputs": [],
   "source": [
    "idx_kiman = source_ref_table['source_num'][source_ref_table['source_ref'] == 'Kiman 2019'][0]"
   ]
  },
  {
   "cell_type": "code",
   "execution_count": 4,
   "metadata": {},
   "outputs": [],
   "source": [
    "#Numbers for each reference\n",
    "source_num_ref = source_ref_table['source_num']"
   ]
  },
  {
   "cell_type": "code",
   "execution_count": 5,
   "metadata": {},
   "outputs": [],
   "source": [
    "#Remove haew nans and zeros from the sample. We don't want them!\n",
    "mask_nan = (~np.isnan(np.array(literature_search1['ewha']))) * (np.array(literature_search1['ewha'])!=0)\n",
    "literature_search2 = literature_search1[mask_nan]"
   ]
  },
  {
   "cell_type": "code",
   "execution_count": 6,
   "metadata": {},
   "outputs": [],
   "source": [
    "ra2 = np.array(literature_search2['ra'])\n",
    "dec2 = np.array(literature_search2['dec'])\n",
    "ewha2 = np.array(literature_search2['ewha'])\n",
    "ewha_err2 = np.array(literature_search2['ewha_error'])\n",
    "source2 = np.array(literature_search2['source_ref'])\n",
    "source_num2 = np.array(literature_search2['source_num'])\n",
    "source_ref2 = np.array(literature_search2['source_ref'])"
   ]
  },
  {
   "cell_type": "code",
   "execution_count": 48,
   "metadata": {},
   "outputs": [
    {
     "name": "stdout",
     "output_type": "stream",
     "text": [
      "0 out of 84566\n",
      "10000 out of 84566\n",
      "20000 out of 84566\n",
      "30000 out of 84566\n",
      "40000 out of 84566\n"
     ]
    },
    {
     "ename": "KeyboardInterrupt",
     "evalue": "",
     "output_type": "error",
     "traceback": [
      "\u001b[0;31m---------------------------------------------------------------------------\u001b[0m",
      "\u001b[0;31mKeyboardInterrupt\u001b[0m                         Traceback (most recent call last)",
      "\u001b[0;32m<ipython-input-48-1fed8c97a56b>\u001b[0m in \u001b[0;36m<module>\u001b[0;34m\u001b[0m\n\u001b[1;32m     11\u001b[0m     \u001b[0;32mif\u001b[0m\u001b[0;34m(\u001b[0m\u001b[0msame_star2\u001b[0m\u001b[0;34m[\u001b[0m\u001b[0mi\u001b[0m\u001b[0;34m]\u001b[0m\u001b[0;34m==\u001b[0m\u001b[0;36m0\u001b[0m\u001b[0;34m)\u001b[0m\u001b[0;34m:\u001b[0m\u001b[0;34m\u001b[0m\u001b[0;34m\u001b[0m\u001b[0m\n\u001b[1;32m     12\u001b[0m         \u001b[0mc1\u001b[0m \u001b[0;34m=\u001b[0m \u001b[0mSkyCoord\u001b[0m\u001b[0;34m(\u001b[0m\u001b[0mra\u001b[0m\u001b[0;34m=\u001b[0m\u001b[0mra2\u001b[0m\u001b[0;34m[\u001b[0m\u001b[0mi\u001b[0m\u001b[0;34m]\u001b[0m\u001b[0;34m*\u001b[0m\u001b[0mu\u001b[0m\u001b[0;34m.\u001b[0m\u001b[0mdeg\u001b[0m\u001b[0;34m,\u001b[0m \u001b[0mdec\u001b[0m\u001b[0;34m=\u001b[0m\u001b[0mdec2\u001b[0m\u001b[0;34m[\u001b[0m\u001b[0mi\u001b[0m\u001b[0;34m]\u001b[0m\u001b[0;34m*\u001b[0m\u001b[0mu\u001b[0m\u001b[0;34m.\u001b[0m\u001b[0mdeg\u001b[0m\u001b[0;34m)\u001b[0m\u001b[0;34m\u001b[0m\u001b[0;34m\u001b[0m\u001b[0m\n\u001b[0;32m---> 13\u001b[0;31m         \u001b[0mseparation\u001b[0m \u001b[0;34m=\u001b[0m \u001b[0mc1\u001b[0m\u001b[0;34m.\u001b[0m\u001b[0mseparation\u001b[0m\u001b[0;34m(\u001b[0m\u001b[0mc_all\u001b[0m\u001b[0;34m)\u001b[0m\u001b[0;34m.\u001b[0m\u001b[0marcsec\u001b[0m\u001b[0;34m\u001b[0m\u001b[0;34m\u001b[0m\u001b[0m\n\u001b[0m\u001b[1;32m     14\u001b[0m         \u001b[0mmask_close\u001b[0m \u001b[0;34m=\u001b[0m \u001b[0mseparation\u001b[0m \u001b[0;34m<\u001b[0m \u001b[0;36m2\u001b[0m\u001b[0;34m\u001b[0m\u001b[0;34m\u001b[0m\u001b[0m\n\u001b[1;32m     15\u001b[0m         \u001b[0;32mif\u001b[0m\u001b[0;34m(\u001b[0m\u001b[0mlen\u001b[0m\u001b[0;34m(\u001b[0m\u001b[0mra2\u001b[0m\u001b[0;34m[\u001b[0m\u001b[0mmask_close\u001b[0m\u001b[0;34m]\u001b[0m\u001b[0;34m)\u001b[0m\u001b[0;34m>\u001b[0m\u001b[0;36m1\u001b[0m\u001b[0;34m)\u001b[0m\u001b[0;34m:\u001b[0m\u001b[0;34m\u001b[0m\u001b[0;34m\u001b[0m\u001b[0m\n",
      "\u001b[0;32m~/anaconda3/lib/python3.7/site-packages/astropy/coordinates/sky_coordinate.py\u001b[0m in \u001b[0;36mseparation\u001b[0;34m(self, other)\u001b[0m\n\u001b[1;32m    844\u001b[0m \u001b[0;34m\u001b[0m\u001b[0m\n\u001b[1;32m    845\u001b[0m         \u001b[0;31m# Get the separation as a Quantity, convert to Angle in degrees\u001b[0m\u001b[0;34m\u001b[0m\u001b[0;34m\u001b[0m\u001b[0;34m\u001b[0m\u001b[0m\n\u001b[0;32m--> 846\u001b[0;31m         \u001b[0msep\u001b[0m \u001b[0;34m=\u001b[0m \u001b[0mangular_separation\u001b[0m\u001b[0;34m(\u001b[0m\u001b[0mlon1\u001b[0m\u001b[0;34m,\u001b[0m \u001b[0mlat1\u001b[0m\u001b[0;34m,\u001b[0m \u001b[0mlon2\u001b[0m\u001b[0;34m,\u001b[0m \u001b[0mlat2\u001b[0m\u001b[0;34m)\u001b[0m\u001b[0;34m\u001b[0m\u001b[0;34m\u001b[0m\u001b[0m\n\u001b[0m\u001b[1;32m    847\u001b[0m         \u001b[0;32mreturn\u001b[0m \u001b[0mAngle\u001b[0m\u001b[0;34m(\u001b[0m\u001b[0msep\u001b[0m\u001b[0;34m,\u001b[0m \u001b[0munit\u001b[0m\u001b[0;34m=\u001b[0m\u001b[0mu\u001b[0m\u001b[0;34m.\u001b[0m\u001b[0mdegree\u001b[0m\u001b[0;34m)\u001b[0m\u001b[0;34m\u001b[0m\u001b[0;34m\u001b[0m\u001b[0m\n\u001b[1;32m    848\u001b[0m \u001b[0;34m\u001b[0m\u001b[0m\n",
      "\u001b[0;32m~/anaconda3/lib/python3.7/site-packages/astropy/coordinates/angle_utilities.py\u001b[0m in \u001b[0;36mangular_separation\u001b[0;34m(lon1, lat1, lon2, lat2)\u001b[0m\n\u001b[1;32m    696\u001b[0m \u001b[0;34m\u001b[0m\u001b[0m\n\u001b[1;32m    697\u001b[0m     \u001b[0msdlon\u001b[0m \u001b[0;34m=\u001b[0m \u001b[0mnp\u001b[0m\u001b[0;34m.\u001b[0m\u001b[0msin\u001b[0m\u001b[0;34m(\u001b[0m\u001b[0mlon2\u001b[0m \u001b[0;34m-\u001b[0m \u001b[0mlon1\u001b[0m\u001b[0;34m)\u001b[0m\u001b[0;34m\u001b[0m\u001b[0;34m\u001b[0m\u001b[0m\n\u001b[0;32m--> 698\u001b[0;31m     \u001b[0mcdlon\u001b[0m \u001b[0;34m=\u001b[0m \u001b[0mnp\u001b[0m\u001b[0;34m.\u001b[0m\u001b[0mcos\u001b[0m\u001b[0;34m(\u001b[0m\u001b[0mlon2\u001b[0m \u001b[0;34m-\u001b[0m \u001b[0mlon1\u001b[0m\u001b[0;34m)\u001b[0m\u001b[0;34m\u001b[0m\u001b[0;34m\u001b[0m\u001b[0m\n\u001b[0m\u001b[1;32m    699\u001b[0m     \u001b[0mslat1\u001b[0m \u001b[0;34m=\u001b[0m \u001b[0mnp\u001b[0m\u001b[0;34m.\u001b[0m\u001b[0msin\u001b[0m\u001b[0;34m(\u001b[0m\u001b[0mlat1\u001b[0m\u001b[0;34m)\u001b[0m\u001b[0;34m\u001b[0m\u001b[0;34m\u001b[0m\u001b[0m\n\u001b[1;32m    700\u001b[0m     \u001b[0mslat2\u001b[0m \u001b[0;34m=\u001b[0m \u001b[0mnp\u001b[0m\u001b[0;34m.\u001b[0m\u001b[0msin\u001b[0m\u001b[0;34m(\u001b[0m\u001b[0mlat2\u001b[0m\u001b[0;34m)\u001b[0m\u001b[0;34m\u001b[0m\u001b[0;34m\u001b[0m\u001b[0m\n",
      "\u001b[0;32m~/anaconda3/lib/python3.7/site-packages/astropy/units/quantity.py\u001b[0m in \u001b[0;36m__array_ufunc__\u001b[0;34m(self, function, method, *inputs, **kwargs)\u001b[0m\n\u001b[1;32m    461\u001b[0m \u001b[0;34m\u001b[0m\u001b[0m\n\u001b[1;32m    462\u001b[0m         \u001b[0;31m# Call our superclass's __array_ufunc__\u001b[0m\u001b[0;34m\u001b[0m\u001b[0;34m\u001b[0m\u001b[0;34m\u001b[0m\u001b[0m\n\u001b[0;32m--> 463\u001b[0;31m         \u001b[0mresult\u001b[0m \u001b[0;34m=\u001b[0m \u001b[0msuper\u001b[0m\u001b[0;34m(\u001b[0m\u001b[0;34m)\u001b[0m\u001b[0;34m.\u001b[0m\u001b[0m__array_ufunc__\u001b[0m\u001b[0;34m(\u001b[0m\u001b[0mfunction\u001b[0m\u001b[0;34m,\u001b[0m \u001b[0mmethod\u001b[0m\u001b[0;34m,\u001b[0m \u001b[0;34m*\u001b[0m\u001b[0marrays\u001b[0m\u001b[0;34m,\u001b[0m \u001b[0;34m**\u001b[0m\u001b[0mkwargs\u001b[0m\u001b[0;34m)\u001b[0m\u001b[0;34m\u001b[0m\u001b[0;34m\u001b[0m\u001b[0m\n\u001b[0m\u001b[1;32m    464\u001b[0m         \u001b[0;31m# If unit is None, a plain array is expected (e.g., comparisons), which\u001b[0m\u001b[0;34m\u001b[0m\u001b[0;34m\u001b[0m\u001b[0;34m\u001b[0m\u001b[0m\n\u001b[1;32m    465\u001b[0m         \u001b[0;31m# means we're done.\u001b[0m\u001b[0;34m\u001b[0m\u001b[0;34m\u001b[0m\u001b[0;34m\u001b[0m\u001b[0m\n",
      "\u001b[0;31mKeyboardInterrupt\u001b[0m: "
     ]
    }
   ],
   "source": [
    "#Finds repeated stars and assigns them the same number in the array same_star. \n",
    "#The number starts at 1. Stars with same_star = 0 are singles.\n",
    "#The stars are consider the same if the are closer than 2arcsec.\n",
    "Ntot = len(ra2)\n",
    "same_star2 = np.zeros(Ntot)\n",
    "c_all = SkyCoord(ra=ra2*u.deg, dec=dec2*u.deg)\n",
    "dummy = 1\n",
    "for i in range(Ntot):\n",
    "    if(i%10000==0):\n",
    "        print('{} out of {}'.format(i,Ntot))\n",
    "    if(same_star2[i]==0):\n",
    "        c1 = SkyCoord(ra=ra2[i]*u.deg, dec=dec2[i]*u.deg)\n",
    "        separation = c1.separation(c_all).arcsec\n",
    "        mask_close = separation < 2\n",
    "        if(len(ra2[mask_close])>1):\n",
    "            same_star2[mask_close] = dummy\n",
    "            dummy+=1"
   ]
  },
  {
   "cell_type": "code",
   "execution_count": 9,
   "metadata": {},
   "outputs": [],
   "source": [
    "literature_search2['same_star'] = same_star2"
   ]
  },
  {
   "cell_type": "code",
   "execution_count": 31,
   "metadata": {},
   "outputs": [],
   "source": [
    "#remove repeated stars\n",
    "N_ref = len(source_num_ref)\n",
    "\n",
    "idx = np.arange(len(ewha2))\n",
    "idx_to_remove = []\n",
    "for x in range(1,int(max(same_star2)+1)):\n",
    "    #Select group of the same star with the mask\n",
    "    mask = (same_star2 == x) \n",
    "    if(len(ewha2[mask])>1):\n",
    "        #Select the ewha of the repeated star\n",
    "        ewha_mask = np.round(ewha2[mask],3)\n",
    "        ewha_err_mask = ewha_err2[mask]\n",
    "        idx_mask = idx[mask]\n",
    "        if(len(ewha_mask) != len(set(ewha_mask))):\n",
    "            seen = []\n",
    "            for x in ewha_mask:\n",
    "                mask_zero = ewha_mask-x == 0\n",
    "                if(len(ewha_mask[mask_zero])>1 and x not in seen):\n",
    "                    idx_mask_zero = idx_mask[mask_zero]\n",
    "                    mask_not_nan = ~np.isnan(ewha_err_mask[mask_zero])\n",
    "                    if(len(idx_mask_zero[mask_not_nan])!=0):\n",
    "                        idx_to_keep = idx_mask_zero[mask_not_nan][0]\n",
    "                    else:\n",
    "                        idx_to_keep = idx_mask_zero[0]\n",
    "                    seen.append(x)\n",
    "                    for y in idx_mask_zero[idx_mask_zero!=idx_to_keep]:\n",
    "                        idx_to_remove.append(y)"
   ]
  },
  {
   "cell_type": "code",
   "execution_count": 32,
   "metadata": {},
   "outputs": [],
   "source": [
    "idx_to_remove = np.array(idx_to_remove)"
   ]
  },
  {
   "cell_type": "code",
   "execution_count": 33,
   "metadata": {},
   "outputs": [],
   "source": [
    "mask_idx_to_remove = np.array([True if x in idx_to_remove else False for x in idx])"
   ]
  },
  {
   "cell_type": "code",
   "execution_count": 34,
   "metadata": {},
   "outputs": [],
   "source": [
    "literature_search = literature_search2[~mask_idx_to_remove]"
   ]
  },
  {
   "cell_type": "code",
   "execution_count": 35,
   "metadata": {},
   "outputs": [
    {
     "data": {
      "text/plain": [
       "83766"
      ]
     },
     "execution_count": 35,
     "metadata": {},
     "output_type": "execute_result"
    }
   ],
   "source": [
    "len(literature_search)"
   ]
  },
  {
   "cell_type": "code",
   "execution_count": 36,
   "metadata": {},
   "outputs": [],
   "source": [
    "ra = np.array(literature_search['ra'])\n",
    "dec = np.array(literature_search['dec'])\n",
    "ewha = np.array(literature_search['ewha'])\n",
    "ewha_err = np.array(literature_search['ewha_error'])\n",
    "source = np.array(literature_search['source_ref'])\n",
    "source_num = np.array(literature_search['source_num'])\n",
    "source_ref = np.array(literature_search['source_ref'])\n",
    "same_star = np.array(literature_search['same_star'])"
   ]
  },
  {
   "cell_type": "code",
   "execution_count": 37,
   "metadata": {},
   "outputs": [],
   "source": [
    "N_ref = len(source_num_ref)\n",
    "ewha_i = []\n",
    "ewha_j = []\n",
    "#Set up a matrix that will count the catalogs that can be considered compatible\n",
    "#accorgin to halpha\n",
    "matrix_prob = np.ones((N_ref,N_ref))*0\n",
    "#Set up a matrix that will count how many stars the catalogs have in common\n",
    "matrix_prob_all = np.ones((N_ref,N_ref))*0\n",
    "\n",
    "for x in range(1,int(max(same_star)+1)):\n",
    "    #Select group of the same star with the mask\n",
    "    mask = (same_star == x) *~np.isnan(ewha)\n",
    "    if(len(ewha[mask])>1):\n",
    "        ### --- Test for the selection of equal stars --- ### \n",
    "        #if(19 in source_num[mask]):\n",
    "        #    print(x)\n",
    "        #    for ra_i,dec_i,source_i in zip(ra[mask],dec[mask],source[mask]):\n",
    "        #        print(ra_i,dec_i,source_i)\n",
    "        ### --- --- ###\n",
    "        \n",
    "        #Select the sources where the star is repeated\n",
    "        source_num_mask = source_num[mask]\n",
    "        #Select the ewha of the repeated star\n",
    "        ewha_mask = ewha[mask]\n",
    "        \n",
    "        N = len(source_num_mask)\n",
    "        for i in range(N):\n",
    "            for j in range(N):\n",
    "                if(source_num_mask[i]!=source_num_mask[j]):\n",
    "                    #If the differene of the ewha is smaller than 3A,\n",
    "                    #then add a 1 to matrix_prob\n",
    "                    if(abs(ewha_mask[i]-ewha_mask[j])<3):\n",
    "                        matrix_prob[int(source_num_mask[i]),int(source_num_mask[j])]+=1\n",
    "                    matrix_prob_all[int(source_num_mask[i]),int(source_num_mask[j])]+=1\n",
    "                if(source_num_mask[i]<source_num_mask[j]):\n",
    "                    ewha_i.append(ewha_mask[i])\n",
    "                    ewha_j.append(ewha_mask[j])\n",
    "                        \n",
    "#mean,std,delta = np.array(mean),np.array(std),np.array(delta)\n",
    "ewha_i, ewha_j = np.array(ewha_i), np.array(ewha_j)"
   ]
  },
  {
   "cell_type": "code",
   "execution_count": 38,
   "metadata": {},
   "outputs": [
    {
     "data": {
      "text/plain": [
       "(-3, 20)"
      ]
     },
     "execution_count": 38,
     "metadata": {},
     "output_type": "execute_result"
    },
    {
     "data": {
      "image/png": "[encoded data removed]",
      "text/plain": [
       "<Figure size 432x288 with 1 Axes>"
      ]
     },
     "metadata": {
      "needs_background": "light"
     },
     "output_type": "display_data"
    }
   ],
   "source": [
    "x = np.linspace(-3,20)\n",
    "mask_ha = abs(ewha_i-ewha_j)<3\n",
    "plt.scatter(ewha_i[mask_ha],ewha_j[mask_ha],s=1)\n",
    "plt.plot(x,x,'k-',linewidth=.5)\n",
    "plt.xlim(-3,20)\n",
    "plt.ylim(-3,20)"
   ]
  },
  {
   "cell_type": "code",
   "execution_count": 39,
   "metadata": {},
   "outputs": [
    {
     "name": "stdout",
     "output_type": "stream",
     "text": [
      "[6, 8, 37, 41, 57]\n",
      "Alonso-Floriano 2015 1.0 5.0 2\n",
      "Ansdell 2015 1.0 4.0 2\n",
      "Bouy 2009 1.0 1.0 2\n",
      "Douglas 2014 1.0 60.0 1\n",
      "Elliott 2016 1.0 1.0 2\n",
      "Fang 2018 1.0 1.0 1\n",
      "Gaidos 2014 1.0 1.0 2\n",
      "Gizis 2002 0.96 24.0 2\n",
      "Hawley 1996 1.0 1.0 2\n",
      "Jayawardhana 2006 1.0 2.0 2\n",
      "Jeffers 2018 1.0 7.0 2\n",
      "Kiman 2019 1.0 60.0 2\n",
      "Kraus 2014 1.0 9.0 2\n",
      "Lepine 2013 1.0 4.0 2\n",
      "LG11 0.9375 15.0 2\n",
      "Lyo 2004 1.0 2.0 2\n",
      "Malo 2014 0.9230769230769231 12.0 2\n",
      "Mochnacki 2002 1.0 8.0 2\n",
      "Mohanty 2003 1.0 1.0 2\n",
      "Newton 2017 0.9375 15.0 2\n",
      "Reid 1995 1.0 3.0 2\n",
      "Reid 2002 1.0 2.0 1\n",
      "Reid 2007 1.0 1.0 2\n",
      "Reiners 2008 1.0 1.0 2\n",
      "Reiners 2010 1.0 2.0 1\n",
      "Riaz 2006 0.9230769230769231 12.0 2\n",
      "Riedel 2014 1.0 1.0 2\n",
      "Rodriguez 2014 0.9375 15.0 2\n",
      "Schneider 2019 0.9655172413793104 28.0 2\n",
      "Shkolnik 2009 0.918918918918919 34.0 2\n",
      "Shkolnik 2017 1.0 4.0 2\n",
      "Song 2003 1.0 1.0 2\n",
      "Song 2004 1.0 2.0 2\n",
      "Terrien 2015 1.0 6.0 2\n",
      "Torres 2006 0.9333333333333333 14.0 2\n",
      "West 2011 1.0 10.0 1\n"
     ]
    }
   ],
   "source": [
    "compatible = []\n",
    "prob = []\n",
    "total_comp = []\n",
    "order = []\n",
    "#First order compatible catalogs\n",
    "for i in range(N_ref):\n",
    "    if(matrix_prob[i,idx_kiman] > 0.0):\n",
    "        prob_i = matrix_prob[i,idx_kiman]/matrix_prob_all[i,idx_kiman]\n",
    "        if(i not in compatible and prob_i > 0.9):\n",
    "            compatible.append(i)\n",
    "            prob.append(prob_i)\n",
    "            total_comp.append(matrix_prob[i,idx_kiman])\n",
    "            order.append(1)\n",
    "\n",
    "print(compatible)\n",
    "#Second order compatible catalogs\n",
    "for i in compatible:\n",
    "    for j in range(N_ref):\n",
    "        if((matrix_prob[j,i] > 0)):\n",
    "            prob_j = matrix_prob[j,i]/matrix_prob_all[j,i]\n",
    "            if(j not in compatible and prob_j > 0.9):\n",
    "                compatible.append(j)\n",
    "                prob.append(prob_j)\n",
    "                total_comp.append(matrix_prob[j,i])\n",
    "                order.append(2)\n",
    "compatible,prob,total_comp,order = np.array(compatible),np.array(prob),np.array(total_comp),np.array(order)\n",
    "idx = np.argsort(compatible)\n",
    "compatible = compatible[idx]\n",
    "prob = prob[idx]\n",
    "total_comp = total_comp[idx]\n",
    "order = order[idx]\n",
    "\n",
    "for x,y,z,w in zip(compatible,prob,total_comp,order):\n",
    "    print(source_ref_table['source_ref'][x],y,z,w)\n",
    "    \n",
    "#compatible = list(compatible)\n",
    "#compatible.remove(source_num_ref[source_ref_table['source_ref']=='Reiners 2010'][0])\n",
    "#compatible.append(source_num_ref[source_ref_table['source_ref']=='Newton 2017'][0])\n",
    "#compatible.append(source_num_ref[source_ref_table['source_ref']=='Gizis 2002'][0])\n",
    "#compatible.append(source_num_ref[source_ref_table['source_ref']=='Alonso-Floriano 2015'][0])\n",
    "#compatible = np.sort(compatible)\n",
    "#compatible = np.array(compatible)"
   ]
  },
  {
   "cell_type": "code",
   "execution_count": 40,
   "metadata": {},
   "outputs": [],
   "source": [
    "mask_compatible = np.array([x in compatible for x in source_num])"
   ]
  },
  {
   "cell_type": "code",
   "execution_count": 41,
   "metadata": {},
   "outputs": [
    {
     "data": {
      "text/plain": [
       "83100"
      ]
     },
     "execution_count": 41,
     "metadata": {},
     "output_type": "execute_result"
    }
   ],
   "source": [
    "len(literature_search[mask_compatible])"
   ]
  },
  {
   "cell_type": "code",
   "execution_count": 42,
   "metadata": {},
   "outputs": [],
   "source": [
    "not_compatible = []\n",
    "for n in range(N_ref):\n",
    "    if(n not in compatible):\n",
    "        not_compatible.append(n)"
   ]
  },
  {
   "cell_type": "code",
   "execution_count": 43,
   "metadata": {},
   "outputs": [],
   "source": [
    "N_ref = len(source_num_ref)\n",
    "mean_compatible,std_compatible,delta_compatible=[],[],[]\n",
    "for x in range(1,int(max(same_star)+1)):\n",
    "    mask = (same_star == x) * mask_compatible\n",
    "    if(len(ewha[mask])>1):\n",
    "        mean_compatible.append(np.nanmean(ewha[mask]))\n",
    "        std_compatible.append(np.nanstd(ewha[mask]))\n",
    "        delta_compatible.append(np.nanmax(ewha[mask])-np.nanmin(ewha[mask]))\n",
    "                        \n",
    "mean_compatible = np.array(mean_compatible)\n",
    "std_compatible,delta_compatible = np.array(std_compatible),np.array(delta_compatible)"
   ]
  },
  {
   "cell_type": "code",
   "execution_count": 44,
   "metadata": {},
   "outputs": [
    {
     "name": "stderr",
     "output_type": "stream",
     "text": [
      "/Users/rociokiman/anaconda3/lib/python3.7/site-packages/ipykernel_launcher.py:4: RuntimeWarning: divide by zero encountered in true_divide\n",
      "  after removing the cwd from sys.path.\n",
      "/Users/rociokiman/anaconda3/lib/python3.7/site-packages/ipykernel_launcher.py:8: RuntimeWarning: divide by zero encountered in true_divide\n",
      "  \n"
     ]
    },
    {
     "data": {
      "image/png": "[encoded data removed]",
      "text/plain": [
       "<Figure size 576x216 with 3 Axes>"
      ]
     },
     "metadata": {
      "needs_background": "light"
     },
     "output_type": "display_data"
    }
   ],
   "source": [
    "x = np.linspace(-0.2,140)\n",
    "y = x*0.3\n",
    "f,(ax1,ax2) = plt.subplots(1,2,figsize=(8,3)) \n",
    "cax = ax1.scatter(abs(mean_compatible),std_compatible,c=abs(std_compatible/mean_compatible),s=4,vmin=0,vmax=1.2)\n",
    "ax1.set_xlabel(r'<EWH$\\alpha$>')\n",
    "ax1.set_ylabel(r'$\\sigma_{\\rm EWH\\alpha}$')\n",
    "\n",
    "ax2.scatter(abs(mean_compatible),std_compatible,c=abs(std_compatible/mean_compatible),s=4,vmin=0,vmax=1.2)\n",
    "ax2.plot(x,y,'k-')\n",
    "ax2.set_xlim(-2,20)\n",
    "ax2.set_ylim(-0.2,8)\n",
    "ax2.set_xlabel(r'<EWH$\\alpha$>')\n",
    "\n",
    "plt.colorbar(cax,label=r'$\\sigma_{\\rm EWH\\alpha}$/<EWH$\\alpha$>')\n",
    "plt.tight_layout()\n",
    "plt.show()"
   ]
  },
  {
   "cell_type": "code",
   "execution_count": 45,
   "metadata": {},
   "outputs": [],
   "source": [
    "literature_search['ewha_all'] = literature_search['ewha']\n",
    "literature_search['ewha_error_all'] = literature_search['ewha_error']\n",
    "literature_search['ewha'][~mask_compatible] = np.nan\n",
    "literature_search['ewha_error'][~mask_compatible] = np.nan"
   ]
  },
  {
   "cell_type": "code",
   "execution_count": 17,
   "metadata": {},
   "outputs": [],
   "source": [
    "literature_search['same_star'] = same_star"
   ]
  },
  {
   "cell_type": "code",
   "execution_count": 18,
   "metadata": {},
   "outputs": [],
   "source": [
    "literature_search.sort(['source_ref', 'ra', 'dec'])"
   ]
  },
  {
   "cell_type": "code",
   "execution_count": 19,
   "metadata": {},
   "outputs": [
    {
     "data": {
      "text/plain": [
       "83985"
      ]
     },
     "execution_count": 19,
     "metadata": {},
     "output_type": "execute_result"
    }
   ],
   "source": [
    "len(literature_search[~np.isnan(literature_search['ewha'])])"
   ]
  },
  {
   "cell_type": "code",
   "execution_count": 23,
   "metadata": {},
   "outputs": [
    {
     "data": {
      "text/plain": [
       "(array([1.0000e+00, 1.7000e+01, 2.9000e+01, 1.2600e+02, 1.2000e+02,\n",
       "        2.2400e+02, 4.5910e+03, 1.4785e+04, 2.0240e+04, 1.5888e+04,\n",
       "        1.1515e+04, 8.8870e+03, 3.8400e+03, 9.2700e+02, 2.5300e+02,\n",
       "        8.7000e+01, 1.6000e+01, 8.0000e+00, 3.0000e+00]),\n",
       " array([0.        , 0.13157895, 0.26315789, 0.39473684, 0.52631579,\n",
       "        0.65789474, 0.78947368, 0.92105263, 1.05263158, 1.18421053,\n",
       "        1.31578947, 1.44736842, 1.57894737, 1.71052632, 1.84210526,\n",
       "        1.97368421, 2.10526316, 2.23684211, 2.36842105, 2.5       ]),\n",
       " <a list of 19 Patch objects>)"
      ]
     },
     "execution_count": 23,
     "metadata": {},
     "output_type": "execute_result"
    },
    {
     "data": {
      "image/png": "[encoded data removed]",
      "text/plain": [
       "<Figure size 432x288 with 1 Axes>"
      ]
     },
     "metadata": {
      "needs_background": "light"
     },
     "output_type": "display_data"
    }
   ],
   "source": [
    "color = literature_search['phot_g_mean_mag'] - literature_search['phot_rp_mean_mag']\n",
    "x = np.linspace(0,2.5,20)\n",
    "plt.hist(color,bins=x)\n",
    "plt.hist(color[mask_compatible],bins=x)"
   ]
  },
  {
   "cell_type": "code",
   "execution_count": 32,
   "metadata": {},
   "outputs": [
    {
     "data": {
      "text/html": [
       "<i>Table length=86802</i>\n",
       "<table id=\"table4795353688\" class=\"table-striped table-bordered table-condensed\">\n",
       "<thead><tr><th>ra</th><th>dec</th><th>spt</th><th>ewha</th><th>ewha_error</th><th>lhalbol</th><th>lhalbol_error</th><th>age</th><th>age_error</th><th>group_num</th><th>group_name</th><th>source_num</th><th>source_ref</th><th>ewha_all</th><th>ewha_error_all</th><th>same_star</th></tr></thead>\n",
       "<thead><tr><th>float64</th><th>float64</th><th>float64</th><th>float64</th><th>float64</th><th>float64</th><th>float64</th><th>float64</th><th>float64</th><th>float64</th><th>bytes32</th><th>float64</th><th>bytes20</th><th>float64</th><th>float64</th><th>float64</th></tr></thead>\n",
       "<tr><td>1.9275999999999998</td><td>60.381787499999994</td><td>nan</td><td>5.638999938964844</td><td>0.4000000059604645</td><td>nan</td><td>nan</td><td>nan</td><td>nan</td><td>nan</td><td>nan</td><td>0.0</td><td>Alonso-Floriano 2015</td><td>5.638999938964844</td><td>0.4000000059604645</td><td>1.0</td></tr>\n",
       "<tr><td>2.8825499999999997</td><td>59.14442777777777</td><td>nan</td><td>0.9769999980926514</td><td>0.4000000059604645</td><td>nan</td><td>nan</td><td>nan</td><td>nan</td><td>nan</td><td>nan</td><td>0.0</td><td>Alonso-Floriano 2015</td><td>0.9769999980926514</td><td>0.4000000059604645</td><td>2.0</td></tr>\n",
       "<tr><td>2.9710166666666664</td><td>22.984545833333332</td><td>nan</td><td>-0.02800000086426735</td><td>0.20000000298023224</td><td>nan</td><td>nan</td><td>nan</td><td>nan</td><td>nan</td><td>nan</td><td>0.0</td><td>Alonso-Floriano 2015</td><td>-0.02800000086426735</td><td>0.20000000298023224</td><td>3.0</td></tr>\n",
       "<tr><td>2.9851666666666663</td><td>33.05468</td><td>nan</td><td>-0.210999995470047</td><td>0.20000000298023224</td><td>nan</td><td>nan</td><td>nan</td><td>nan</td><td>nan</td><td>nan</td><td>0.0</td><td>Alonso-Floriano 2015</td><td>-0.210999995470047</td><td>0.20000000298023224</td><td>4.0</td></tr>\n",
       "<tr><td>4.0608958333333325</td><td>19.86043611111111</td><td>nan</td><td>3.628000020980835</td><td>0.4000000059604645</td><td>nan</td><td>nan</td><td>nan</td><td>nan</td><td>nan</td><td>nan</td><td>0.0</td><td>Alonso-Floriano 2015</td><td>3.628000020980835</td><td>0.4000000059604645</td><td>5.0</td></tr>\n",
       "<tr><td>7.839783333333332</td><td>0.1581936111111111</td><td>nan</td><td>-0.11999999731779099</td><td>0.10000000149011612</td><td>nan</td><td>nan</td><td>nan</td><td>nan</td><td>nan</td><td>nan</td><td>0.0</td><td>Alonso-Floriano 2015</td><td>-0.11999999731779099</td><td>0.10000000149011612</td><td>0.0</td></tr>\n",
       "<tr><td>11.624799999999999</td><td>50.64408333333333</td><td>nan</td><td>-0.02800000086426735</td><td>0.20000000298023224</td><td>nan</td><td>nan</td><td>nan</td><td>nan</td><td>nan</td><td>nan</td><td>0.0</td><td>Alonso-Floriano 2015</td><td>-0.02800000086426735</td><td>0.20000000298023224</td><td>6.0</td></tr>\n",
       "<tr><td>11.680691666666664</td><td>-4.412718055555555</td><td>nan</td><td>0.2460000067949295</td><td>0.30000001192092896</td><td>nan</td><td>nan</td><td>nan</td><td>nan</td><td>nan</td><td>nan</td><td>0.0</td><td>Alonso-Floriano 2015</td><td>0.2460000067949295</td><td>0.30000001192092896</td><td>0.0</td></tr>\n",
       "<tr><td>12.123845833333332</td><td>75.31335416666666</td><td>nan</td><td>0.5199999809265137</td><td>0.30000001192092896</td><td>nan</td><td>nan</td><td>nan</td><td>nan</td><td>nan</td><td>nan</td><td>0.0</td><td>Alonso-Floriano 2015</td><td>0.5199999809265137</td><td>0.30000001192092896</td><td>7.0</td></tr>\n",
       "<tr><td>15.810195833333331</td><td>71.22020083333332</td><td>nan</td><td>0.06300000101327896</td><td>0.4000000059604645</td><td>nan</td><td>nan</td><td>nan</td><td>nan</td><td>nan</td><td>nan</td><td>0.0</td><td>Alonso-Floriano 2015</td><td>0.06300000101327896</td><td>0.4000000059604645</td><td>8.0</td></tr>\n",
       "<tr><td>...</td><td>...</td><td>...</td><td>...</td><td>...</td><td>...</td><td>...</td><td>...</td><td>...</td><td>...</td><td>...</td><td>...</td><td>...</td><td>...</td><td>...</td><td>...</td></tr>\n",
       "<tr><td>127.63568749999999</td><td>9.787608888888888</td><td>nan</td><td>29.41900062561035</td><td>3.8239998817443848</td><td>nan</td><td>nan</td><td>nan</td><td>nan</td><td>nan</td><td>nan</td><td>57.0</td><td>West 2011</td><td>29.41900062561035</td><td>3.8239998817443848</td><td>0.0</td></tr>\n",
       "<tr><td>135.5288125</td><td>0.5554252777777777</td><td>nan</td><td>14.559000015258789</td><td>2.1419999599456787</td><td>nan</td><td>nan</td><td>nan</td><td>nan</td><td>nan</td><td>nan</td><td>57.0</td><td>West 2011</td><td>14.559000015258789</td><td>2.1419999599456787</td><td>2402.0</td></tr>\n",
       "<tr><td>150.55079166666664</td><td>63.823946111111105</td><td>nan</td><td>3.0309998989105225</td><td>0.5799999833106995</td><td>nan</td><td>nan</td><td>nan</td><td>nan</td><td>nan</td><td>nan</td><td>57.0</td><td>West 2011</td><td>3.0309998989105225</td><td>0.5799999833106995</td><td>2414.0</td></tr>\n",
       "<tr><td>162.6341833333333</td><td>49.128380833333324</td><td>nan</td><td>6.122000217437744</td><td>1.0080000162124634</td><td>nan</td><td>nan</td><td>nan</td><td>nan</td><td>nan</td><td>nan</td><td>57.0</td><td>West 2011</td><td>6.122000217437744</td><td>1.0080000162124634</td><td>2429.0</td></tr>\n",
       "<tr><td>163.94723333333332</td><td>8.145225277777778</td><td>nan</td><td>1.6640000343322754</td><td>0.2680000066757202</td><td>nan</td><td>nan</td><td>nan</td><td>nan</td><td>nan</td><td>nan</td><td>57.0</td><td>West 2011</td><td>1.6640000343322754</td><td>0.2680000066757202</td><td>2430.0</td></tr>\n",
       "<tr><td>169.94363749999997</td><td>8.343239444444443</td><td>nan</td><td>0.6320000290870667</td><td>0.1589999943971634</td><td>nan</td><td>nan</td><td>nan</td><td>nan</td><td>nan</td><td>nan</td><td>57.0</td><td>West 2011</td><td>0.6320000290870667</td><td>0.1589999943971634</td><td>2435.0</td></tr>\n",
       "<tr><td>180.39026249999998</td><td>40.779640833333325</td><td>nan</td><td>15.993000030517578</td><td>2.2950000762939453</td><td>nan</td><td>nan</td><td>nan</td><td>nan</td><td>nan</td><td>nan</td><td>57.0</td><td>West 2011</td><td>15.993000030517578</td><td>2.2950000762939453</td><td>2445.0</td></tr>\n",
       "<tr><td>193.09434166666665</td><td>2.8682838888888886</td><td>nan</td><td>3.7139999866485596</td><td>0.5479999780654907</td><td>nan</td><td>nan</td><td>nan</td><td>nan</td><td>nan</td><td>nan</td><td>57.0</td><td>West 2011</td><td>3.7139999866485596</td><td>0.5479999780654907</td><td>2453.0</td></tr>\n",
       "<tr><td>195.58670833333332</td><td>32.45290249999999</td><td>nan</td><td>3.98799991607666</td><td>0.4390000104904175</td><td>nan</td><td>nan</td><td>nan</td><td>nan</td><td>nan</td><td>nan</td><td>57.0</td><td>West 2011</td><td>3.98799991607666</td><td>0.4390000104904175</td><td>2455.0</td></tr>\n",
       "<tr><td>225.10978749999998</td><td>-0.6577969444444444</td><td>nan</td><td>8.053000450134277</td><td>0.8230000138282776</td><td>nan</td><td>nan</td><td>nan</td><td>nan</td><td>nan</td><td>nan</td><td>57.0</td><td>West 2011</td><td>8.053000450134277</td><td>0.8230000138282776</td><td>2463.0</td></tr>\n",
       "</table>"
      ],
      "text/plain": [
       "<Table length=86802>\n",
       "        ra                 dec           spt   ...    ewha_error_all   same_star\n",
       "     float64             float64       float64 ...       float64        float64 \n",
       "------------------ ------------------- ------- ... ------------------- ---------\n",
       "1.9275999999999998  60.381787499999994     nan ...  0.4000000059604645       1.0\n",
       "2.8825499999999997   59.14442777777777     nan ...  0.4000000059604645       2.0\n",
       "2.9710166666666664  22.984545833333332     nan ... 0.20000000298023224       3.0\n",
       "2.9851666666666663            33.05468     nan ... 0.20000000298023224       4.0\n",
       "4.0608958333333325   19.86043611111111     nan ...  0.4000000059604645       5.0\n",
       " 7.839783333333332  0.1581936111111111     nan ... 0.10000000149011612       0.0\n",
       "11.624799999999999   50.64408333333333     nan ... 0.20000000298023224       6.0\n",
       "11.680691666666664  -4.412718055555555     nan ... 0.30000001192092896       0.0\n",
       "12.123845833333332   75.31335416666666     nan ... 0.30000001192092896       7.0\n",
       "15.810195833333331   71.22020083333332     nan ...  0.4000000059604645       8.0\n",
       "               ...                 ...     ... ...                 ...       ...\n",
       "127.63568749999999   9.787608888888888     nan ...  3.8239998817443848       0.0\n",
       "       135.5288125  0.5554252777777777     nan ...  2.1419999599456787    2402.0\n",
       "150.55079166666664  63.823946111111105     nan ...  0.5799999833106995    2414.0\n",
       " 162.6341833333333  49.128380833333324     nan ...  1.0080000162124634    2429.0\n",
       "163.94723333333332   8.145225277777778     nan ...  0.2680000066757202    2430.0\n",
       "169.94363749999997   8.343239444444443     nan ...  0.1589999943971634    2435.0\n",
       "180.39026249999998  40.779640833333325     nan ...  2.2950000762939453    2445.0\n",
       "193.09434166666665  2.8682838888888886     nan ...  0.5479999780654907    2453.0\n",
       "195.58670833333332   32.45290249999999     nan ...  0.4390000104904175    2455.0\n",
       "225.10978749999998 -0.6577969444444444     nan ...  0.8230000138282776    2463.0"
      ]
     },
     "execution_count": 32,
     "metadata": {},
     "output_type": "execute_result"
    }
   ],
   "source": [
    "literature_search"
   ]
  },
  {
   "cell_type": "code",
   "execution_count": 24,
   "metadata": {},
   "outputs": [],
   "source": [
    "literature_search.write('Catalogs/literature_search_compatible.fits',format='fits',overwrite=True)"
   ]
  },
  {
   "cell_type": "code",
   "execution_count": 215,
   "metadata": {},
   "outputs": [],
   "source": [
    "os.remove('/Users/rociokiman/Dropbox/Apps/Overleaf/Age-Activity Relation for M dwarfs/sources_summary.tex')\n",
    "file_sources = open('/Users/rociokiman/Dropbox/Apps/Overleaf/Age-Activity Relation for M dwarfs/sources_summary.tex','x')"
   ]
  },
  {
   "cell_type": "code",
   "execution_count": 216,
   "metadata": {},
   "outputs": [
    {
     "data": {
      "text/plain": [
       "19"
      ]
     },
     "execution_count": 216,
     "metadata": {},
     "output_type": "execute_result"
    }
   ],
   "source": [
    "Ntot = len(ra)\n",
    "Ncomp = len(ra[mask_compatible])\n",
    "n_sources = len(source_ref_table['source_ref'])\n",
    "total_incompatible = 0\n",
    "papers_notes = 'Other works checked in literature search but were considered incompatible: '\n",
    "#Header\n",
    "file_sources.write('\\\\begin{deluxetable*}{ccccc}[ht!]\\n')\n",
    "file_sources.write('\\\\tablewidth{290pt}\\n')\n",
    "file_sources.write('\\\\tabletypesize{\\scriptsize}\\n')\n",
    "file_sources.write('\\\\tablecaption{Compatible references for $\\haew$. \\\\label{table:source_ref}}\\n')\n",
    "file_sources.write('\\\\tablehead{\\\\colhead{Reference \\\\tablenotemark{a}} & \\\\colhead{Resolution} & \\\\colhead{$N$ Stars} & \\\\colhead{$N$ Stars Compatible} & \\\\colhead{OC \\\\tablenotemark{b}} \\\\\\ & & Total='+str(Ncomp) +'& &\\n}')\n",
    "file_sources.write('\\\\startdata \\n')\n",
    "\n",
    "for i in range(n_sources):\n",
    "    if i in compatible:\n",
    "        mask = i == compatible\n",
    "        compatible_i = int(total_comp[mask][0])\n",
    "        order_i = int(order[mask][0])\n",
    "    else:\n",
    "        compatible_i = 0\n",
    "        order_i = '-'\n",
    "    n_i = len(ra[source_num == i])\n",
    "    if(n_i!=0 and compatible_i!=0):\n",
    "        file_sources.write('{}&{}&{}&{}&{}\\\\\\ \\n'.format(source_ref_table['cite'][i],source_ref_table['resolution'][i],\n",
    "                                               n_i,compatible_i,order_i)) \n",
    "    elif(compatible_i==0):\n",
    "        total_incompatible += n_i\n",
    "        papers_notes = papers_notes + source_ref_table['cite'][i] + ', '\n",
    "file_sources.write('\\\\enddata \\n')\n",
    "file_sources.write('\\\\tablenotetext{a}{'+ papers_notes +'.}\\n')\n",
    "file_sources.write('\\\\tablenotetext{b}{Order of compatibility. Order 1 is compatible with \\\\citet{Kiman2019}. Order 2 are compatible with order 1 catalogs.}\\n')\n",
    "file_sources.write('\\\\end{deluxetable*}\\n')"
   ]
  },
  {
   "cell_type": "code",
   "execution_count": 217,
   "metadata": {},
   "outputs": [],
   "source": [
    "file_sources.close()"
   ]
  },
  {
   "cell_type": "code",
   "execution_count": null,
   "metadata": {},
   "outputs": [],
   "source": []
  },
  {
   "cell_type": "code",
   "execution_count": null,
   "metadata": {},
   "outputs": [],
   "source": []
  },
  {
   "cell_type": "code",
   "execution_count": null,
   "metadata": {},
   "outputs": [],
   "source": []
  },
  {
   "cell_type": "code",
   "execution_count": null,
   "metadata": {},
   "outputs": [],
   "source": []
  },
  {
   "cell_type": "code",
   "execution_count": null,
   "metadata": {},
   "outputs": [],
   "source": []
  },
  {
   "cell_type": "code",
   "execution_count": 12,
   "metadata": {},
   "outputs": [
    {
     "data": {
      "text/plain": [
       "\"#Define a new table to sort by ra and dec\\nliterature_search_sorted = literature_search\\n#Define number id that helps identify each star\\nliterature_search_sorted['extra_id'] = np.arange(len(literature_search['ra']))\\n#Sort new table\\nliterature_search_sorted.sort(('ra','dec'))\\n#index to sent arrays to original state\\nidx = np.argsort(literature_search_sorted['extra_id'])\\n#New arrays ra,dec sorted\\nra_sorted = literature_search_sorted['ra']\\ndec_sorted = literature_search_sorted['dec']\\n\\n#Defines an array that is going to indicate which stars are the same. \\n#Having the same number in same_star_sorted means they are the same star.\\nsame_star_sorted = np.zeros(len(ra_sorted))\\ndummy = 1\\nfor i in range(len(ra_sorted)-1):\\n    c1 = SkyCoord(ra=ra_sorted[i]*u.deg, dec=dec_sorted[i]*u.deg)\\n    c2 = SkyCoord(ra=ra_sorted[i+1]*u.deg, dec=dec_sorted[i+1]*u.deg)\\n    separation = c1.separation(c2).arcsec\\n    if(separation <= 5):\\n        same_star_sorted[i] = dummy\\n        same_star_sorted[i+1] = dummy\\n    else:\\n        dummy +=1\\n\\nsame_star = same_star_sorted[idx]\\n\""
      ]
     },
     "execution_count": 12,
     "metadata": {},
     "output_type": "execute_result"
    }
   ],
   "source": [
    "'''#Define a new table to sort by ra and dec\n",
    "literature_search_sorted = literature_search\n",
    "#Define number id that helps identify each star\n",
    "literature_search_sorted['extra_id'] = np.arange(len(literature_search['ra']))\n",
    "#Sort new table\n",
    "literature_search_sorted.sort(('ra','dec'))\n",
    "#index to sent arrays to original state\n",
    "idx = np.argsort(literature_search_sorted['extra_id'])\n",
    "#New arrays ra,dec sorted\n",
    "ra_sorted = literature_search_sorted['ra']\n",
    "dec_sorted = literature_search_sorted['dec']\n",
    "\n",
    "#Defines an array that is going to indicate which stars are the same. \n",
    "#Having the same number in same_star_sorted means they are the same star.\n",
    "same_star_sorted = np.zeros(len(ra_sorted))\n",
    "dummy = 1\n",
    "for i in range(len(ra_sorted)-1):\n",
    "    c1 = SkyCoord(ra=ra_sorted[i]*u.deg, dec=dec_sorted[i]*u.deg)\n",
    "    c2 = SkyCoord(ra=ra_sorted[i+1]*u.deg, dec=dec_sorted[i+1]*u.deg)\n",
    "    separation = c1.separation(c2).arcsec\n",
    "    if(separation <= 5):\n",
    "        same_star_sorted[i] = dummy\n",
    "        same_star_sorted[i+1] = dummy\n",
    "    else:\n",
    "        dummy +=1\n",
    "\n",
    "same_star = same_star_sorted[idx]\n",
    "'''\n"
   ]
  }
 ],
 "metadata": {
  "kernelspec": {
   "display_name": "Python 3",
   "language": "python",
   "name": "python3"
  },
  "language_info": {
   "codemirror_mode": {
    "name": "ipython",
    "version": 3
   },
   "file_extension": ".py",
   "mimetype": "text/x-python",
   "name": "python",
   "nbconvert_exporter": "python",
   "pygments_lexer": "ipython3",
   "version": "3.7.3"
  }
 },
 "nbformat": 4,
 "nbformat_minor": 2
}
